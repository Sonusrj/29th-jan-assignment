{
 "cells": [
  {
   "cell_type": "markdown",
   "id": "8f9ff9a5-dfc2-487a-9e82-3db1432ce02a",
   "metadata": {},
   "source": [
    "#### Question 1.\n"
   ]
  },
  {
   "cell_type": "code",
   "execution_count": 19,
   "id": "0569c2a9-0d25-4f78-afe1-f0d6be1ee9f9",
   "metadata": {},
   "outputs": [
    {
     "data": {
      "text/plain": [
       "(1, 'samasung', 15000)"
      ]
     },
     "execution_count": 19,
     "metadata": {},
     "output_type": "execute_result"
    }
   ],
   "source": [
    "\"\"\"\n",
    "class: In Oops, a class is a blueprint for creating object ,providing initial value/attributes and\n",
    "implemnentation of behavior \n",
    "\n",
    "object: An object is an instance of a class and can be thought of a a specific example of class.\n",
    "\"\"\"\n",
    "\n",
    "class mobile:\n",
    "    def __init__(self,mod_no,company,price):\n",
    "        self.mod_no = mod_no\n",
    "        self.company= company\n",
    "        self.price=price\n",
    "    \n",
    "    def return_details(self):\n",
    "        return self.mod_no,self.company,self.price\n",
    "    \n",
    "m1= mobile(1,\"samasung\",15000)\n",
    "m1.return_details()\n",
    "        "
   ]
  },
  {
   "cell_type": "markdown",
   "id": "5a3cf40a-c2e6-494a-a702-3890138c307a",
   "metadata": {},
   "source": [
    "#### Question 2."
   ]
  },
  {
   "cell_type": "markdown",
   "id": "5f6b0097-25cc-4780-972c-8b38af818374",
   "metadata": {},
   "source": [
    "The four pillars of Oops are:\n",
    "\n",
    "1.`Abstraction`: It involeves hidind implementation details of an object and exposing only essential features to the user.\n",
    "\n",
    "2.`Encapsulation`:This involves wrapping data and function within object, making it self contained and separate from other parts of the program.\n",
    "\n",
    "3.`Inheritance`:  This invloves creating new classes that are derived from exixting classes. The new classes inherit the attributes and behaviors of the existing class, but can also have their own unique features.\n",
    "\n",
    "4.`Polymorphism`: This involves creating object that can take on multiple forms. This allows object to be treated as object of their basse class, while reataining their unique characteristics"
   ]
  },
  {
   "cell_type": "markdown",
   "id": "6ca22e23-3286-4e83-bd0a-b92f0dc60f3e",
   "metadata": {},
   "source": [
    "#### Question 3."
   ]
  },
  {
   "cell_type": "code",
   "execution_count": 35,
   "id": "f28df7d2-c746-425f-8a6c-9fced54d2da5",
   "metadata": {},
   "outputs": [
    {
     "data": {
      "text/plain": [
       "('Toyota', 1, 'Black')"
      ]
     },
     "execution_count": 35,
     "metadata": {},
     "output_type": "execute_result"
    }
   ],
   "source": [
    "\"\"\"\n",
    "The __init__() is called constructor , it is special method that the program calls upon an object's creation. the constructor\n",
    "is used in the classs to initialize data member to the object\n",
    "\"\"\"\n",
    "class car:\n",
    "    def __init__(self,color,model,company):\n",
    "        self.color=color\n",
    "        self.model=model\n",
    "        self.company=company\n",
    "        \n",
    "    def return_value(self):\n",
    "        return self.company,self.model,self.color\n",
    "        \n",
    "c= car(\"Black\", 1,\"Toyota\")\n",
    "c.return_value()\n",
    "\n",
    "\n",
    "# In the above example the__init__() function is used to\n",
    "# take three arguments and sets the values as arguments .\n"
   ]
  },
  {
   "cell_type": "markdown",
   "id": "3494b63a-04bf-44ca-9d01-509e8c308930",
   "metadata": {},
   "source": [
    "#### Question 4"
   ]
  },
  {
   "cell_type": "markdown",
   "id": "a4d84a4a-612d-4920-8be3-694d58917735",
   "metadata": {},
   "source": [
    "The `self` is used in Oops to refer the instance of the object that a method is being  is being called on.\n"
   ]
  },
  {
   "cell_type": "markdown",
   "id": "8982b949-9cf1-4ee2-86ff-e2ca1c799328",
   "metadata": {},
   "source": [
    "#### Question 5"
   ]
  },
  {
   "cell_type": "markdown",
   "id": "3eaf497e-14bb-4d07-9561-7197c13bc799",
   "metadata": {},
   "source": [
    " `Inheritance`:\n",
    " This invloves creating new classes that are derived from exixting classes. The new classes inherit the attributes and behaviors of the existing class, but can also have their own unique features.\n",
    " \n",
    " `Types of inheritance`:\n",
    " 1) Single inheritance\n",
    " 2) Multiple inheritance\n",
    " 3) Multilevel inheritace\n",
    " "
   ]
  },
  {
   "cell_type": "code",
   "execution_count": 39,
   "id": "e0d0c045-73c5-430a-9cd7-4d6410f0bacd",
   "metadata": {},
   "outputs": [
    {
     "name": "stdout",
     "output_type": "stream",
     "text": [
      "Bark\n"
     ]
    }
   ],
   "source": [
    "#1 singel inheritance\n",
    "class Animal:\n",
    "    def __init__(self, species):\n",
    "        self.species = species\n",
    "\n",
    "    def make_sound(self):\n",
    "        print(\"Animal Sound\")\n",
    "\n",
    "class Dog(Animal):\n",
    "    def __init__(self, breed):\n",
    "        Animal.__init__(self, \"Dog\")\n",
    "        self.breed = breed\n",
    "\n",
    "    def make_sound(self):\n",
    "        print(\"Bark\")\n",
    "\n",
    "dog = Dog(\"Labrador\")\n",
    "dog.make_sound()\n",
    "\n",
    "# here the dog class inherits from animal"
   ]
  },
  {
   "cell_type": "code",
   "execution_count": 40,
   "id": "6698ab94-7ecd-4101-8f8d-612c327d9a22",
   "metadata": {},
   "outputs": [
    {
     "name": "stdout",
     "output_type": "stream",
     "text": [
      "Bark\n"
     ]
    }
   ],
   "source": [
    "#2 multple inheritance\n",
    "class Animal:\n",
    "    def __init__(self, species):\n",
    "        self.species = species\n",
    "\n",
    "class Sound:\n",
    "    def make_sound(self):\n",
    "        print(\"Animal Sound\")\n",
    "\n",
    "class Dog(Animal, Sound):\n",
    "    def __init__(self, breed):\n",
    "        Animal.__init__(self, \"Dog\")\n",
    "        self.breed = breed\n",
    "\n",
    "    def make_sound(self):\n",
    "        print(\"Bark\")\n",
    "\n",
    "dog = Dog(\"Labrador\")\n",
    "dog.make_sound()\n",
    "\n",
    "# here dog class inherits from both animal and sound"
   ]
  },
  {
   "cell_type": "code",
   "execution_count": 42,
   "id": "63d85579-511c-4703-a444-d2eedbf4d0e1",
   "metadata": {},
   "outputs": [
    {
     "name": "stdout",
     "output_type": "stream",
     "text": [
      "Bark\n"
     ]
    }
   ],
   "source": [
    "class Animal:\n",
    "    def __init__(self, species):\n",
    "        self.species = species\n",
    "\n",
    "class Sound:\n",
    "    def make_sound(self):\n",
    "        print(\"Animal Sound\")\n",
    "\n",
    "class Dog(Sound):\n",
    "    def __init__(self, breed):\n",
    "        self.breed = breed\n",
    "\n",
    "    def make_sound(self):\n",
    "        print(\"Bark\")\n",
    "\n",
    "class Labrador(Dog, Animal):\n",
    "    def __init__(self):\n",
    "        Animal.__init__(self, \"Labrador\")\n",
    "        Dog.__init__(self, \"Labrador\")\n",
    "\n",
    "labrador = Labrador()\n",
    "labrador.make_sound()\n"
   ]
  },
  {
   "cell_type": "code",
   "execution_count": null,
   "id": "2837797f-7485-4e6f-abd4-8bae5cbb68ab",
   "metadata": {},
   "outputs": [],
   "source": []
  }
 ],
 "metadata": {
  "kernelspec": {
   "display_name": "Python 3 (ipykernel)",
   "language": "python",
   "name": "python3"
  },
  "language_info": {
   "codemirror_mode": {
    "name": "ipython",
    "version": 3
   },
   "file_extension": ".py",
   "mimetype": "text/x-python",
   "name": "python",
   "nbconvert_exporter": "python",
   "pygments_lexer": "ipython3",
   "version": "3.10.8"
  }
 },
 "nbformat": 4,
 "nbformat_minor": 5
}
