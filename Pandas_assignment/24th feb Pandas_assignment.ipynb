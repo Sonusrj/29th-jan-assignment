{
 "cells": [
  {
   "cell_type": "markdown",
   "id": "98ace836-a1dc-4330-9b30-955278d3992f",
   "metadata": {},
   "source": [
    "<h3>Q1. List any five functions of the pandas library with execution"
   ]
  },
  {
   "cell_type": "markdown",
   "id": "f5feaa1a-4dca-499d-b4bc-49991fcadc19",
   "metadata": {},
   "source": [
    "1. `groupby()`:\n",
    "The groupby() function is used to group data in a pandas DataFrame based on one or more columns. It allows you to split the data into groups based on a criterion and perform operations on each group independently."
   ]
  },
  {
   "cell_type": "code",
   "execution_count": 1,
   "id": "0db1cfe8-90ff-4a25-af83-a3177e72feb3",
   "metadata": {},
   "outputs": [
    {
     "name": "stdout",
     "output_type": "stream",
     "text": [
      "City\n",
      "London      60\n",
      "New York    25\n",
      "Paris       57\n",
      "Name: Age, dtype: int64\n"
     ]
    }
   ],
   "source": [
    "import pandas as pd\n",
    "\n",
    "\n",
    "data = {'Name': ['John', 'Alice', 'Bob', 'Alice', 'John'],\n",
    "        'City': ['New York', 'London', 'Paris', 'London', 'Paris'],\n",
    "        'Age': [25, 28, 30, 32, 27]}\n",
    "df = pd.DataFrame(data)\n",
    "\n",
    "# Group the DataFrame by 'City' column\n",
    "grouped_data = df.groupby('City')\n",
    "\n",
    "\n",
    "sum_age = grouped_data['Age'].sum()\n",
    "print(sum_age)\n"
   ]
  },
  {
   "cell_type": "markdown",
   "id": "5cd0e943-0804-422c-9d0e-949bf8f0a35f",
   "metadata": {},
   "source": [
    "2.`concat()`:\n",
    "The concat() function is used to concatenate pandas objects, such as DataFrames or Series, along a particular axis (rows or columns). It allows you to combine multiple data sources into a single DataFrame."
   ]
  },
  {
   "cell_type": "code",
   "execution_count": 2,
   "id": "6679ff8f-918f-478c-b511-85f3f45001b5",
   "metadata": {},
   "outputs": [
    {
     "name": "stdout",
     "output_type": "stream",
     "text": [
      "   A  B  A   B\n",
      "0  1  4  7  10\n",
      "1  2  5  8  11\n",
      "2  3  6  9  12\n"
     ]
    }
   ],
   "source": [
    "\n",
    "df1 = pd.DataFrame({'A': [1, 2, 3], 'B': [4, 5, 6]})\n",
    "df2 = pd.DataFrame({'A': [7, 8, 9], 'B': [10, 11, 12]})\n",
    "\n",
    "\n",
    "result = pd.concat([df1, df2], axis=1)\n",
    "print(result)\n"
   ]
  },
  {
   "cell_type": "markdown",
   "id": "66e955a9-0129-48fd-9d0c-26a6bb2b76b5",
   "metadata": {},
   "source": [
    "3. `merge()`:\n",
    "The merge() function is used to merge two or more DataFrames based on a common column or index. It allows you to combine data from different sources by aligning the data based on matching values in the specified column(s)."
   ]
  },
  {
   "cell_type": "code",
   "execution_count": 3,
   "id": "78b20173-3c98-42fc-93b8-a21a8d803582",
   "metadata": {},
   "outputs": [
    {
     "name": "stdout",
     "output_type": "stream",
     "text": [
      "   ID   Name  Age\n",
      "0   2  Alice   25\n",
      "1   3    Bob   30\n"
     ]
    }
   ],
   "source": [
    "df1 = pd.DataFrame({'ID': [1, 2, 3],\n",
    "                    'Name': ['John', 'Alice', 'Bob']})\n",
    "df2 = pd.DataFrame({'ID': [2, 3, 4],\n",
    "                    'Age': [25, 30, 35]})\n",
    "\n",
    "# Merge the DataFrames based on 'ID' column\n",
    "merged_data = pd.merge(df1, df2, on='ID')\n",
    "print(merged_data)\n"
   ]
  },
  {
   "cell_type": "markdown",
   "id": "2fdf5042-db5a-47b3-bfa8-ed6158559c2c",
   "metadata": {},
   "source": [
    "4. `join()`:\n",
    " The join() function is used to join two DataFrames based on their indexes. It combines the columns of two DataFrames into a single DataFrame based on the shared index values."
   ]
  },
  {
   "cell_type": "code",
   "execution_count": 4,
   "id": "a1d78a95-c170-4a68-89c3-4d5b64dd7ea2",
   "metadata": {},
   "outputs": [
    {
     "name": "stdout",
     "output_type": "stream",
     "text": [
      "   A  B    C     D\n",
      "X  1  4  NaN   NaN\n",
      "Y  2  5  7.0  10.0\n",
      "Z  3  6  8.0  11.0\n"
     ]
    }
   ],
   "source": [
    "df1 = pd.DataFrame({'A': [1, 2, 3], \n",
    "                    'B': [4, 5, 6]}, \n",
    "                   index=['X', 'Y', 'Z'])\n",
    "df2 = pd.DataFrame({'C': [7, 8, 9], \n",
    "                    'D': [10, 11, 12]}, \n",
    "                   index=['Y', 'Z', 'W'])\n",
    "\n",
    "# Join the DataFrames based on their indexes\n",
    "joined_data = df1.join(df2)\n",
    "print(joined_data)\n"
   ]
  },
  {
   "cell_type": "markdown",
   "id": "b1225cc9-3b24-427f-8ffd-9c34ebf81535",
   "metadata": {},
   "source": [
    "5.`drop()`:\n",
    "The drop() function is used to remove specified rows or columns from a DataFrame. It allows you to eliminate unwanted data from your DataFrame."
   ]
  },
  {
   "cell_type": "code",
   "execution_count": 5,
   "id": "8edb0cd2-a856-44b7-8c98-0cc52e417a52",
   "metadata": {},
   "outputs": [
    {
     "name": "stdout",
     "output_type": "stream",
     "text": [
      "   A  C\n",
      "0  1  7\n",
      "1  2  8\n",
      "2  3  9\n"
     ]
    }
   ],
   "source": [
    "data = {'A': [1, 2, 3], \n",
    "        'B': [4, 5, 6],\n",
    "        'C': [7, 8, 9]}\n",
    "df = pd.DataFrame(data)\n",
    "\n",
    "# Drop column 'B' from the DataFrame\n",
    "df = df.drop('B',axis=1)\n",
    "print(df)\n"
   ]
  },
  {
   "cell_type": "markdown",
   "id": "745e7c24-c2ea-4fdd-8e83-62a75c09ae3d",
   "metadata": {},
   "source": [
    "<h3> Q2. Given a Pandas DataFrame df with columns 'A', 'B', and 'C', write a Python function to re-index the \n",
    "DataFrame with a new index that starts from 1 and increments by 2 for each row"
   ]
  },
  {
   "cell_type": "code",
   "execution_count": 6,
   "id": "5a64a040-6ed1-4a1b-a349-504076eb378d",
   "metadata": {},
   "outputs": [
    {
     "data": {
      "text/html": [
       "<div>\n",
       "<style scoped>\n",
       "    .dataframe tbody tr th:only-of-type {\n",
       "        vertical-align: middle;\n",
       "    }\n",
       "\n",
       "    .dataframe tbody tr th {\n",
       "        vertical-align: top;\n",
       "    }\n",
       "\n",
       "    .dataframe thead th {\n",
       "        text-align: right;\n",
       "    }\n",
       "</style>\n",
       "<table border=\"1\" class=\"dataframe\">\n",
       "  <thead>\n",
       "    <tr style=\"text-align: right;\">\n",
       "      <th></th>\n",
       "      <th>A</th>\n",
       "      <th>B</th>\n",
       "      <th>C</th>\n",
       "    </tr>\n",
       "  </thead>\n",
       "  <tbody>\n",
       "    <tr>\n",
       "      <th>0</th>\n",
       "      <td>1</td>\n",
       "      <td>4</td>\n",
       "      <td>sonu</td>\n",
       "    </tr>\n",
       "    <tr>\n",
       "      <th>1</th>\n",
       "      <td>2</td>\n",
       "      <td>5</td>\n",
       "      <td>seenu</td>\n",
       "    </tr>\n",
       "    <tr>\n",
       "      <th>2</th>\n",
       "      <td>3</td>\n",
       "      <td>6</td>\n",
       "      <td>pwskills</td>\n",
       "    </tr>\n",
       "  </tbody>\n",
       "</table>\n",
       "</div>"
      ],
      "text/plain": [
       "   A  B         C\n",
       "0  1  4      sonu\n",
       "1  2  5     seenu\n",
       "2  3  6  pwskills"
      ]
     },
     "execution_count": 6,
     "metadata": {},
     "output_type": "execute_result"
    }
   ],
   "source": [
    "data = {'A': [1, 2, 3], \n",
    "        'B': [4, 5, 6],\n",
    "        'C': ['sonu', 'seenu', 'pwskills']}\n",
    "df = pd.DataFrame(data)\n",
    "df"
   ]
  },
  {
   "cell_type": "code",
   "execution_count": 7,
   "id": "cc50e227-5e36-4265-9298-e4d30080a020",
   "metadata": {},
   "outputs": [
    {
     "data": {
      "text/html": [
       "<div>\n",
       "<style scoped>\n",
       "    .dataframe tbody tr th:only-of-type {\n",
       "        vertical-align: middle;\n",
       "    }\n",
       "\n",
       "    .dataframe tbody tr th {\n",
       "        vertical-align: top;\n",
       "    }\n",
       "\n",
       "    .dataframe thead th {\n",
       "        text-align: right;\n",
       "    }\n",
       "</style>\n",
       "<table border=\"1\" class=\"dataframe\">\n",
       "  <thead>\n",
       "    <tr style=\"text-align: right;\">\n",
       "      <th></th>\n",
       "      <th>A</th>\n",
       "      <th>B</th>\n",
       "      <th>C</th>\n",
       "    </tr>\n",
       "  </thead>\n",
       "  <tbody>\n",
       "    <tr>\n",
       "      <th>1</th>\n",
       "      <td>1</td>\n",
       "      <td>4</td>\n",
       "      <td>sonu</td>\n",
       "    </tr>\n",
       "    <tr>\n",
       "      <th>3</th>\n",
       "      <td>2</td>\n",
       "      <td>5</td>\n",
       "      <td>seenu</td>\n",
       "    </tr>\n",
       "    <tr>\n",
       "      <th>5</th>\n",
       "      <td>3</td>\n",
       "      <td>6</td>\n",
       "      <td>pwskills</td>\n",
       "    </tr>\n",
       "  </tbody>\n",
       "</table>\n",
       "</div>"
      ],
      "text/plain": [
       "   A  B         C\n",
       "1  1  4      sonu\n",
       "3  2  5     seenu\n",
       "5  3  6  pwskills"
      ]
     },
     "execution_count": 7,
     "metadata": {},
     "output_type": "execute_result"
    }
   ],
   "source": [
    "def re_index(df):\n",
    "    index= pd.RangeIndex(1,len(df)* 2+1,2)\n",
    "    df = df.set_index(index)\n",
    "    return df\n",
    "df2 = re_index(df)\n",
    "df2"
   ]
  },
  {
   "cell_type": "markdown",
   "id": "7e223153-bef0-4aa9-8187-1936c8100112",
   "metadata": {},
   "source": [
    "<h3> Q3. You have a Pandas DataFrame df with a column named 'Values'. Write a Python function that \n",
    "iterates over the DataFrame and calculates the sum of the first three values in the 'Values' column. The \n",
    "function should print the sum to the console.\n",
    "    \n",
    "    \n",
    "\n",
    "For example, if the 'Values' column of df contains the values [10, 20, 30, 40, 50], your function should \n",
    "calculate and print the sum of the first three values, which is 60"
   ]
  },
  {
   "cell_type": "code",
   "execution_count": 8,
   "id": "b52c7d51-dcfa-414f-83ba-2f6e24fddce4",
   "metadata": {},
   "outputs": [
    {
     "data": {
      "text/html": [
       "<div>\n",
       "<style scoped>\n",
       "    .dataframe tbody tr th:only-of-type {\n",
       "        vertical-align: middle;\n",
       "    }\n",
       "\n",
       "    .dataframe tbody tr th {\n",
       "        vertical-align: top;\n",
       "    }\n",
       "\n",
       "    .dataframe thead th {\n",
       "        text-align: right;\n",
       "    }\n",
       "</style>\n",
       "<table border=\"1\" class=\"dataframe\">\n",
       "  <thead>\n",
       "    <tr style=\"text-align: right;\">\n",
       "      <th></th>\n",
       "      <th>values</th>\n",
       "    </tr>\n",
       "  </thead>\n",
       "  <tbody>\n",
       "    <tr>\n",
       "      <th>0</th>\n",
       "      <td>10</td>\n",
       "    </tr>\n",
       "    <tr>\n",
       "      <th>1</th>\n",
       "      <td>20</td>\n",
       "    </tr>\n",
       "    <tr>\n",
       "      <th>2</th>\n",
       "      <td>30</td>\n",
       "    </tr>\n",
       "    <tr>\n",
       "      <th>3</th>\n",
       "      <td>40</td>\n",
       "    </tr>\n",
       "    <tr>\n",
       "      <th>4</th>\n",
       "      <td>50</td>\n",
       "    </tr>\n",
       "  </tbody>\n",
       "</table>\n",
       "</div>"
      ],
      "text/plain": [
       "   values\n",
       "0      10\n",
       "1      20\n",
       "2      30\n",
       "3      40\n",
       "4      50"
      ]
     },
     "execution_count": 8,
     "metadata": {},
     "output_type": "execute_result"
    }
   ],
   "source": [
    "df = pd.DataFrame({'values':[10, 20, 30, 40, 50]})\n",
    "df"
   ]
  },
  {
   "cell_type": "code",
   "execution_count": 9,
   "id": "47e5355a-4987-48ae-993f-f1ed65469270",
   "metadata": {},
   "outputs": [
    {
     "name": "stdout",
     "output_type": "stream",
     "text": [
      "60\n"
     ]
    }
   ],
   "source": [
    "def cal_sum(df):\n",
    "    val=df['values'][:3]\n",
    "    sum_val=sum(val)\n",
    "    print(sum_val)\n",
    "cal_sum(df)   "
   ]
  },
  {
   "cell_type": "markdown",
   "id": "62847de3-c6d9-4671-8253-612c90fafaf1",
   "metadata": {},
   "source": [
    "<h3>Q4. Given a Pandas DataFrame df with a column 'Text', write a Python function to create a new column \n",
    "'Word_Count' that contains the number of words in each row of the 'Text' column"
   ]
  },
  {
   "cell_type": "code",
   "execution_count": 10,
   "id": "3b42f0b2-c3ec-494a-b3df-5bbe6687c64a",
   "metadata": {},
   "outputs": [
    {
     "data": {
      "text/html": [
       "<div>\n",
       "<style scoped>\n",
       "    .dataframe tbody tr th:only-of-type {\n",
       "        vertical-align: middle;\n",
       "    }\n",
       "\n",
       "    .dataframe tbody tr th {\n",
       "        vertical-align: top;\n",
       "    }\n",
       "\n",
       "    .dataframe thead th {\n",
       "        text-align: right;\n",
       "    }\n",
       "</style>\n",
       "<table border=\"1\" class=\"dataframe\">\n",
       "  <thead>\n",
       "    <tr style=\"text-align: right;\">\n",
       "      <th></th>\n",
       "      <th>Text</th>\n",
       "      <th>word_count</th>\n",
       "    </tr>\n",
       "  </thead>\n",
       "  <tbody>\n",
       "    <tr>\n",
       "      <th>0</th>\n",
       "      <td>Data Science Masters course is highly curated and uniquely designed according to the latest industry standards. This program instills students the skills essential to knowledge discovery efforts to identify standard, novel, and truly differentiated solutions and decision-making, including skills in managing, querying, analyzing, visualizing, and extracting meaning from extremely large data sets. This trending program provides students with the statistical, mathematical and computational skills needed to meet the large-scale data science challenges of today's professional world. You will learn all the stack required to work in data science industry including cloud infrastructure and real-time industry projects. This course will be taught in Hindi language.</td>\n",
       "      <td>104</td>\n",
       "    </tr>\n",
       "  </tbody>\n",
       "</table>\n",
       "</div>"
      ],
      "text/plain": [
       "                                                                                                                                                                                                                                                                                                                                                                                                                                                                                                                                                                                                                                                                                                                                                                                            Text  \\\n",
       "0  Data Science Masters course is highly curated and uniquely designed according to the latest industry standards. This program instills students the skills essential to knowledge discovery efforts to identify standard, novel, and truly differentiated solutions and decision-making, including skills in managing, querying, analyzing, visualizing, and extracting meaning from extremely large data sets. This trending program provides students with the statistical, mathematical and computational skills needed to meet the large-scale data science challenges of today's professional world. You will learn all the stack required to work in data science industry including cloud infrastructure and real-time industry projects. This course will be taught in Hindi language.   \n",
       "\n",
       "   word_count  \n",
       "0         104  "
      ]
     },
     "execution_count": 10,
     "metadata": {},
     "output_type": "execute_result"
    }
   ],
   "source": [
    "df = pd.DataFrame({\"Text\":[\"Data Science Masters course is highly curated and uniquely designed according to the latest industry standards. This program instills students the skills essential to knowledge discovery efforts to identify standard, novel, and truly differentiated solutions and decision-making, including skills in managing, querying, analyzing, visualizing, and extracting meaning from extremely large data sets. This trending program provides students with the statistical, mathematical and computational skills needed to meet the large-scale data science challenges of today's professional world. You will learn all the stack required to work in data science industry including cloud infrastructure and real-time industry projects. This course will be taught in Hindi language.\"]})\n",
    "pd.set_option(\"display.max_colwidth\",1000)\n",
    "\n",
    "df['word_count']=df['Text'].apply(lambda x: len(x.split()))\n",
    "df\n"
   ]
  },
  {
   "cell_type": "markdown",
   "id": "378d2d2b-c82f-4061-b4e7-a697e7d25876",
   "metadata": {},
   "source": [
    "<h3>Q5. How are DataFrame.size() and DataFrame.shape() different"
   ]
  },
  {
   "cell_type": "markdown",
   "id": "9303c938-573d-433d-aca9-7f892d4b50c9",
   "metadata": {},
   "source": [
    "`DataFrame.size()`:\n",
    "DataFrame.size() returns the total number of elements in a DataFrame, which is calculated as the product of the number of rows and the number of columns.\n",
    "It provides the total count of elements, including all cells in the DataFrame, irrespective of whether they contain data or NaN values.\n",
    "The DataFrame.size() attribute returns a single integer value."
   ]
  },
  {
   "cell_type": "code",
   "execution_count": 11,
   "id": "a3e1bb97-2601-4417-aada-7e3b80a7e743",
   "metadata": {},
   "outputs": [
    {
     "name": "stdout",
     "output_type": "stream",
     "text": [
      "8\n"
     ]
    }
   ],
   "source": [
    "data = {'Column 1': [1, 2, 3,4],\n",
    "        'Column 2': [4, 5, 6,4]}\n",
    "df = pd.DataFrame(data)\n",
    "print(df.size)\n"
   ]
  },
  {
   "cell_type": "markdown",
   "id": "baeee2d9-0d5e-4313-9cf5-99bb5adc177f",
   "metadata": {},
   "source": [
    "`DataFrame.shape()`:\n",
    "DataFrame.shape returns a tuple that represents the dimensions of a DataFrame.\n",
    "It provides the number of rows followed by the number of columns in the DataFrame.\n",
    "The DataFrame.shape attribute returns a tuple with two elements: (number of rows, number of columns)."
   ]
  },
  {
   "cell_type": "code",
   "execution_count": 12,
   "id": "47475824-f467-4148-ab98-0fcd56db4fdc",
   "metadata": {},
   "outputs": [
    {
     "name": "stdout",
     "output_type": "stream",
     "text": [
      "(4, 2)\n"
     ]
    }
   ],
   "source": [
    "data = {'Column 1': [1, 2, 3,4],\n",
    "        'Column 2': [4, 5, 6,4]}\n",
    "df = pd.DataFrame(data)\n",
    "print(df.shape)\n"
   ]
  },
  {
   "cell_type": "markdown",
   "id": "155dddf6-486b-4efe-82ca-268a3838ce10",
   "metadata": {},
   "source": [
    "<h3>Q6. Which function of pandas do we use to read an excel file?"
   ]
  },
  {
   "cell_type": "code",
   "execution_count": 13,
   "id": "2c9eb43e-4f7c-42bb-8c2a-e9e452648a3e",
   "metadata": {},
   "outputs": [
    {
     "data": {
      "text/html": [
       "<div>\n",
       "<style scoped>\n",
       "    .dataframe tbody tr th:only-of-type {\n",
       "        vertical-align: middle;\n",
       "    }\n",
       "\n",
       "    .dataframe tbody tr th {\n",
       "        vertical-align: top;\n",
       "    }\n",
       "\n",
       "    .dataframe thead th {\n",
       "        text-align: right;\n",
       "    }\n",
       "</style>\n",
       "<table border=\"1\" class=\"dataframe\">\n",
       "  <thead>\n",
       "    <tr style=\"text-align: right;\">\n",
       "      <th></th>\n",
       "      <th>Unnamed: 0</th>\n",
       "      <th>Unnamed: 1</th>\n",
       "      <th>Unnamed: 2</th>\n",
       "      <th>Unnamed: 3</th>\n",
       "      <th>Unnamed: 4</th>\n",
       "      <th>Unnamed: 5</th>\n",
       "      <th>Unnamed: 6</th>\n",
       "      <th>Unnamed: 7</th>\n",
       "      <th>Unnamed: 8</th>\n",
       "      <th>Unnamed: 9</th>\n",
       "    </tr>\n",
       "  </thead>\n",
       "  <tbody>\n",
       "    <tr>\n",
       "      <th>0</th>\n",
       "      <td>NaN</td>\n",
       "      <td>NaN</td>\n",
       "      <td>NaN</td>\n",
       "      <td>NaN</td>\n",
       "      <td>NaN</td>\n",
       "      <td>NaN</td>\n",
       "      <td>NaN</td>\n",
       "      <td>NaN</td>\n",
       "      <td>NaN</td>\n",
       "      <td>NaN</td>\n",
       "    </tr>\n",
       "    <tr>\n",
       "      <th>1</th>\n",
       "      <td>NaN</td>\n",
       "      <td>NaN</td>\n",
       "      <td>NaN</td>\n",
       "      <td>Datetimes in LUSID</td>\n",
       "      <td>NaN</td>\n",
       "      <td>NaN</td>\n",
       "      <td>NaN</td>\n",
       "      <td>NaN</td>\n",
       "      <td>NaN</td>\n",
       "      <td>NaN</td>\n",
       "    </tr>\n",
       "    <tr>\n",
       "      <th>2</th>\n",
       "      <td>NaN</td>\n",
       "      <td>NaN</td>\n",
       "      <td>NaN</td>\n",
       "      <td>NaN</td>\n",
       "      <td>NaN</td>\n",
       "      <td>NaN</td>\n",
       "      <td>NaN</td>\n",
       "      <td>NaN</td>\n",
       "      <td>NaN</td>\n",
       "      <td>NaN</td>\n",
       "    </tr>\n",
       "    <tr>\n",
       "      <th>3</th>\n",
       "      <td>NaN</td>\n",
       "      <td>NaN</td>\n",
       "      <td>NaN</td>\n",
       "      <td>This sheet allows you to format datetimes for use with LUSID</td>\n",
       "      <td>NaN</td>\n",
       "      <td>NaN</td>\n",
       "      <td>NaN</td>\n",
       "      <td>NaN</td>\n",
       "      <td>NaN</td>\n",
       "      <td>NaN</td>\n",
       "    </tr>\n",
       "    <tr>\n",
       "      <th>4</th>\n",
       "      <td>NaN</td>\n",
       "      <td>NaN</td>\n",
       "      <td>NaN</td>\n",
       "      <td>If you have any questions please visit our:</td>\n",
       "      <td>NaN</td>\n",
       "      <td>NaN</td>\n",
       "      <td>NaN</td>\n",
       "      <td>NaN</td>\n",
       "      <td>NaN</td>\n",
       "      <td>NaN</td>\n",
       "    </tr>\n",
       "  </tbody>\n",
       "</table>\n",
       "</div>"
      ],
      "text/plain": [
       "   Unnamed: 0  Unnamed: 1  Unnamed: 2  \\\n",
       "0         NaN         NaN         NaN   \n",
       "1         NaN         NaN         NaN   \n",
       "2         NaN         NaN         NaN   \n",
       "3         NaN         NaN         NaN   \n",
       "4         NaN         NaN         NaN   \n",
       "\n",
       "                                                      Unnamed: 3 Unnamed: 4  \\\n",
       "0                                                            NaN        NaN   \n",
       "1                                             Datetimes in LUSID        NaN   \n",
       "2                                                            NaN        NaN   \n",
       "3   This sheet allows you to format datetimes for use with LUSID        NaN   \n",
       "4                    If you have any questions please visit our:        NaN   \n",
       "\n",
       "  Unnamed: 5  Unnamed: 6 Unnamed: 7 Unnamed: 8 Unnamed: 9  \n",
       "0        NaN         NaN        NaN        NaN        NaN  \n",
       "1        NaN         NaN        NaN        NaN        NaN  \n",
       "2        NaN         NaN        NaN        NaN        NaN  \n",
       "3        NaN         NaN        NaN        NaN        NaN  \n",
       "4        NaN         NaN        NaN        NaN        NaN  "
      ]
     },
     "execution_count": 13,
     "metadata": {},
     "output_type": "execute_result"
    }
   ],
   "source": [
    "\"\"\"To Read an excel file in pandas we can simply use pd.read_excel() function.This function will allow us to read data form an Excel file\n",
    "and create pandas DataFrame\"\"\"\n",
    "\n",
    "df = pd.read_excel(\"LUSID Excel - Setting up your market data.xlsx\")\n",
    "df.head()"
   ]
  },
  {
   "cell_type": "markdown",
   "id": "cf72c60e-26e7-4ae2-8902-4921471ebbdd",
   "metadata": {},
   "source": [
    "<h3>Q7. You have a Pandas DataFrame df that contains a column named 'Email' that contains email \n",
    "addresses in the format 'username@domain.com'. Write a Python function that creates a new column \n",
    "'Username' in df that contains only the username part of each email address."
   ]
  },
  {
   "cell_type": "code",
   "execution_count": 43,
   "id": "e1d4054f-1dc0-4c5a-b84b-715203d21d1f",
   "metadata": {},
   "outputs": [
    {
     "data": {
      "text/html": [
       "<div>\n",
       "<style scoped>\n",
       "    .dataframe tbody tr th:only-of-type {\n",
       "        vertical-align: middle;\n",
       "    }\n",
       "\n",
       "    .dataframe tbody tr th {\n",
       "        vertical-align: top;\n",
       "    }\n",
       "\n",
       "    .dataframe thead th {\n",
       "        text-align: right;\n",
       "    }\n",
       "</style>\n",
       "<table border=\"1\" class=\"dataframe\">\n",
       "  <thead>\n",
       "    <tr style=\"text-align: right;\">\n",
       "      <th></th>\n",
       "      <th>Email</th>\n",
       "      <th>Username</th>\n",
       "    </tr>\n",
       "  </thead>\n",
       "  <tbody>\n",
       "    <tr>\n",
       "      <th>0</th>\n",
       "      <td>sonu@domain.com</td>\n",
       "      <td>sonu</td>\n",
       "    </tr>\n",
       "    <tr>\n",
       "      <th>1</th>\n",
       "      <td>seenu@domain.com</td>\n",
       "      <td>seenu</td>\n",
       "    </tr>\n",
       "    <tr>\n",
       "      <th>2</th>\n",
       "      <td>shudhanshu@domain.com</td>\n",
       "      <td>shudhanshu</td>\n",
       "    </tr>\n",
       "    <tr>\n",
       "      <th>3</th>\n",
       "      <td>username@domain.com</td>\n",
       "      <td>username</td>\n",
       "    </tr>\n",
       "  </tbody>\n",
       "</table>\n",
       "</div>"
      ],
      "text/plain": [
       "                   Email    Username\n",
       "0        sonu@domain.com        sonu\n",
       "1       seenu@domain.com       seenu\n",
       "2  shudhanshu@domain.com  shudhanshu\n",
       "3    username@domain.com    username"
      ]
     },
     "execution_count": 43,
     "metadata": {},
     "output_type": "execute_result"
    }
   ],
   "source": [
    "df =pd.DataFrame({\"Email\":['sonu@domain.com','seenu@domain.com','shudhanshu@domain.com','username@domain.com']})\n",
    "\n",
    "def func_username(df):\n",
    "    df['Username'] = df['Email'].str.split('@').str[0]\n",
    "    return df\n",
    "\n",
    "df1= func_username(df)\n",
    "df1"
   ]
  },
  {
   "cell_type": "markdown",
   "id": "7afbebbd-20b0-4632-9491-3a12f9489be9",
   "metadata": {},
   "source": [
    "<h3>Q8. You have a Pandas DataFrame df with columns 'A', 'B', and 'C'. Write a Python function that selects \n",
    "all rows where the value in column 'A' is greater than 5 and the value in column 'B' is less than 10. The \n",
    "function should return a new DataFrame that contains only the selected rows.\n"
   ]
  },
  {
   "cell_type": "code",
   "execution_count": 15,
   "id": "18f87f76-4e6e-4465-90c5-0d6fbc804f2b",
   "metadata": {},
   "outputs": [
    {
     "data": {
      "text/html": [
       "<div>\n",
       "<style scoped>\n",
       "    .dataframe tbody tr th:only-of-type {\n",
       "        vertical-align: middle;\n",
       "    }\n",
       "\n",
       "    .dataframe tbody tr th {\n",
       "        vertical-align: top;\n",
       "    }\n",
       "\n",
       "    .dataframe thead th {\n",
       "        text-align: right;\n",
       "    }\n",
       "</style>\n",
       "<table border=\"1\" class=\"dataframe\">\n",
       "  <thead>\n",
       "    <tr style=\"text-align: right;\">\n",
       "      <th></th>\n",
       "      <th>A</th>\n",
       "      <th>B</th>\n",
       "      <th>C</th>\n",
       "    </tr>\n",
       "  </thead>\n",
       "  <tbody>\n",
       "    <tr>\n",
       "      <th>1</th>\n",
       "      <td>8</td>\n",
       "      <td>2</td>\n",
       "      <td>7</td>\n",
       "    </tr>\n",
       "    <tr>\n",
       "      <th>2</th>\n",
       "      <td>6</td>\n",
       "      <td>9</td>\n",
       "      <td>4</td>\n",
       "    </tr>\n",
       "    <tr>\n",
       "      <th>4</th>\n",
       "      <td>9</td>\n",
       "      <td>1</td>\n",
       "      <td>2</td>\n",
       "    </tr>\n",
       "  </tbody>\n",
       "</table>\n",
       "</div>"
      ],
      "text/plain": [
       "   A  B  C\n",
       "1  8  2  7\n",
       "2  6  9  4\n",
       "4  9  1  2"
      ]
     },
     "execution_count": 15,
     "metadata": {},
     "output_type": "execute_result"
    }
   ],
   "source": [
    "data ={'A':[3,8,6,2,9],\n",
    "       'B':[5,2,9,3,1],\n",
    "       'C':[1,7,4,5,2],\n",
    "        }\n",
    "df=pd.DataFrame(data)\n",
    "\n",
    "def func(df):\n",
    "    rows= df[(df['A']>5) & (df['B']<10)]\n",
    "    return rows\n",
    "df1 = func(df)\n",
    "df1\n"
   ]
  },
  {
   "cell_type": "markdown",
   "id": "fc659d25-2f2d-435a-9890-1619c654664e",
   "metadata": {},
   "source": [
    "<h3>Q9. Given a Pandas DataFrame df with a column 'Values', write a Python function to calculate the mean, \n",
    "median, and standard deviation of the values in the 'Values' column"
   ]
  },
  {
   "cell_type": "code",
   "execution_count": 24,
   "id": "8c076b67-1659-40ba-b0b5-d42a83a15449",
   "metadata": {},
   "outputs": [
    {
     "name": "stdout",
     "output_type": "stream",
     "text": [
      "Mean: 3.2857142857142856\n",
      "Median: 3.0\n",
      "Standard Deviation: 1.7994708216848745\n"
     ]
    }
   ],
   "source": [
    "df = pd.DataFrame({'values':[1,2,2,4,5,3,6]})\n",
    "\n",
    "def cal(df):\n",
    "    mean = df['values'].mean()\n",
    "    median = df['values'].median()\n",
    "    std= df['values'].std()\n",
    "    \n",
    "    return mean, median, std\n",
    "\n",
    "print(\"Mean:\", mean)\n",
    "print(\"Median:\", median)\n",
    "print(\"Standard Deviation:\", std)\n"
   ]
  },
  {
   "cell_type": "markdown",
   "id": "ffce7a18-8484-49a6-b7aa-30a5f1474c83",
   "metadata": {},
   "source": [
    "<h3>Q10. Given a Pandas DataFrame df with a column 'Sales' and a column 'Date', write a Python function to \n",
    "create a new column 'MovingAverage' that contains the moving average of the sales for the past 7 days \n",
    "for each row in the DataFrame. The moving average should be calculated using a window of size 7 and \n",
    "should include the current day"
   ]
  },
  {
   "cell_type": "code",
   "execution_count": 35,
   "id": "3c25c9cc-28ef-4335-bb66-70905371b27c",
   "metadata": {},
   "outputs": [
    {
     "data": {
      "text/html": [
       "<div>\n",
       "<style scoped>\n",
       "    .dataframe tbody tr th:only-of-type {\n",
       "        vertical-align: middle;\n",
       "    }\n",
       "\n",
       "    .dataframe tbody tr th {\n",
       "        vertical-align: top;\n",
       "    }\n",
       "\n",
       "    .dataframe thead th {\n",
       "        text-align: right;\n",
       "    }\n",
       "</style>\n",
       "<table border=\"1\" class=\"dataframe\">\n",
       "  <thead>\n",
       "    <tr style=\"text-align: right;\">\n",
       "      <th></th>\n",
       "      <th>Date</th>\n",
       "      <th>Sales</th>\n",
       "    </tr>\n",
       "  </thead>\n",
       "  <tbody>\n",
       "    <tr>\n",
       "      <th>0</th>\n",
       "      <td>2023-05-01</td>\n",
       "      <td>1</td>\n",
       "    </tr>\n",
       "    <tr>\n",
       "      <th>1</th>\n",
       "      <td>2023-05-02</td>\n",
       "      <td>33</td>\n",
       "    </tr>\n",
       "    <tr>\n",
       "      <th>2</th>\n",
       "      <td>2023-05-03</td>\n",
       "      <td>33</td>\n",
       "    </tr>\n",
       "    <tr>\n",
       "      <th>3</th>\n",
       "      <td>2023-05-04</td>\n",
       "      <td>44</td>\n",
       "    </tr>\n",
       "    <tr>\n",
       "      <th>4</th>\n",
       "      <td>2023-05-05</td>\n",
       "      <td>22</td>\n",
       "    </tr>\n",
       "  </tbody>\n",
       "</table>\n",
       "</div>"
      ],
      "text/plain": [
       "        Date  Sales\n",
       "0 2023-05-01      1\n",
       "1 2023-05-02     33\n",
       "2 2023-05-03     33\n",
       "3 2023-05-04     44\n",
       "4 2023-05-05     22"
      ]
     },
     "execution_count": 35,
     "metadata": {},
     "output_type": "execute_result"
    }
   ],
   "source": [
    "data = {\"Date\": pd.date_range(start='2023-05-1',end='2023-05-20'),\n",
    "        \"Sales\":[1,33,33,44,22,43,87,54,3,34,34,22,3,45,2,423,12,3,12,21]\n",
    "       }\n",
    "df=pd.DataFrame(data)\n",
    "df.head()"
   ]
  },
  {
   "cell_type": "code",
   "execution_count": 42,
   "id": "9e9a5506-a99e-4148-aa81-1ea4ccd65199",
   "metadata": {},
   "outputs": [
    {
     "data": {
      "text/html": [
       "<div>\n",
       "<style scoped>\n",
       "    .dataframe tbody tr th:only-of-type {\n",
       "        vertical-align: middle;\n",
       "    }\n",
       "\n",
       "    .dataframe tbody tr th {\n",
       "        vertical-align: top;\n",
       "    }\n",
       "\n",
       "    .dataframe thead th {\n",
       "        text-align: right;\n",
       "    }\n",
       "</style>\n",
       "<table border=\"1\" class=\"dataframe\">\n",
       "  <thead>\n",
       "    <tr style=\"text-align: right;\">\n",
       "      <th></th>\n",
       "      <th>Date</th>\n",
       "      <th>Sales</th>\n",
       "      <th>Moving avg</th>\n",
       "    </tr>\n",
       "  </thead>\n",
       "  <tbody>\n",
       "    <tr>\n",
       "      <th>0</th>\n",
       "      <td>2023-05-01</td>\n",
       "      <td>1</td>\n",
       "      <td>NaN</td>\n",
       "    </tr>\n",
       "    <tr>\n",
       "      <th>1</th>\n",
       "      <td>2023-05-02</td>\n",
       "      <td>33</td>\n",
       "      <td>NaN</td>\n",
       "    </tr>\n",
       "    <tr>\n",
       "      <th>2</th>\n",
       "      <td>2023-05-03</td>\n",
       "      <td>33</td>\n",
       "      <td>NaN</td>\n",
       "    </tr>\n",
       "    <tr>\n",
       "      <th>3</th>\n",
       "      <td>2023-05-04</td>\n",
       "      <td>44</td>\n",
       "      <td>NaN</td>\n",
       "    </tr>\n",
       "    <tr>\n",
       "      <th>4</th>\n",
       "      <td>2023-05-05</td>\n",
       "      <td>22</td>\n",
       "      <td>NaN</td>\n",
       "    </tr>\n",
       "    <tr>\n",
       "      <th>5</th>\n",
       "      <td>2023-05-06</td>\n",
       "      <td>43</td>\n",
       "      <td>NaN</td>\n",
       "    </tr>\n",
       "    <tr>\n",
       "      <th>6</th>\n",
       "      <td>2023-05-07</td>\n",
       "      <td>87</td>\n",
       "      <td>37.571429</td>\n",
       "    </tr>\n",
       "    <tr>\n",
       "      <th>7</th>\n",
       "      <td>2023-05-08</td>\n",
       "      <td>54</td>\n",
       "      <td>45.142857</td>\n",
       "    </tr>\n",
       "    <tr>\n",
       "      <th>8</th>\n",
       "      <td>2023-05-09</td>\n",
       "      <td>3</td>\n",
       "      <td>40.857143</td>\n",
       "    </tr>\n",
       "    <tr>\n",
       "      <th>9</th>\n",
       "      <td>2023-05-10</td>\n",
       "      <td>34</td>\n",
       "      <td>41.000000</td>\n",
       "    </tr>\n",
       "    <tr>\n",
       "      <th>10</th>\n",
       "      <td>2023-05-11</td>\n",
       "      <td>34</td>\n",
       "      <td>39.571429</td>\n",
       "    </tr>\n",
       "    <tr>\n",
       "      <th>11</th>\n",
       "      <td>2023-05-12</td>\n",
       "      <td>22</td>\n",
       "      <td>39.571429</td>\n",
       "    </tr>\n",
       "    <tr>\n",
       "      <th>12</th>\n",
       "      <td>2023-05-13</td>\n",
       "      <td>3</td>\n",
       "      <td>33.857143</td>\n",
       "    </tr>\n",
       "    <tr>\n",
       "      <th>13</th>\n",
       "      <td>2023-05-14</td>\n",
       "      <td>45</td>\n",
       "      <td>27.857143</td>\n",
       "    </tr>\n",
       "    <tr>\n",
       "      <th>14</th>\n",
       "      <td>2023-05-15</td>\n",
       "      <td>2</td>\n",
       "      <td>20.428571</td>\n",
       "    </tr>\n",
       "    <tr>\n",
       "      <th>15</th>\n",
       "      <td>2023-05-16</td>\n",
       "      <td>423</td>\n",
       "      <td>80.428571</td>\n",
       "    </tr>\n",
       "    <tr>\n",
       "      <th>16</th>\n",
       "      <td>2023-05-17</td>\n",
       "      <td>12</td>\n",
       "      <td>77.285714</td>\n",
       "    </tr>\n",
       "    <tr>\n",
       "      <th>17</th>\n",
       "      <td>2023-05-18</td>\n",
       "      <td>3</td>\n",
       "      <td>72.857143</td>\n",
       "    </tr>\n",
       "    <tr>\n",
       "      <th>18</th>\n",
       "      <td>2023-05-19</td>\n",
       "      <td>12</td>\n",
       "      <td>71.428571</td>\n",
       "    </tr>\n",
       "    <tr>\n",
       "      <th>19</th>\n",
       "      <td>2023-05-20</td>\n",
       "      <td>21</td>\n",
       "      <td>74.000000</td>\n",
       "    </tr>\n",
       "  </tbody>\n",
       "</table>\n",
       "</div>"
      ],
      "text/plain": [
       "         Date  Sales  Moving avg\n",
       "0  2023-05-01      1         NaN\n",
       "1  2023-05-02     33         NaN\n",
       "2  2023-05-03     33         NaN\n",
       "3  2023-05-04     44         NaN\n",
       "4  2023-05-05     22         NaN\n",
       "5  2023-05-06     43         NaN\n",
       "6  2023-05-07     87   37.571429\n",
       "7  2023-05-08     54   45.142857\n",
       "8  2023-05-09      3   40.857143\n",
       "9  2023-05-10     34   41.000000\n",
       "10 2023-05-11     34   39.571429\n",
       "11 2023-05-12     22   39.571429\n",
       "12 2023-05-13      3   33.857143\n",
       "13 2023-05-14     45   27.857143\n",
       "14 2023-05-15      2   20.428571\n",
       "15 2023-05-16    423   80.428571\n",
       "16 2023-05-17     12   77.285714\n",
       "17 2023-05-18      3   72.857143\n",
       "18 2023-05-19     12   71.428571\n",
       "19 2023-05-20     21   74.000000"
      ]
     },
     "execution_count": 42,
     "metadata": {},
     "output_type": "execute_result"
    }
   ],
   "source": [
    "def func(df):\n",
    "    df[\"Moving avg\"]=df['Sales'].rolling(window=7).mean()\n",
    "    return df\n",
    "df1 = func(df)\n",
    "df1"
   ]
  },
  {
   "cell_type": "markdown",
   "id": "2bf85547-8496-468c-8c6a-bc8250726b76",
   "metadata": {},
   "source": [
    "<h3>Q11. You have a Pandas DataFrame df with a column 'Date'. Write a Python function that creates a new \n",
    "column 'Weekday' in the DataFrame. The 'Weekday' column should contain the weekday name (e.g. \n",
    "Monday, Tuesday) corresponding to each date in the 'Date' column"
   ]
  },
  {
   "cell_type": "code",
   "execution_count": 58,
   "id": "537180fb-d8bb-4d83-8f98-329f0663766e",
   "metadata": {},
   "outputs": [
    {
     "data": {
      "text/html": [
       "<div>\n",
       "<style scoped>\n",
       "    .dataframe tbody tr th:only-of-type {\n",
       "        vertical-align: middle;\n",
       "    }\n",
       "\n",
       "    .dataframe tbody tr th {\n",
       "        vertical-align: top;\n",
       "    }\n",
       "\n",
       "    .dataframe thead th {\n",
       "        text-align: right;\n",
       "    }\n",
       "</style>\n",
       "<table border=\"1\" class=\"dataframe\">\n",
       "  <thead>\n",
       "    <tr style=\"text-align: right;\">\n",
       "      <th></th>\n",
       "      <th>Date</th>\n",
       "      <th>Weekday</th>\n",
       "    </tr>\n",
       "  </thead>\n",
       "  <tbody>\n",
       "    <tr>\n",
       "      <th>0</th>\n",
       "      <td>2023-01-01</td>\n",
       "      <td>Sunday</td>\n",
       "    </tr>\n",
       "    <tr>\n",
       "      <th>1</th>\n",
       "      <td>2023-01-02</td>\n",
       "      <td>Monday</td>\n",
       "    </tr>\n",
       "    <tr>\n",
       "      <th>2</th>\n",
       "      <td>2023-01-03</td>\n",
       "      <td>Tuesday</td>\n",
       "    </tr>\n",
       "    <tr>\n",
       "      <th>3</th>\n",
       "      <td>2023-01-04</td>\n",
       "      <td>Wednesday</td>\n",
       "    </tr>\n",
       "    <tr>\n",
       "      <th>4</th>\n",
       "      <td>2023-01-05</td>\n",
       "      <td>Thursday</td>\n",
       "    </tr>\n",
       "    <tr>\n",
       "      <th>5</th>\n",
       "      <td>2023-01-06</td>\n",
       "      <td>Friday</td>\n",
       "    </tr>\n",
       "    <tr>\n",
       "      <th>6</th>\n",
       "      <td>2023-01-07</td>\n",
       "      <td>Saturday</td>\n",
       "    </tr>\n",
       "  </tbody>\n",
       "</table>\n",
       "</div>"
      ],
      "text/plain": [
       "        Date    Weekday\n",
       "0 2023-01-01     Sunday\n",
       "1 2023-01-02     Monday\n",
       "2 2023-01-03    Tuesday\n",
       "3 2023-01-04  Wednesday\n",
       "4 2023-01-05   Thursday\n",
       "5 2023-01-06     Friday\n",
       "6 2023-01-07   Saturday"
      ]
     },
     "execution_count": 58,
     "metadata": {},
     "output_type": "execute_result"
    }
   ],
   "source": [
    "data ={\"Date\": pd.date_range(start='2023-01-01',end ='2023-01-07')}\n",
    "df=pd.DataFrame(data)\n",
    "df\n",
    "\n",
    "def func(df):\n",
    "    df[\"Weekday\"]=pd.to_datetime(df['Date']).dt.day_name()\n",
    "    return df\n",
    "df1= func(df)\n",
    "df1"
   ]
  },
  {
   "cell_type": "markdown",
   "id": "477b3393-3e81-4825-bd93-9561058418d7",
   "metadata": {},
   "source": [
    "### Q12. Given a Pandas DataFrame df with a column 'Date' that contains timestamps, write a Python function to select all rows where the date is between '2023-01-01' and '2023-01-31'"
   ]
  },
  {
   "cell_type": "code",
   "execution_count": 62,
   "id": "61e64993-9e05-4db4-925e-ca24f8751157",
   "metadata": {},
   "outputs": [
    {
     "name": "stdout",
     "output_type": "stream",
     "text": [
      "        Date\n",
      "1 2023-01-15\n",
      "3 2023-01-31\n"
     ]
    }
   ],
   "source": [
    "import pandas as pd\n",
    "\n",
    "def select_rows_in_date_range(df):\n",
    "    df['Date'] = pd.to_datetime(df['Date']) \n",
    "    mask = (df['Date'] >= '2023-01-01') & (df['Date'] <= '2023-01-31')\n",
    "    selected_rows = df.loc[mask]\n",
    "    return selected_rows\n",
    "\n",
    "\n",
    "data = {'Date': ['2022-12-25', '2023-01-15', '2023-02-01', '2023-01-31']}\n",
    "df = pd.DataFrame(data)\n",
    "\n",
    "selected_rows = select_rows_in_date_range(df)\n",
    "print(selected_rows)\n"
   ]
  },
  {
   "cell_type": "markdown",
   "id": "2e7bf5a7-fd0a-48cb-93ad-4f1d7d1c9584",
   "metadata": {},
   "source": [
    "<h3>Q13. To use the basic functions of pandas, what is the first and foremost necessary library that needs to \n",
    "be imported"
   ]
  },
  {
   "cell_type": "markdown",
   "id": "78adf43c-3846-41d0-b160-48e961ec2786",
   "metadata": {},
   "source": [
    "To use the basic functions of pandas, the first and foremost necessary library that needs to be imported is pandas itself."
   ]
  },
  {
   "cell_type": "code",
   "execution_count": null,
   "id": "83dea18e-931d-43b3-b918-7c63b1dcb728",
   "metadata": {},
   "outputs": [],
   "source": []
  }
 ],
 "metadata": {
  "kernelspec": {
   "display_name": "Python 3 (ipykernel)",
   "language": "python",
   "name": "python3"
  },
  "language_info": {
   "codemirror_mode": {
    "name": "ipython",
    "version": 3
   },
   "file_extension": ".py",
   "mimetype": "text/x-python",
   "name": "python",
   "nbconvert_exporter": "python",
   "pygments_lexer": "ipython3",
   "version": "3.10.8"
  }
 },
 "nbformat": 4,
 "nbformat_minor": 5
}
