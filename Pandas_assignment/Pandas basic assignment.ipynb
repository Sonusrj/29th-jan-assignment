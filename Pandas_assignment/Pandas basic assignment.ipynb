{
 "cells": [
  {
   "cell_type": "code",
   "execution_count": 70,
   "id": "827a94eb-a726-4267-b76c-9fa138af3912",
   "metadata": {},
   "outputs": [],
   "source": [
    "import pandas as pd"
   ]
  },
  {
   "cell_type": "markdown",
   "id": "aaf16fd4-4235-4d50-854c-a0b8a2a2beb4",
   "metadata": {},
   "source": [
    "##### Q1. Create a Pandas Series that contains the following data: 4, 8, 15, 16, 23, and 42. Then, print the series."
   ]
  },
  {
   "cell_type": "code",
   "execution_count": 71,
   "id": "6da5a0c4-b01b-47e9-92c7-d7e40fc2cdd1",
   "metadata": {},
   "outputs": [
    {
     "name": "stdout",
     "output_type": "stream",
     "text": [
      "0     4\n",
      "1     8\n",
      "2    15\n",
      "3    16\n",
      "4    23\n",
      "5    42\n",
      "dtype: int64\n"
     ]
    }
   ],
   "source": [
    "data = [4,8,15,16,23,42]\n",
    "\n",
    "sr = pd.Series(sr)\n",
    "print(sr1)"
   ]
  },
  {
   "cell_type": "markdown",
   "id": "4753b033-9f88-4e25-997a-f1629aabdc45",
   "metadata": {},
   "source": [
    "#### Q2. Create a variable of list type containing 10 elements in it, and apply pandas.Series function on the variable print it."
   ]
  },
  {
   "cell_type": "code",
   "execution_count": 72,
   "id": "84f10f0c-95d8-4b0e-93ce-0fbd8d508d1d",
   "metadata": {},
   "outputs": [
    {
     "name": "stdout",
     "output_type": "stream",
     "text": [
      "0     1\n",
      "1     2\n",
      "2     3\n",
      "3     4\n",
      "4     5\n",
      "5     6\n",
      "6     7\n",
      "7     8\n",
      "8     9\n",
      "9    10\n",
      "dtype: int64\n"
     ]
    }
   ],
   "source": [
    "var  = [1,2,3,4,5,6,7,8,9,10]\n",
    "sr= pd.Series(var)\n",
    "print(sr)"
   ]
  },
  {
   "attachments": {
    "1c3410c8-cfa8-4d68-85a1-7180ea5fef5e.png": {
     "image/png": "[encoded data removed]"
    }
   },
   "cell_type": "markdown",
   "id": "664478e6-26e9-4764-9bbd-a7f7d35b4295",
   "metadata": {},
   "source": [
    "#### Q3. Create a Pandas DataFrame that contains the following data: Then, print the DataFrame.\n",
    "![Screenshot (2).png](attachment:1c3410c8-cfa8-4d68-85a1-7180ea5fef5e.png)"
   ]
  },
  {
   "cell_type": "code",
   "execution_count": 81,
   "id": "f9e6dd56-08e6-479b-b9bb-60f243f1d1ee",
   "metadata": {},
   "outputs": [
    {
     "name": "stdout",
     "output_type": "stream",
     "text": [
      "     Name  Age  Gender\n",
      "0   Alice   25   Femal\n",
      "1     Bob   30    Male\n",
      "2  Claire   27  Female\n"
     ]
    },
    {
     "data": {
      "text/plain": [
       "pandas.core.frame.DataFrame"
      ]
     },
     "execution_count": 81,
     "metadata": {},
     "output_type": "execute_result"
    }
   ],
   "source": [
    "data ={\"Name\":['Alice','Bob','Claire'],\n",
    "       \"Age\":[25,30,27],\n",
    "       \"Gender\":['Femal','Male','Female']\n",
    "      }\n",
    "df = pd.DataFrame(data)\n",
    "print(df)\n",
    "type(df)\n"
   ]
  },
  {
   "cell_type": "markdown",
   "id": "288d7276-1254-4b4f-850e-1c15e51c6a5e",
   "metadata": {},
   "source": [
    "##### Q4. What is ‘DataFrame’ in pandas and how is it different from pandas.series? Explain with an example."
   ]
  },
  {
   "cell_type": "markdown",
   "id": "e4b9667a-053b-4d5c-b68c-78c3db069e76",
   "metadata": {},
   "source": [
    "`DataFrame`:A DataFrame is a two-dimensional labeled data structure that represents tabular data, similar to a table in a relational database or a spreadsheet. It consists of rows and columns, where each column can have a different data type (e.g., numeric, string, datetime). A DataFrame can be thought of as a collection of Series objects, where each Series represents a column of the DataFrame.\n",
    "\n",
    "`Series`: A Series is a one-dimensional labeled array that can store any data type. It can be seen as a single column of a DataFrame. Each element in a Series has a corresponding label, called an index, which allows for easy access to the data.\n",
    "\n",
    "##### e.g)"
   ]
  },
  {
   "cell_type": "code",
   "execution_count": 74,
   "id": "5858e0fc-c4b6-435c-b029-6c53918e3d0d",
   "metadata": {},
   "outputs": [
    {
     "name": "stdout",
     "output_type": "stream",
     "text": [
      "DataFrame:\n",
      "\n",
      "      Name  Age\n",
      "0    Alice   25\n",
      "1      Bob   32\n",
      "2  Charlie   18\n",
      "3    David   40\n",
      "\n",
      "Series:\n",
      "\n",
      "0    25\n",
      "1    32\n",
      "2    18\n",
      "3    40\n",
      "dtype: int64\n"
     ]
    }
   ],
   "source": [
    "\n",
    "data = {'Name': ['Alice', 'Bob', 'Charlie', 'David'],\n",
    "        'Age': [25, 32, 18, 40],\n",
    "        }\n",
    "df = pd.DataFrame(data)\n",
    "\n",
    "data1 = [25, 32, 18, 40]\n",
    "sr=pd.Series([25, 32, 18, 40],)\n",
    "\n",
    "print(\"DataFrame:\\n\")\n",
    "print(df)\n",
    "print(\"\\nSeries:\\n\")\n",
    "print(sr)\n"
   ]
  },
  {
   "cell_type": "markdown",
   "id": "c48053bd-9005-4ef2-95b1-09329ef25c2a",
   "metadata": {},
   "source": [
    "##### Q5. What are some common functions you can use to manipulate data in a Pandas DataFrame? Can you give an example of when you might use one of these functions?\n",
    "\n"
   ]
  },
  {
   "cell_type": "code",
   "execution_count": 83,
   "id": "4cc2de0a-4adf-44db-b0d4-c19f71f24829",
   "metadata": {},
   "outputs": [
    {
     "data": {
      "text/html": [
       "<div>\n",
       "<style scoped>\n",
       "    .dataframe tbody tr th:only-of-type {\n",
       "        vertical-align: middle;\n",
       "    }\n",
       "\n",
       "    .dataframe tbody tr th {\n",
       "        vertical-align: top;\n",
       "    }\n",
       "\n",
       "    .dataframe thead th {\n",
       "        text-align: right;\n",
       "    }\n",
       "</style>\n",
       "<table border=\"1\" class=\"dataframe\">\n",
       "  <thead>\n",
       "    <tr style=\"text-align: right;\">\n",
       "      <th></th>\n",
       "      <th>Name</th>\n",
       "      <th>Age</th>\n",
       "      <th>Gender</th>\n",
       "    </tr>\n",
       "  </thead>\n",
       "  <tbody>\n",
       "    <tr>\n",
       "      <th>0</th>\n",
       "      <td>Alice</td>\n",
       "      <td>25</td>\n",
       "      <td>Femal</td>\n",
       "    </tr>\n",
       "    <tr>\n",
       "      <th>1</th>\n",
       "      <td>Bob</td>\n",
       "      <td>30</td>\n",
       "      <td>Male</td>\n",
       "    </tr>\n",
       "    <tr>\n",
       "      <th>2</th>\n",
       "      <td>Claire</td>\n",
       "      <td>27</td>\n",
       "      <td>Female</td>\n",
       "    </tr>\n",
       "  </tbody>\n",
       "</table>\n",
       "</div>"
      ],
      "text/plain": [
       "     Name  Age  Gender\n",
       "0   Alice   25   Femal\n",
       "1     Bob   30    Male\n",
       "2  Claire   27  Female"
      ]
     },
     "execution_count": 83,
     "metadata": {},
     "output_type": "execute_result"
    }
   ],
   "source": [
    "df.head()  # Returns the first 5 rows of the DataFrame\n",
    "df.tail()  # Returns the last 5 rows of the DataFrame\n"
   ]
  },
  {
   "cell_type": "code",
   "execution_count": 76,
   "id": "bcd67901-f769-4539-a357-a9e91137c4b1",
   "metadata": {},
   "outputs": [
    {
     "name": "stdout",
     "output_type": "stream",
     "text": [
      "<class 'pandas.core.frame.DataFrame'>\n",
      "RangeIndex: 4 entries, 0 to 3\n",
      "Data columns (total 2 columns):\n",
      " #   Column  Non-Null Count  Dtype \n",
      "---  ------  --------------  ----- \n",
      " 0   Name    4 non-null      object\n",
      " 1   Age     4 non-null      int64 \n",
      "dtypes: int64(1), object(1)\n",
      "memory usage: 192.0+ bytes\n"
     ]
    }
   ],
   "source": [
    "df.info()  # Displays the summary information of the DataFrame\n"
   ]
  },
  {
   "cell_type": "code",
   "execution_count": 77,
   "id": "bd262160-8930-44f3-a4ce-332a265f40e3",
   "metadata": {},
   "outputs": [
    {
     "name": "stdout",
     "output_type": "stream",
     "text": [
      "(4, 2)\n"
     ]
    }
   ],
   "source": [
    "print(df.shape)  # Prints the dimensions of the DataFrame (rows, columns)\n"
   ]
  },
  {
   "cell_type": "code",
   "execution_count": 78,
   "id": "ed180fba-65de-4dbc-bfb4-75746bd7410d",
   "metadata": {},
   "outputs": [
    {
     "data": {
      "text/plain": [
       "Index(['Name', 'Age'], dtype='object')"
      ]
     },
     "execution_count": 78,
     "metadata": {},
     "output_type": "execute_result"
    }
   ],
   "source": [
    "df.columns # return the columns Of the DataFrame"
   ]
  },
  {
   "cell_type": "code",
   "execution_count": 79,
   "id": "37deb4aa-adb0-4139-94ed-ff0a6d961395",
   "metadata": {},
   "outputs": [
    {
     "data": {
      "text/html": [
       "<div>\n",
       "<style scoped>\n",
       "    .dataframe tbody tr th:only-of-type {\n",
       "        vertical-align: middle;\n",
       "    }\n",
       "\n",
       "    .dataframe tbody tr th {\n",
       "        vertical-align: top;\n",
       "    }\n",
       "\n",
       "    .dataframe thead th {\n",
       "        text-align: right;\n",
       "    }\n",
       "</style>\n",
       "<table border=\"1\" class=\"dataframe\">\n",
       "  <thead>\n",
       "    <tr style=\"text-align: right;\">\n",
       "      <th></th>\n",
       "      <th>Age</th>\n",
       "    </tr>\n",
       "  </thead>\n",
       "  <tbody>\n",
       "    <tr>\n",
       "      <th>count</th>\n",
       "      <td>4.000000</td>\n",
       "    </tr>\n",
       "    <tr>\n",
       "      <th>mean</th>\n",
       "      <td>28.750000</td>\n",
       "    </tr>\n",
       "    <tr>\n",
       "      <th>std</th>\n",
       "      <td>9.429563</td>\n",
       "    </tr>\n",
       "    <tr>\n",
       "      <th>min</th>\n",
       "      <td>18.000000</td>\n",
       "    </tr>\n",
       "    <tr>\n",
       "      <th>25%</th>\n",
       "      <td>23.250000</td>\n",
       "    </tr>\n",
       "    <tr>\n",
       "      <th>50%</th>\n",
       "      <td>28.500000</td>\n",
       "    </tr>\n",
       "    <tr>\n",
       "      <th>75%</th>\n",
       "      <td>34.000000</td>\n",
       "    </tr>\n",
       "    <tr>\n",
       "      <th>max</th>\n",
       "      <td>40.000000</td>\n",
       "    </tr>\n",
       "  </tbody>\n",
       "</table>\n",
       "</div>"
      ],
      "text/plain": [
       "             Age\n",
       "count   4.000000\n",
       "mean   28.750000\n",
       "std     9.429563\n",
       "min    18.000000\n",
       "25%    23.250000\n",
       "50%    28.500000\n",
       "75%    34.000000\n",
       "max    40.000000"
      ]
     },
     "execution_count": 79,
     "metadata": {},
     "output_type": "execute_result"
    }
   ],
   "source": [
    "df.describe()  # Provides descriptive statistics of the DataFrame\n"
   ]
  },
  {
   "cell_type": "markdown",
   "id": "e509f79e-9734-45b2-a6de-522d37fb361d",
   "metadata": {},
   "source": [
    "##### Q6. Which of the following is mutable in nature Series, DataFrame, Panel?"
   ]
  },
  {
   "cell_type": "markdown",
   "id": "6c4dceb8-681c-46d2-9b2d-d661a808b49d",
   "metadata": {},
   "source": [
    "In pandas, both Series and DataFrame are mutable in nature, while Panel is not.\n",
    "\n",
    "`Series`: A Series object in pandas is mutable, meaning you can modify its values, add new values, or change the index labels.\n",
    "\n",
    "`DataFrame`: Similarly, a DataFrame object is also mutable. You can modify its columns, add or remove rows, and update the values in the existing cells.\n",
    "\n",
    "`Panel`: However, the Panel object, which represents three-dimensional data, is deprecated as of pandas version 0.20. <u>Panels were not designed to be mutable like Series and DataFrame</u>."
   ]
  },
  {
   "cell_type": "markdown",
   "id": "b2648844-0b53-4ab0-ad1d-82575a23bd31",
   "metadata": {},
   "source": [
    "##### Q7. Create a DataFrame using multiple Series. Explain with an example"
   ]
  },
  {
   "cell_type": "code",
   "execution_count": 80,
   "id": "996226d5-ead9-4cef-85a4-d4d1b812836a",
   "metadata": {},
   "outputs": [
    {
     "name": "stdout",
     "output_type": "stream",
     "text": [
      "This is Dataframe from above Series:\n",
      "       Name  Age      City\n",
      "0    Alice   25  New York\n",
      "1      Bob   32    London\n",
      "2  Charlie   18     Paris\n"
     ]
    }
   ],
   "source": [
    "name_series = pd.Series(['Alice', 'Bob', 'Charlie'])\n",
    "age_series = pd.Series([25, 32, 18])\n",
    "city_series = pd.Series(['New York', 'London', 'Paris'])\n",
    "\n",
    "data = {'Name': name_series, 'Age': age_series, 'City': city_series}\n",
    "df=pd.DataFrame(data)\n",
    "\n",
    "\n",
    "\n",
    "print(\"This is Dataframe from above Series:\\n\",df)\n"
   ]
  },
  {
   "cell_type": "code",
   "execution_count": null,
   "id": "5920e5e2-a12a-4519-8b97-79f10e50b78e",
   "metadata": {},
   "outputs": [],
   "source": []
  }
 ],
 "metadata": {
  "kernelspec": {
   "display_name": "Python 3 (ipykernel)",
   "language": "python",
   "name": "python3"
  },
  "language_info": {
   "codemirror_mode": {
    "name": "ipython",
    "version": 3
   },
   "file_extension": ".py",
   "mimetype": "text/x-python",
   "name": "python",
   "nbconvert_exporter": "python",
   "pygments_lexer": "ipython3",
   "version": "3.10.8"
  }
 },
 "nbformat": 4,
 "nbformat_minor": 5
}
