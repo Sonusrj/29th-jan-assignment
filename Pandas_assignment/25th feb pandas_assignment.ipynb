{
 "cells": [
  {
   "cell_type": "markdown",
   "id": "031d7577-b49d-4fd2-8a61-5d2d7e1ddc34",
   "metadata": {},
   "source": [
    " `Consider following code to answer further questions:`\n"
   ]
  },
  {
   "cell_type": "code",
   "execution_count": 1,
   "id": "d87a401e-10f4-45fe-b592-47b64eab204a",
   "metadata": {},
   "outputs": [
    {
     "data": {
      "text/html": [
       "<div>\n",
       "<style scoped>\n",
       "    .dataframe tbody tr th:only-of-type {\n",
       "        vertical-align: middle;\n",
       "    }\n",
       "\n",
       "    .dataframe tbody tr th {\n",
       "        vertical-align: top;\n",
       "    }\n",
       "\n",
       "    .dataframe thead th {\n",
       "        text-align: right;\n",
       "    }\n",
       "</style>\n",
       "<table border=\"1\" class=\"dataframe\">\n",
       "  <thead>\n",
       "    <tr style=\"text-align: right;\">\n",
       "      <th></th>\n",
       "      <th>course_name</th>\n",
       "      <th>duration</th>\n",
       "    </tr>\n",
       "  </thead>\n",
       "  <tbody>\n",
       "    <tr>\n",
       "      <th>0</th>\n",
       "      <td>Data Science</td>\n",
       "      <td>2</td>\n",
       "    </tr>\n",
       "    <tr>\n",
       "      <th>1</th>\n",
       "      <td>Machine Learning</td>\n",
       "      <td>3</td>\n",
       "    </tr>\n",
       "    <tr>\n",
       "      <th>2</th>\n",
       "      <td>Big Data</td>\n",
       "      <td>6</td>\n",
       "    </tr>\n",
       "    <tr>\n",
       "      <th>3</th>\n",
       "      <td>Data Engineer</td>\n",
       "      <td>4</td>\n",
       "    </tr>\n",
       "  </tbody>\n",
       "</table>\n",
       "</div>"
      ],
      "text/plain": [
       "        course_name  duration\n",
       "0      Data Science         2\n",
       "1  Machine Learning         3\n",
       "2          Big Data         6\n",
       "3     Data Engineer         4"
      ]
     },
     "execution_count": 1,
     "metadata": {},
     "output_type": "execute_result"
    }
   ],
   "source": [
    "import pandas as pd\n",
    "\n",
    "course_name = ['Data Science', 'Machine Learning', 'Big Data', 'Data Engineer']\n",
    "\n",
    "duration = [2,3,6,4]\n",
    "\n",
    "df = pd.DataFrame(data = {'course_name' : course_name, 'duration' : duration})\n",
    "df"
   ]
  },
  {
   "cell_type": "markdown",
   "id": "7a6ae773-4b80-41b6-9553-dee6a61ceca4",
   "metadata": {},
   "source": [
    "#### Q1. Write a code to print the data present in the second row of the dataframe, df"
   ]
  },
  {
   "cell_type": "code",
   "execution_count": 2,
   "id": "2920ad4a-8f94-4003-a596-d1f810d82541",
   "metadata": {},
   "outputs": [
    {
     "name": "stdout",
     "output_type": "stream",
     "text": [
      "course_name    Machine Learning\n",
      "duration                      3\n",
      "Name: 1, dtype: object\n"
     ]
    }
   ],
   "source": [
    "row = df.loc[1]\n",
    "print(row)"
   ]
  },
  {
   "cell_type": "markdown",
   "id": "2974ed9b-4228-48aa-9c5f-a4593c9e19b9",
   "metadata": {},
   "source": [
    "<h3> Q2. What is the difference between the functions loc and iloc in pandas.DataFrame?"
   ]
  },
  {
   "cell_type": "markdown",
   "id": "e163014f-c660-4b5d-8c1c-3c8b7aa3f3fb",
   "metadata": {},
   "source": [
    "`loc()`:\n",
    "* loc is primarily label-based indexing:\n",
    "which means that we have to pass the name of the row or column which we want to select."
   ]
  },
  {
   "cell_type": "code",
   "execution_count": 3,
   "id": "5f8c6222-b0e8-459f-8d21-956f57819228",
   "metadata": {},
   "outputs": [
    {
     "name": "stdout",
     "output_type": "stream",
     "text": [
      "This is will retrieve data from index labelled 2 \n",
      "course_name    Big Data\n",
      "duration              6\n",
      "Name: 2, dtype: object\n"
     ]
    }
   ],
   "source": [
    "#loc():\n",
    "r = df.loc[2]\n",
    "print(f\"This is will retrieve data from index labelled 2 \\n{r}\")"
   ]
  },
  {
   "cell_type": "markdown",
   "id": "cdc894fa-57af-46a9-98a0-86427357ce44",
   "metadata": {},
   "source": [
    "`iloc()`:\n",
    "* iloc is primarily index-based indexing:\n",
    " which means that we have to pass an integer index in the method to select a specific row/column."
   ]
  },
  {
   "cell_type": "code",
   "execution_count": 4,
   "id": "eb009a15-9f2f-4675-8b7a-fa0b9a05188f",
   "metadata": {},
   "outputs": [
    {
     "name": "stdout",
     "output_type": "stream",
     "text": [
      "This is will retrieve data from index labelled 4: \n",
      "course_name    Data Engineer\n",
      "duration                   4\n",
      "Name: 3, dtype: object\n"
     ]
    }
   ],
   "source": [
    "#iloc()\n",
    "\n",
    "r = df.iloc[3]\n",
    "print(f\"This is will retrieve data from index labelled 4: \\n{r}\")"
   ]
  },
  {
   "cell_type": "markdown",
   "id": "393d212a-76bc-4d0c-8923-229635400515",
   "metadata": {},
   "source": [
    "<h3>Q3. Reindex the given dataframe using a variable, reindex = [3,0,1,2] and store it in the variable, new_df \n",
    "then find the output for both new_df.loc[2] and new_df.iloc[2]"
   ]
  },
  {
   "cell_type": "code",
   "execution_count": 5,
   "id": "dde974df-6b1b-4d35-a97b-45a096cf2e99",
   "metadata": {},
   "outputs": [
    {
     "data": {
      "text/html": [
       "<div>\n",
       "<style scoped>\n",
       "    .dataframe tbody tr th:only-of-type {\n",
       "        vertical-align: middle;\n",
       "    }\n",
       "\n",
       "    .dataframe tbody tr th {\n",
       "        vertical-align: top;\n",
       "    }\n",
       "\n",
       "    .dataframe thead th {\n",
       "        text-align: right;\n",
       "    }\n",
       "</style>\n",
       "<table border=\"1\" class=\"dataframe\">\n",
       "  <thead>\n",
       "    <tr style=\"text-align: right;\">\n",
       "      <th></th>\n",
       "      <th>course_name</th>\n",
       "      <th>duration</th>\n",
       "    </tr>\n",
       "  </thead>\n",
       "  <tbody>\n",
       "    <tr>\n",
       "      <th>3</th>\n",
       "      <td>Data Engineer</td>\n",
       "      <td>4</td>\n",
       "    </tr>\n",
       "    <tr>\n",
       "      <th>0</th>\n",
       "      <td>Data Science</td>\n",
       "      <td>2</td>\n",
       "    </tr>\n",
       "    <tr>\n",
       "      <th>1</th>\n",
       "      <td>Machine Learning</td>\n",
       "      <td>3</td>\n",
       "    </tr>\n",
       "    <tr>\n",
       "      <th>2</th>\n",
       "      <td>Big Data</td>\n",
       "      <td>6</td>\n",
       "    </tr>\n",
       "  </tbody>\n",
       "</table>\n",
       "</div>"
      ],
      "text/plain": [
       "        course_name  duration\n",
       "3     Data Engineer         4\n",
       "0      Data Science         2\n",
       "1  Machine Learning         3\n",
       "2          Big Data         6"
      ]
     },
     "execution_count": 5,
     "metadata": {},
     "output_type": "execute_result"
    }
   ],
   "source": [
    "new_df = df.reindex([3,0,1,2])\n",
    "new_df"
   ]
  },
  {
   "cell_type": "code",
   "execution_count": 6,
   "id": "40cf1bdb-3ef5-46db-8e39-699f02ff5ef0",
   "metadata": {},
   "outputs": [
    {
     "data": {
      "text/plain": [
       "course_name    Big Data\n",
       "duration              6\n",
       "Name: 2, dtype: object"
      ]
     },
     "execution_count": 6,
     "metadata": {},
     "output_type": "execute_result"
    }
   ],
   "source": [
    "new_df.loc[2]"
   ]
  },
  {
   "cell_type": "code",
   "execution_count": 7,
   "id": "6f46df7a-ae67-445c-9612-9402298f3f34",
   "metadata": {},
   "outputs": [
    {
     "data": {
      "text/plain": [
       "course_name    Machine Learning\n",
       "duration                      3\n",
       "Name: 1, dtype: object"
      ]
     },
     "execution_count": 7,
     "metadata": {},
     "output_type": "execute_result"
    }
   ],
   "source": [
    "new_df.iloc[2]"
   ]
  },
  {
   "cell_type": "markdown",
   "id": "6536c925-4dfb-4550-9383-7f93d6b6fbbc",
   "metadata": {},
   "source": [
    "`Expalnation`:\n",
    "* new_df.loc[2]: This statement uses the loc[] indexer to access a row based on its label. In this case, the label is 2. It returns the row with the label 2 as a pandas.\n",
    "\n",
    "* new_df.iloc[2]: This statement uses the iloc[] indexer to access a row based on its positional index. In this case, the positional index is 2. It returns the row at index 2 ."
   ]
  },
  {
   "cell_type": "markdown",
   "id": "3b5d1527-2087-486e-8a98-effced2bcf7f",
   "metadata": {},
   "source": [
    "<h3>`Consider the below code to answer further questions:`\n",
    "\n",
    "    "
   ]
  },
  {
   "cell_type": "code",
   "execution_count": 8,
   "id": "207a7123-53cd-4ab8-805a-ab09382c51d5",
   "metadata": {},
   "outputs": [
    {
     "data": {
      "text/html": [
       "<div>\n",
       "<style scoped>\n",
       "    .dataframe tbody tr th:only-of-type {\n",
       "        vertical-align: middle;\n",
       "    }\n",
       "\n",
       "    .dataframe tbody tr th {\n",
       "        vertical-align: top;\n",
       "    }\n",
       "\n",
       "    .dataframe thead th {\n",
       "        text-align: right;\n",
       "    }\n",
       "</style>\n",
       "<table border=\"1\" class=\"dataframe\">\n",
       "  <thead>\n",
       "    <tr style=\"text-align: right;\">\n",
       "      <th></th>\n",
       "      <th>column_1</th>\n",
       "      <th>column_2</th>\n",
       "      <th>column_3</th>\n",
       "      <th>column_4</th>\n",
       "      <th>column_5</th>\n",
       "      <th>column_6</th>\n",
       "    </tr>\n",
       "  </thead>\n",
       "  <tbody>\n",
       "    <tr>\n",
       "      <th>1</th>\n",
       "      <td>0.287058</td>\n",
       "      <td>0.786168</td>\n",
       "      <td>0.622201</td>\n",
       "      <td>0.609785</td>\n",
       "      <td>0.913074</td>\n",
       "      <td>0.092563</td>\n",
       "    </tr>\n",
       "    <tr>\n",
       "      <th>2</th>\n",
       "      <td>0.241719</td>\n",
       "      <td>0.432641</td>\n",
       "      <td>0.522424</td>\n",
       "      <td>0.855972</td>\n",
       "      <td>0.224546</td>\n",
       "      <td>0.492254</td>\n",
       "    </tr>\n",
       "    <tr>\n",
       "      <th>3</th>\n",
       "      <td>0.919663</td>\n",
       "      <td>0.807344</td>\n",
       "      <td>0.824830</td>\n",
       "      <td>0.654411</td>\n",
       "      <td>0.565037</td>\n",
       "      <td>0.447525</td>\n",
       "    </tr>\n",
       "    <tr>\n",
       "      <th>4</th>\n",
       "      <td>0.218638</td>\n",
       "      <td>0.221835</td>\n",
       "      <td>0.794687</td>\n",
       "      <td>0.913084</td>\n",
       "      <td>0.336074</td>\n",
       "      <td>0.518566</td>\n",
       "    </tr>\n",
       "    <tr>\n",
       "      <th>5</th>\n",
       "      <td>0.119188</td>\n",
       "      <td>0.927111</td>\n",
       "      <td>0.277171</td>\n",
       "      <td>0.013376</td>\n",
       "      <td>0.020082</td>\n",
       "      <td>0.143727</td>\n",
       "    </tr>\n",
       "    <tr>\n",
       "      <th>6</th>\n",
       "      <td>0.411497</td>\n",
       "      <td>0.694052</td>\n",
       "      <td>0.534403</td>\n",
       "      <td>0.917347</td>\n",
       "      <td>0.365943</td>\n",
       "      <td>0.591017</td>\n",
       "    </tr>\n",
       "  </tbody>\n",
       "</table>\n",
       "</div>"
      ],
      "text/plain": [
       "   column_1  column_2  column_3  column_4  column_5  column_6\n",
       "1  0.287058  0.786168  0.622201  0.609785  0.913074  0.092563\n",
       "2  0.241719  0.432641  0.522424  0.855972  0.224546  0.492254\n",
       "3  0.919663  0.807344  0.824830  0.654411  0.565037  0.447525\n",
       "4  0.218638  0.221835  0.794687  0.913084  0.336074  0.518566\n",
       "5  0.119188  0.927111  0.277171  0.013376  0.020082  0.143727\n",
       "6  0.411497  0.694052  0.534403  0.917347  0.365943  0.591017"
      ]
     },
     "execution_count": 8,
     "metadata": {},
     "output_type": "execute_result"
    }
   ],
   "source": [
    "import pandas as pd\n",
    "\n",
    "import numpy as np\n",
    "\n",
    "columns = ['column_1', 'column_2', 'column_3', 'column_4', 'column_5', 'column_6']\n",
    "\n",
    "indices = [1,2,3,4,5,6]\n",
    "\n",
    "#Creating a dataframe:\n",
    "\n",
    "df1 = pd.DataFrame(np.random.rand(6,6), columns = columns, index = indices)\n",
    "df1"
   ]
  },
  {
   "cell_type": "markdown",
   "id": "c93da9d8-42fe-4fff-98c2-32ce2248d65d",
   "metadata": {},
   "source": [
    "<h3> Q4. Write a code to find the following statistical measurements for the above dataframe df1:"
   ]
  },
  {
   "cell_type": "markdown",
   "id": "86316ba7-d081-499c-a2bb-e6b8d6eac5aa",
   "metadata": {},
   "source": [
    "<h4>(i) \tmean of each and every column present in the dataframe."
   ]
  },
  {
   "cell_type": "code",
   "execution_count": 9,
   "id": "5a25f025-44dc-4c3b-b424-19727a673b17",
   "metadata": {},
   "outputs": [
    {
     "data": {
      "text/plain": [
       "0.36629389868446033"
      ]
     },
     "execution_count": 9,
     "metadata": {},
     "output_type": "execute_result"
    }
   ],
   "source": [
    "df1['column_1'].mean()"
   ]
  },
  {
   "cell_type": "code",
   "execution_count": 10,
   "id": "880018b9-2a98-42ce-89ec-58e474179f2e",
   "metadata": {},
   "outputs": [
    {
     "name": "stdout",
     "output_type": "stream",
     "text": [
      "column_1    0.366294\n",
      "column_2    0.644858\n",
      "column_3    0.595953\n",
      "column_4    0.660662\n",
      "column_5    0.404126\n",
      "column_6    0.380942\n",
      "dtype: float64\n"
     ]
    }
   ],
   "source": [
    "print(df1.mean())"
   ]
  },
  {
   "cell_type": "markdown",
   "id": "f20b6ed3-b95f-4b3c-82d0-35fe93e1e025",
   "metadata": {},
   "source": [
    "<h4>(ii) standard deviation of column, ‘column_2'"
   ]
  },
  {
   "cell_type": "code",
   "execution_count": 11,
   "id": "7ad2faf8-3776-4f38-b0bf-97bd3f35b5fb",
   "metadata": {},
   "outputs": [
    {
     "name": "stdout",
     "output_type": "stream",
     "text": [
      "0.2654963720252596\n"
     ]
    }
   ],
   "source": [
    "print(df1['column_2'].std())"
   ]
  },
  {
   "cell_type": "markdown",
   "id": "97658ead-ab82-4923-b547-1c4a38d0e9c9",
   "metadata": {},
   "source": [
    "<h3>Q5. Replace the data present in the second row of column, ‘column_2’ by a string variable then find the \n",
    "mean of column, column_2.\n",
    "\n",
    "If you are getting errors in executing it then explain why."
   ]
  },
  {
   "cell_type": "code",
   "execution_count": 12,
   "id": "2af079d5-137e-4ade-9503-97fd1c991c83",
   "metadata": {},
   "outputs": [],
   "source": [
    "df1.loc[2,'column_2'] = \"string\""
   ]
  },
  {
   "cell_type": "raw",
   "id": "6f9c6063-3f74-488d-b53c-112a0fdd6c63",
   "metadata": {},
   "source": [
    "df1['column_2'].mean()"
   ]
  },
  {
   "cell_type": "markdown",
   "id": "d5fb6347-f5ca-4b2a-8aef-7cd45cec8bd6",
   "metadata": {},
   "source": [
    "`TypeError: unsupported operand type(s) for +: 'float' and 'str'`\n",
    "* this indicates that we can't perform operation on different data types i.e here we have float value and string value in column_2 & we are trying to find mean () which is not supported.\n"
   ]
  },
  {
   "cell_type": "markdown",
   "id": "c7755d1e-8416-4e02-b51c-652421e33ef3",
   "metadata": {},
   "source": [
    "<h3>Q6. What do you understand about the windows function in pandas and list the types of windows \n",
    "functions"
   ]
  },
  {
   "cell_type": "markdown",
   "id": "e8c85a22-6a55-4a2e-b472-6be92e882f9e",
   "metadata": {},
   "source": [
    "The `Window functions` in Pandas are used to perform some sort of calculations across a set of rows that are interrelated with the current row. The Windows functions help us to perform aggregated calculations across various partitions or cross-sections of the data.\n",
    "\n",
    "<h5>Lists of windows functions:</h5>\n",
    "\n",
    "* rolling().mean(): Calculates the centered rolling mean.\n",
    "* rolling().sum(): Calculates the centered rolling sum.\n",
    "\n",
    "* rolling().max(): Calculates the centered rolling maximum\n",
    ".\n",
    "* rolling().min(): Calculates the centered rolling minimum.\n",
    "* rolling().std(): Calculates the centered rolling standard deviation."
   ]
  },
  {
   "cell_type": "markdown",
   "id": "7cc237a0-e1a2-420e-b897-effd2c919051",
   "metadata": {},
   "source": [
    "<h3>Q7. Write a code to print only the current month and year at the time of answering this question"
   ]
  },
  {
   "cell_type": "code",
   "execution_count": 13,
   "id": "f1ae23f3-85b4-4dd2-ac3f-40d073bd78f4",
   "metadata": {},
   "outputs": [
    {
     "name": "stdout",
     "output_type": "stream",
     "text": [
      "Current date:  2023-06-28\n",
      "Current year: 2023\n",
      "Current month: 6\n",
      "Current day: 28\n"
     ]
    }
   ],
   "source": [
    "from datetime import date\n",
    "\n",
    "todays_date = date.today()\n",
    "  \n",
    "print(\"Current date: \", todays_date)\n",
    "\n",
    "print(\"Current year:\", todays_date.year)\n",
    "print(\"Current month:\", todays_date.month)\n",
    "print(\"Current day:\", todays_date.day)"
   ]
  },
  {
   "cell_type": "markdown",
   "id": "3ac61388-c453-4875-81fa-be39c5da5bea",
   "metadata": {},
   "source": [
    "\n",
    "<h3>Q8. Write a Python program that takes in two dates as input (in the format YYYY-MM-DD) and \n",
    "calculates the difference between them in days, hours, and minutes using Pandas time delta. The \n",
    "program should prompt the user to enter the dates and display the result"
   ]
  },
  {
   "cell_type": "code",
   "execution_count": 14,
   "id": "b87e76dd-a4d0-4126-8b7d-549b02f573ae",
   "metadata": {},
   "outputs": [
    {
     "name": "stdin",
     "output_type": "stream",
     "text": [
      "enter the first date: (YYYY-MM-DD) 2002-10-20\n",
      "enter the second date (YYYY-MM-DD) 2023-06-28\n"
     ]
    },
    {
     "name": "stdout",
     "output_type": "stream",
     "text": [
      "the differnece between dates is 7556 days 00:00:00\n",
      "Days 7556\n",
      "Hours 0\n",
      "Minutes 0\n"
     ]
    }
   ],
   "source": [
    "date1 = input(\"enter the first date: (YYYY-MM-DD)\")\n",
    "date2 = input(\"enter the second date (YYYY-MM-DD)\")\n",
    "  \n",
    "date1 =pd.to_datetime(date1)\n",
    "date2 =pd.to_datetime(date2)\n",
    "\n",
    "dif= date2 - date1\n",
    "days = dif.days\n",
    "hours = dif.components.hours\n",
    "minutes = dif.components.minutes\n",
    "print (\"the differnece between dates is\", dif)\n",
    "print(\"Days\",days)\n",
    "print(\"Hours\",hours)\n",
    "print(\"Minutes\",minutes)\n",
    "    "
   ]
  },
  {
   "cell_type": "markdown",
   "id": "c5a815c7-091e-4970-86c7-2be806a6cefe",
   "metadata": {},
   "source": [
    "<h3>Q9. Write a Python program that reads a CSV file containing categorical data and converts a specified \n",
    "column to a categorical data type. The program should prompt the user to enter the file path, column \n",
    "name, and category order, and then display the sorted data."
   ]
  },
  {
   "cell_type": "code",
   "execution_count": 16,
   "id": "2e594a83-4d18-42cf-aa73-1179e5e3c3d8",
   "metadata": {},
   "outputs": [
    {
     "name": "stdin",
     "output_type": "stream",
     "text": [
      "Enter the file path:  https://raw.githubusercontent.com/datasciencedojo/datasets/master/titanic.csv\n",
      "Enter the column name:  Sex\n",
      "Enter the category order (comma-separated):  male\n"
     ]
    },
    {
     "data": {
      "text/html": [
       "<div>\n",
       "<style scoped>\n",
       "    .dataframe tbody tr th:only-of-type {\n",
       "        vertical-align: middle;\n",
       "    }\n",
       "\n",
       "    .dataframe tbody tr th {\n",
       "        vertical-align: top;\n",
       "    }\n",
       "\n",
       "    .dataframe thead th {\n",
       "        text-align: right;\n",
       "    }\n",
       "</style>\n",
       "<table border=\"1\" class=\"dataframe\">\n",
       "  <thead>\n",
       "    <tr style=\"text-align: right;\">\n",
       "      <th></th>\n",
       "      <th>PassengerId</th>\n",
       "      <th>Survived</th>\n",
       "      <th>Pclass</th>\n",
       "      <th>Name</th>\n",
       "      <th>Sex</th>\n",
       "      <th>Age</th>\n",
       "      <th>SibSp</th>\n",
       "      <th>Parch</th>\n",
       "      <th>Ticket</th>\n",
       "      <th>Fare</th>\n",
       "      <th>Cabin</th>\n",
       "      <th>Embarked</th>\n",
       "    </tr>\n",
       "  </thead>\n",
       "  <tbody>\n",
       "    <tr>\n",
       "      <th>0</th>\n",
       "      <td>1</td>\n",
       "      <td>0</td>\n",
       "      <td>3</td>\n",
       "      <td>Braund, Mr. Owen Harris</td>\n",
       "      <td>male</td>\n",
       "      <td>22.0</td>\n",
       "      <td>1</td>\n",
       "      <td>0</td>\n",
       "      <td>A/5 21171</td>\n",
       "      <td>7.2500</td>\n",
       "      <td>NaN</td>\n",
       "      <td>S</td>\n",
       "    </tr>\n",
       "    <tr>\n",
       "      <th>604</th>\n",
       "      <td>605</td>\n",
       "      <td>1</td>\n",
       "      <td>1</td>\n",
       "      <td>Homer, Mr. Harry (\"Mr E Haven\")</td>\n",
       "      <td>male</td>\n",
       "      <td>35.0</td>\n",
       "      <td>0</td>\n",
       "      <td>0</td>\n",
       "      <td>111426</td>\n",
       "      <td>26.5500</td>\n",
       "      <td>NaN</td>\n",
       "      <td>C</td>\n",
       "    </tr>\n",
       "    <tr>\n",
       "      <th>605</th>\n",
       "      <td>606</td>\n",
       "      <td>0</td>\n",
       "      <td>3</td>\n",
       "      <td>Lindell, Mr. Edvard Bengtsson</td>\n",
       "      <td>male</td>\n",
       "      <td>36.0</td>\n",
       "      <td>1</td>\n",
       "      <td>0</td>\n",
       "      <td>349910</td>\n",
       "      <td>15.5500</td>\n",
       "      <td>NaN</td>\n",
       "      <td>S</td>\n",
       "    </tr>\n",
       "    <tr>\n",
       "      <th>606</th>\n",
       "      <td>607</td>\n",
       "      <td>0</td>\n",
       "      <td>3</td>\n",
       "      <td>Karaic, Mr. Milan</td>\n",
       "      <td>male</td>\n",
       "      <td>30.0</td>\n",
       "      <td>0</td>\n",
       "      <td>0</td>\n",
       "      <td>349246</td>\n",
       "      <td>7.8958</td>\n",
       "      <td>NaN</td>\n",
       "      <td>S</td>\n",
       "    </tr>\n",
       "    <tr>\n",
       "      <th>607</th>\n",
       "      <td>608</td>\n",
       "      <td>1</td>\n",
       "      <td>1</td>\n",
       "      <td>Daniel, Mr. Robert Williams</td>\n",
       "      <td>male</td>\n",
       "      <td>27.0</td>\n",
       "      <td>0</td>\n",
       "      <td>0</td>\n",
       "      <td>113804</td>\n",
       "      <td>30.5000</td>\n",
       "      <td>NaN</td>\n",
       "      <td>S</td>\n",
       "    </tr>\n",
       "    <tr>\n",
       "      <th>...</th>\n",
       "      <td>...</td>\n",
       "      <td>...</td>\n",
       "      <td>...</td>\n",
       "      <td>...</td>\n",
       "      <td>...</td>\n",
       "      <td>...</td>\n",
       "      <td>...</td>\n",
       "      <td>...</td>\n",
       "      <td>...</td>\n",
       "      <td>...</td>\n",
       "      <td>...</td>\n",
       "      <td>...</td>\n",
       "    </tr>\n",
       "    <tr>\n",
       "      <th>880</th>\n",
       "      <td>881</td>\n",
       "      <td>1</td>\n",
       "      <td>2</td>\n",
       "      <td>Shelley, Mrs. William (Imanita Parrish Hall)</td>\n",
       "      <td>NaN</td>\n",
       "      <td>25.0</td>\n",
       "      <td>0</td>\n",
       "      <td>1</td>\n",
       "      <td>230433</td>\n",
       "      <td>26.0000</td>\n",
       "      <td>NaN</td>\n",
       "      <td>S</td>\n",
       "    </tr>\n",
       "    <tr>\n",
       "      <th>882</th>\n",
       "      <td>883</td>\n",
       "      <td>0</td>\n",
       "      <td>3</td>\n",
       "      <td>Dahlberg, Miss. Gerda Ulrika</td>\n",
       "      <td>NaN</td>\n",
       "      <td>22.0</td>\n",
       "      <td>0</td>\n",
       "      <td>0</td>\n",
       "      <td>7552</td>\n",
       "      <td>10.5167</td>\n",
       "      <td>NaN</td>\n",
       "      <td>S</td>\n",
       "    </tr>\n",
       "    <tr>\n",
       "      <th>885</th>\n",
       "      <td>886</td>\n",
       "      <td>0</td>\n",
       "      <td>3</td>\n",
       "      <td>Rice, Mrs. William (Margaret Norton)</td>\n",
       "      <td>NaN</td>\n",
       "      <td>39.0</td>\n",
       "      <td>0</td>\n",
       "      <td>5</td>\n",
       "      <td>382652</td>\n",
       "      <td>29.1250</td>\n",
       "      <td>NaN</td>\n",
       "      <td>Q</td>\n",
       "    </tr>\n",
       "    <tr>\n",
       "      <th>887</th>\n",
       "      <td>888</td>\n",
       "      <td>1</td>\n",
       "      <td>1</td>\n",
       "      <td>Graham, Miss. Margaret Edith</td>\n",
       "      <td>NaN</td>\n",
       "      <td>19.0</td>\n",
       "      <td>0</td>\n",
       "      <td>0</td>\n",
       "      <td>112053</td>\n",
       "      <td>30.0000</td>\n",
       "      <td>B42</td>\n",
       "      <td>S</td>\n",
       "    </tr>\n",
       "    <tr>\n",
       "      <th>888</th>\n",
       "      <td>889</td>\n",
       "      <td>0</td>\n",
       "      <td>3</td>\n",
       "      <td>Johnston, Miss. Catherine Helen \"Carrie\"</td>\n",
       "      <td>NaN</td>\n",
       "      <td>NaN</td>\n",
       "      <td>1</td>\n",
       "      <td>2</td>\n",
       "      <td>W./C. 6607</td>\n",
       "      <td>23.4500</td>\n",
       "      <td>NaN</td>\n",
       "      <td>S</td>\n",
       "    </tr>\n",
       "  </tbody>\n",
       "</table>\n",
       "<p>891 rows × 12 columns</p>\n",
       "</div>"
      ],
      "text/plain": [
       "     PassengerId  Survived  Pclass  \\\n",
       "0              1         0       3   \n",
       "604          605         1       1   \n",
       "605          606         0       3   \n",
       "606          607         0       3   \n",
       "607          608         1       1   \n",
       "..           ...       ...     ...   \n",
       "880          881         1       2   \n",
       "882          883         0       3   \n",
       "885          886         0       3   \n",
       "887          888         1       1   \n",
       "888          889         0       3   \n",
       "\n",
       "                                             Name   Sex   Age  SibSp  Parch  \\\n",
       "0                         Braund, Mr. Owen Harris  male  22.0      1      0   \n",
       "604               Homer, Mr. Harry (\"Mr E Haven\")  male  35.0      0      0   \n",
       "605                 Lindell, Mr. Edvard Bengtsson  male  36.0      1      0   \n",
       "606                             Karaic, Mr. Milan  male  30.0      0      0   \n",
       "607                   Daniel, Mr. Robert Williams  male  27.0      0      0   \n",
       "..                                            ...   ...   ...    ...    ...   \n",
       "880  Shelley, Mrs. William (Imanita Parrish Hall)   NaN  25.0      0      1   \n",
       "882                  Dahlberg, Miss. Gerda Ulrika   NaN  22.0      0      0   \n",
       "885          Rice, Mrs. William (Margaret Norton)   NaN  39.0      0      5   \n",
       "887                  Graham, Miss. Margaret Edith   NaN  19.0      0      0   \n",
       "888      Johnston, Miss. Catherine Helen \"Carrie\"   NaN   NaN      1      2   \n",
       "\n",
       "         Ticket     Fare Cabin Embarked  \n",
       "0     A/5 21171   7.2500   NaN        S  \n",
       "604      111426  26.5500   NaN        C  \n",
       "605      349910  15.5500   NaN        S  \n",
       "606      349246   7.8958   NaN        S  \n",
       "607      113804  30.5000   NaN        S  \n",
       "..          ...      ...   ...      ...  \n",
       "880      230433  26.0000   NaN        S  \n",
       "882        7552  10.5167   NaN        S  \n",
       "885      382652  29.1250   NaN        Q  \n",
       "887      112053  30.0000   B42        S  \n",
       "888  W./C. 6607  23.4500   NaN        S  \n",
       "\n",
       "[891 rows x 12 columns]"
      ]
     },
     "execution_count": 16,
     "metadata": {},
     "output_type": "execute_result"
    }
   ],
   "source": [
    "file_path = input(\"Enter the file path: \")\n",
    "\n",
    "df = pd.read_csv(file_path)\n",
    "\n",
    "column_name = input(\"Enter the column name: \")\n",
    "category_order = input(\"Enter the category order (comma-separated): \").split(\",\")\n",
    "\n",
    "df[column_name] = pd.Categorical(df[column_name], categories=category_order)\n",
    "\n",
    "df = df.sort_values(by=column_name)\n",
    "df"
   ]
  },
  {
   "cell_type": "markdown",
   "id": "eed19300-1ea9-44c3-aee8-791234c18966",
   "metadata": {},
   "source": [
    "<h3>Q10. Write a Python program that reads a CSV file containing sales data for different products and \n",
    "visualizes the data using a stacked bar chart to show the sales of each product category over time. The \n",
    "program should prompt the user to enter the file path and display the chart."
   ]
  },
  {
   "cell_type": "code",
   "execution_count": 18,
   "id": "488acdea-2d89-4fe0-90f5-4f75ec418d73",
   "metadata": {},
   "outputs": [
    {
     "data": {
      "text/html": [
       "<div>\n",
       "<style scoped>\n",
       "    .dataframe tbody tr th:only-of-type {\n",
       "        vertical-align: middle;\n",
       "    }\n",
       "\n",
       "    .dataframe tbody tr th {\n",
       "        vertical-align: top;\n",
       "    }\n",
       "\n",
       "    .dataframe thead th {\n",
       "        text-align: right;\n",
       "    }\n",
       "</style>\n",
       "<table border=\"1\" class=\"dataframe\">\n",
       "  <thead>\n",
       "    <tr style=\"text-align: right;\">\n",
       "      <th></th>\n",
       "      <th>month_number</th>\n",
       "      <th>facecream</th>\n",
       "      <th>facewash</th>\n",
       "      <th>toothpaste</th>\n",
       "      <th>bathingsoap</th>\n",
       "      <th>shampoo</th>\n",
       "      <th>moisturizer</th>\n",
       "      <th>total_units</th>\n",
       "      <th>total_profit</th>\n",
       "    </tr>\n",
       "  </thead>\n",
       "  <tbody>\n",
       "    <tr>\n",
       "      <th>0</th>\n",
       "      <td>1</td>\n",
       "      <td>2500</td>\n",
       "      <td>1500</td>\n",
       "      <td>5200</td>\n",
       "      <td>9200</td>\n",
       "      <td>1200</td>\n",
       "      <td>1500</td>\n",
       "      <td>21100</td>\n",
       "      <td>211000</td>\n",
       "    </tr>\n",
       "    <tr>\n",
       "      <th>1</th>\n",
       "      <td>2</td>\n",
       "      <td>2630</td>\n",
       "      <td>1200</td>\n",
       "      <td>5100</td>\n",
       "      <td>6100</td>\n",
       "      <td>2100</td>\n",
       "      <td>1200</td>\n",
       "      <td>18330</td>\n",
       "      <td>183300</td>\n",
       "    </tr>\n",
       "    <tr>\n",
       "      <th>2</th>\n",
       "      <td>3</td>\n",
       "      <td>2140</td>\n",
       "      <td>1340</td>\n",
       "      <td>4550</td>\n",
       "      <td>9550</td>\n",
       "      <td>3550</td>\n",
       "      <td>1340</td>\n",
       "      <td>22470</td>\n",
       "      <td>224700</td>\n",
       "    </tr>\n",
       "    <tr>\n",
       "      <th>3</th>\n",
       "      <td>4</td>\n",
       "      <td>3400</td>\n",
       "      <td>1130</td>\n",
       "      <td>5870</td>\n",
       "      <td>8870</td>\n",
       "      <td>1870</td>\n",
       "      <td>1130</td>\n",
       "      <td>22270</td>\n",
       "      <td>222700</td>\n",
       "    </tr>\n",
       "    <tr>\n",
       "      <th>4</th>\n",
       "      <td>5</td>\n",
       "      <td>3600</td>\n",
       "      <td>1740</td>\n",
       "      <td>4560</td>\n",
       "      <td>7760</td>\n",
       "      <td>1560</td>\n",
       "      <td>1740</td>\n",
       "      <td>20960</td>\n",
       "      <td>209600</td>\n",
       "    </tr>\n",
       "    <tr>\n",
       "      <th>5</th>\n",
       "      <td>6</td>\n",
       "      <td>2760</td>\n",
       "      <td>1555</td>\n",
       "      <td>4890</td>\n",
       "      <td>7490</td>\n",
       "      <td>1890</td>\n",
       "      <td>1555</td>\n",
       "      <td>20140</td>\n",
       "      <td>201400</td>\n",
       "    </tr>\n",
       "    <tr>\n",
       "      <th>6</th>\n",
       "      <td>7</td>\n",
       "      <td>2980</td>\n",
       "      <td>1120</td>\n",
       "      <td>4780</td>\n",
       "      <td>8980</td>\n",
       "      <td>1780</td>\n",
       "      <td>1120</td>\n",
       "      <td>29550</td>\n",
       "      <td>295500</td>\n",
       "    </tr>\n",
       "    <tr>\n",
       "      <th>7</th>\n",
       "      <td>8</td>\n",
       "      <td>3700</td>\n",
       "      <td>1400</td>\n",
       "      <td>5860</td>\n",
       "      <td>9960</td>\n",
       "      <td>2860</td>\n",
       "      <td>1400</td>\n",
       "      <td>36140</td>\n",
       "      <td>361400</td>\n",
       "    </tr>\n",
       "    <tr>\n",
       "      <th>8</th>\n",
       "      <td>9</td>\n",
       "      <td>3540</td>\n",
       "      <td>1780</td>\n",
       "      <td>6100</td>\n",
       "      <td>8100</td>\n",
       "      <td>2100</td>\n",
       "      <td>1780</td>\n",
       "      <td>23400</td>\n",
       "      <td>234000</td>\n",
       "    </tr>\n",
       "    <tr>\n",
       "      <th>9</th>\n",
       "      <td>10</td>\n",
       "      <td>1990</td>\n",
       "      <td>1890</td>\n",
       "      <td>8300</td>\n",
       "      <td>10300</td>\n",
       "      <td>2300</td>\n",
       "      <td>1890</td>\n",
       "      <td>26670</td>\n",
       "      <td>266700</td>\n",
       "    </tr>\n",
       "    <tr>\n",
       "      <th>10</th>\n",
       "      <td>11</td>\n",
       "      <td>2340</td>\n",
       "      <td>2100</td>\n",
       "      <td>7300</td>\n",
       "      <td>13300</td>\n",
       "      <td>2400</td>\n",
       "      <td>2100</td>\n",
       "      <td>41280</td>\n",
       "      <td>412800</td>\n",
       "    </tr>\n",
       "    <tr>\n",
       "      <th>11</th>\n",
       "      <td>12</td>\n",
       "      <td>2900</td>\n",
       "      <td>1760</td>\n",
       "      <td>7400</td>\n",
       "      <td>14400</td>\n",
       "      <td>1800</td>\n",
       "      <td>1760</td>\n",
       "      <td>30020</td>\n",
       "      <td>300200</td>\n",
       "    </tr>\n",
       "  </tbody>\n",
       "</table>\n",
       "</div>"
      ],
      "text/plain": [
       "    month_number  facecream  facewash  toothpaste  bathingsoap  shampoo  \\\n",
       "0              1       2500      1500        5200         9200     1200   \n",
       "1              2       2630      1200        5100         6100     2100   \n",
       "2              3       2140      1340        4550         9550     3550   \n",
       "3              4       3400      1130        5870         8870     1870   \n",
       "4              5       3600      1740        4560         7760     1560   \n",
       "5              6       2760      1555        4890         7490     1890   \n",
       "6              7       2980      1120        4780         8980     1780   \n",
       "7              8       3700      1400        5860         9960     2860   \n",
       "8              9       3540      1780        6100         8100     2100   \n",
       "9             10       1990      1890        8300        10300     2300   \n",
       "10            11       2340      2100        7300        13300     2400   \n",
       "11            12       2900      1760        7400        14400     1800   \n",
       "\n",
       "    moisturizer  total_units  total_profit  \n",
       "0          1500        21100        211000  \n",
       "1          1200        18330        183300  \n",
       "2          1340        22470        224700  \n",
       "3          1130        22270        222700  \n",
       "4          1740        20960        209600  \n",
       "5          1555        20140        201400  \n",
       "6          1120        29550        295500  \n",
       "7          1400        36140        361400  \n",
       "8          1780        23400        234000  \n",
       "9          1890        26670        266700  \n",
       "10         2100        41280        412800  \n",
       "11         1760        30020        300200  "
      ]
     },
     "execution_count": 18,
     "metadata": {},
     "output_type": "execute_result"
    }
   ],
   "source": [
    "df1\n"
   ]
  },
  {
   "cell_type": "code",
   "execution_count": 17,
   "id": "322dc560-c24e-4b3a-bad5-05466dec3c46",
   "metadata": {},
   "outputs": [
    {
     "name": "stdin",
     "output_type": "stream",
     "text": [
      "Enter the file path:  sales.csv\n"
     ]
    },
    {
     "data": {
      "image/png": "[encoded data removed]",
      "text/plain": [
       "<Figure size 640x480 with 1 Axes>"
      ]
     },
     "metadata": {},
     "output_type": "display_data"
    }
   ],
   "source": [
    "\n",
    "import matplotlib.pyplot as plt\n",
    "\n",
    "file_path = input(\"Enter the file path: \")\n",
    "\n",
    "\n",
    "df1 = pd.read_csv(file_path)\n",
    "\n",
    "\n",
    "categories1 = ['facecream', 'facewash', 'toothpaste','bathingsoap','shampoo','moisturizer']\n",
    "\n",
    "\n",
    "df1.plot(x='month_number', y=categories1, kind='bar', stacked=True)\n",
    "\n",
    "plt.xlabel('Month')\n",
    "plt.ylabel('Sales')\n",
    "plt.title('Product Category Sales Over Time')\n",
    "df\n",
    "plt.show()\n"
   ]
  },
  {
   "cell_type": "markdown",
   "id": "ffe5b52c-ff53-4c8e-aa3f-83382e6fa9d5",
   "metadata": {},
   "source": [
    "<h3>Q11. You are given a CSV file containing student data that includes the student ID and their test score. Write \n",
    "a Python program that reads the CSV file, calculates the mean, median, and mode of the test scores, and \n",
    "displays the results in a table.</h3>\n",
    "The program should do the following\n",
    "\n",
    "- Prompt the user to enter the file path of the CSV file containing the student dataR\n",
    "- Read the CSV file into a Pandas DataFrameR\n",
    "- Calculate the mean, median, and mode of the test scores using Pandas toolsR\n",
    "- Display the mean, median, and mode in a table.\n",
    "\n",
    "Assume the CSV file contains the following columns\n",
    "- Student ID: The ID of the studentR\n",
    "- Test Score: The score of the student's test.\n",
    "Example usage of the program:\n",
    "\n",
    "Enter the file path of the CSV file containing the student data: student_data.csv\n",
    "\n",
    "\n",
    "+-----------+--------+\n",
    "\n",
    "| Statistic | Value  |\n",
    "\n",
    "+-----------+--------+\n",
    "\n",
    "| Mean      | 79.6   |\n",
    "\n",
    "| Median    | 82     |\n",
    "\n",
    "| Mode      | 85, 90 |\n",
    "\n",
    "+-----------+--------+\n",
    "\n",
    "\n",
    "Assume that the CSV file student_data.csv contains the following data:\n",
    "\n",
    "Student ID,Test Score\n",
    "\n",
    "1,85\n",
    "\n",
    "2,90\n",
    "\n",
    "3,80\n",
    "\n",
    "4,75\n",
    "\n",
    "5,85\n",
    "\n",
    "6,82\n",
    "\n",
    "7,78\n",
    "\n",
    "8,85\n",
    "\n",
    "9,90\n",
    "\n",
    "10,85\n",
    "\n",
    "\n",
    "The program should calculate the mean, median, and mode of the test scores and display the results \n",
    "in a table."
   ]
  },
  {
   "cell_type": "code",
   "execution_count": 46,
   "id": "e1dc7bba-efa1-4de4-970f-20083cfca103",
   "metadata": {},
   "outputs": [
    {
     "name": "stdin",
     "output_type": "stream",
     "text": [
      "Enter the file path of the CSV file containing the student data:  student_data.csv\n"
     ]
    },
    {
     "data": {
      "text/html": [
       "<div>\n",
       "<style scoped>\n",
       "    .dataframe tbody tr th:only-of-type {\n",
       "        vertical-align: middle;\n",
       "    }\n",
       "\n",
       "    .dataframe tbody tr th {\n",
       "        vertical-align: top;\n",
       "    }\n",
       "\n",
       "    .dataframe thead th {\n",
       "        text-align: right;\n",
       "    }\n",
       "</style>\n",
       "<table border=\"1\" class=\"dataframe\">\n",
       "  <thead>\n",
       "    <tr style=\"text-align: right;\">\n",
       "      <th></th>\n",
       "      <th>Statistic</th>\n",
       "      <th>Value</th>\n",
       "    </tr>\n",
       "  </thead>\n",
       "  <tbody>\n",
       "    <tr>\n",
       "      <th>0</th>\n",
       "      <td>Mean</td>\n",
       "      <td>83.5</td>\n",
       "    </tr>\n",
       "    <tr>\n",
       "      <th>1</th>\n",
       "      <td>Median</td>\n",
       "      <td>85.0</td>\n",
       "    </tr>\n",
       "    <tr>\n",
       "      <th>2</th>\n",
       "      <td>Mode</td>\n",
       "      <td>[85]</td>\n",
       "    </tr>\n",
       "  </tbody>\n",
       "</table>\n",
       "</div>"
      ],
      "text/plain": [
       "  Statistic Value\n",
       "0      Mean  83.5\n",
       "1    Median  85.0\n",
       "2      Mode  [85]"
      ]
     },
     "execution_count": 46,
     "metadata": {},
     "output_type": "execute_result"
    }
   ],
   "source": [
    "file_path = input(\"Enter the CSV file a: \")\n",
    "\n",
    "\n",
    "df = pd.read_csv(file_path)\n",
    "\n",
    "\n",
    "mean_score = df['Test Score'].mean()\n",
    "median_score = df['Test Score'].median()\n",
    "mode_scores = df['Test Score'].mode()\n",
    "\n",
    "table_data = pd.DataFrame({'Statistic': ['Mean', 'Median', 'Mode'],\n",
    "                           'Value': [mean_score, median_score, list(mode_scores)]})\n",
    "\n",
    "\n",
    "table_data\n"
   ]
  },
  {
   "cell_type": "code",
   "execution_count": null,
   "id": "a92b9c33-3355-4f07-aaa9-f8dbf80d5232",
   "metadata": {},
   "outputs": [],
   "source": []
  }
 ],
 "metadata": {
  "kernelspec": {
   "display_name": "Python 3 (ipykernel)",
   "language": "python",
   "name": "python3"
  },
  "language_info": {
   "codemirror_mode": {
    "name": "ipython",
    "version": 3
   },
   "file_extension": ".py",
   "mimetype": "text/x-python",
   "name": "python",
   "nbconvert_exporter": "python",
   "pygments_lexer": "ipython3",
   "version": "3.10.8"
  }
 },
 "nbformat": 4,
 "nbformat_minor": 5
}
