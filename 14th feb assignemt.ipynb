{
 "cells": [
  {
   "cell_type": "markdown",
   "id": "af47760e-f3c9-4d45-b598-9537627f21b7",
   "metadata": {},
   "source": [
    "#### Q1.).What is multithreading in python? why is it used? Name the module used to handle threads in python"
   ]
  },
  {
   "cell_type": "markdown",
   "id": "70879e3b-4330-420a-84be-f8aa5686db3e",
   "metadata": {},
   "source": [
    "`Multithreading`:\n",
    "\n",
    "1)Multithreading in Python is a mechanism where multiple threads of execution are created within a single process, allowing different parts of a program to execute concurrently.\n",
    "\n",
    "2)To handle and work with threads in python we must import threading module"
   ]
  },
  {
   "cell_type": "markdown",
   "id": "3955fb06-468c-4cf5-9b83-19392725d765",
   "metadata": {},
   "source": [
    "#### Q2). Why threading module used? Write the use of the following functions\n",
    "1) activeCount()\n",
    "2) currentThread()\n",
    "3) enumerate()"
   ]
  },
  {
   "cell_type": "markdown",
   "id": "ae364ca2-1c6d-4cbd-b075-75329c3913c2",
   "metadata": {},
   "source": [
    "`Why`: Multithreading in python is used to create and manage threads of execution within a single process. \n"
   ]
  },
  {
   "cell_type": "markdown",
   "id": "85110836-034b-4a0c-a91a-c80e1c8aba3a",
   "metadata": {},
   "source": [
    "`1.activeCount()`:\n",
    "This function returns the number of threads object that are currently active in the programm."
   ]
  },
  {
   "cell_type": "code",
   "execution_count": 7,
   "id": "3825f82f-ade9-4876-a7d0-61f863e70ede",
   "metadata": {},
   "outputs": [
    {
     "name": "stdout",
     "output_type": "stream",
     "text": [
      "Active threads are: <function activeCount at 0x7fc6c1b29ab0>\n"
     ]
    }
   ],
   "source": [
    "import threading\n",
    "\n",
    "def dinner():\n",
    "    print(\"You are taking dinner\")\n",
    "\n",
    "def movie():\n",
    "    print(\"you are watching Movie\")\n",
    "    \n",
    "    \n",
    "a = threading.Thread(target = dinner, args=())\n",
    "b = threading.Thread(target = movie, args=())\n",
    "\n",
    "print(\"Active threads are:\",threading.activeCount)"
   ]
  },
  {
   "cell_type": "markdown",
   "id": "53ae2b41-a4fb-4027-92d0-e0ccdbb484a3",
   "metadata": {},
   "source": [
    "`2.currentThread()`:\n",
    "This function return a reference to the current Thread object, which represents the thread is actually is currently executing the code."
   ]
  },
  {
   "cell_type": "code",
   "execution_count": 10,
   "id": "165cac67-5cee-48aa-8241-93dd973416ea",
   "metadata": {},
   "outputs": [
    {
     "name": "stdout",
     "output_type": "stream",
     "text": [
      "currently executing threads are: <_MainThread(MainThread, started 140491635357504)>\n"
     ]
    }
   ],
   "source": [
    "import threading\n",
    "\n",
    "def dinner():\n",
    "    print(\"You are taking dinner\")\n",
    "\n",
    "def movie():\n",
    "    print(\"you are watching Movie\")\n",
    "    \n",
    "    \n",
    "a = threading.Thread(target = dinner, args=())\n",
    "b = threading.Thread(target = movie, args=())\n",
    "\n",
    "print(\"currently executing threads are:\",threading.current_thread())"
   ]
  },
  {
   "cell_type": "markdown",
   "id": "31c972d5-94a2-4b0e-9985-1b8c0a2599ae",
   "metadata": {},
   "source": [
    "`3.enumerate`:\n",
    "This function returns a list of all Threads objects that are currently active in the program, including the main thread."
   ]
  },
  {
   "cell_type": "code",
   "execution_count": 26,
   "id": "f001cc25-bd83-426a-a364-ab21238acb81",
   "metadata": {},
   "outputs": [
    {
     "name": "stdout",
     "output_type": "stream",
     "text": [
      "You are taking dinner\n",
      "you are watching Movie\n",
      "Threads ar: <_MainThread(MainThread, started 140491635357504)>\n",
      "Threads ar: <Thread(IOPub, started daemon 140491564828224)>\n",
      "Threads ar: <Heartbeat(Heartbeat, started daemon 140491556435520)>\n",
      "Threads ar: <Thread(Thread-3 (_watch_pipe_fd), started daemon 140491324646976)>\n",
      "Threads ar: <Thread(Thread-4 (_watch_pipe_fd), started daemon 140491316254272)>\n",
      "Threads ar: <ControlThread(Control, started daemon 140491307861568)>\n",
      "Threads ar: <HistorySavingThread(IPythonHistorySavingThread, started 140491299468864)>\n",
      "Threads ar: <ParentPollerUnix(Thread-2, started daemon 140491291076160)>\n",
      "currently executing threads are: <_MainThread(MainThread, started 140491635357504)>\n"
     ]
    }
   ],
   "source": [
    "import threading\n",
    "\n",
    "def dinner():\n",
    "    print(\"You are taking dinner\")\n",
    "\n",
    "def movie():\n",
    "    print(\"you are watching Movie\")\n",
    "    \n",
    "    \n",
    "t1 = threading.Thread(target = dinner, args=())\n",
    "t2 = threading.Thread(target = movie, args=())\n",
    "\n",
    "t1.start()\n",
    "t2.start()\n",
    "\n",
    "for t in threading . enumerate():\n",
    "    print(\"Threads ar:\", t)\n",
    "    \n",
    "t1.join()\n",
    "t2.join()\n",
    "\n",
    "print(\"currently executing threads are:\",threading.current_thread())"
   ]
  },
  {
   "cell_type": "markdown",
   "id": "7b2ec367-8b4c-4cc2-8c90-3a9040c8350c",
   "metadata": {},
   "source": [
    "#### Q4.  Write a python program to create two threads. Thread one must print the list of squares and thread two must print the list of cubes."
   ]
  },
  {
   "cell_type": "code",
   "execution_count": 44,
   "id": "d358cfb1-d171-454a-a0b9-0e6c682a35a2",
   "metadata": {},
   "outputs": [
    {
     "name": "stdout",
     "output_type": "stream",
     "text": [
      "cube of  10 are [1000]\n",
      "the square of 10 are [100]\n"
     ]
    }
   ],
   "source": [
    "import threading\n",
    "list_cube = []\n",
    "list_sq =[]\n",
    "def l_cube(n):\n",
    "    list_cube.append(n**3)\n",
    "    print(\"cube of \",n, \"are\", list_cube)\n",
    "    \n",
    "def l_sq(n):\n",
    "    list_sq.append(n**2)\n",
    "    print(\"the square of\", n, \"are\", list_sq)\n",
    "    \n",
    "t1 = threading.Thread(target = l_cube, args = (10,))\n",
    "t2 = threading.Thread(target = l_sq, args = (10,))\n",
    "\n",
    "t1.start()\n",
    "t2.start()\n",
    "\n",
    "t1.join()\n",
    "t2.join()\n",
    "\n"
   ]
  },
  {
   "cell_type": "markdown",
   "id": "86c14895-b071-402d-b5cb-b97233e68d20",
   "metadata": {},
   "source": [
    "#### Q5. State advantages and disadvantages of multithreading"
   ]
  },
  {
   "cell_type": "markdown",
   "id": "1dba0f12-0614-4b30-930b-843ee82a4e5b",
   "metadata": {},
   "source": [
    "`Advantages`:\n",
    "1) Multithreading can significantly increase the performance of a program by allowing multiple threads to execute simultaneously.\n",
    "2) Multithreading allows the efficient use of system resources such as memory and CPU time.\n",
    "3) Multithreading can improve the responsiveness of an application by allowing certain tasks to run in the background while the main thread continues to execute other tasks.\n",
    "\n",
    "`Disadvantages`:\n",
    "\n",
    "1) Multithreaded applications can be more difficult to design, implement, and debug than single-threaded applications. \n",
    "2) Multithreaded applications can be more difficult to design, implement, and debug than single-threaded applications. \n",
    "\n",
    "\n"
   ]
  },
  {
   "cell_type": "markdown",
   "id": "45e29e72-604b-4c2f-861c-8dacf1a1f37f",
   "metadata": {},
   "source": [
    "####  Q6. Explain deadlocks and race conditions."
   ]
  },
  {
   "cell_type": "markdown",
   "id": "8f08744d-ac81-4fc7-a240-ca1f0b44d9f1",
   "metadata": {},
   "source": [
    "` race condition ` :\n",
    "A race condition in Python can occur when two or more threads access a shared resource without proper synchronization, leading to unpredictable behavior\n"
   ]
  },
  {
   "cell_type": "code",
   "execution_count": 50,
   "id": "68cd9981-c21f-49b4-aa9a-e44f041d99b0",
   "metadata": {},
   "outputs": [
    {
     "name": "stdout",
     "output_type": "stream",
     "text": [
      "Counter value: 200000\n"
     ]
    }
   ],
   "source": [
    "import threading\n",
    "\n",
    "\n",
    "counter = 0\n",
    "\n",
    "def increment():\n",
    "    global counter\n",
    "    for i in range(100000):\n",
    "        counter += 1\n",
    "\n",
    "\n",
    "t1 = threading.Thread(target=increment)\n",
    "t2 = threading.Thread(target=increment)\n",
    "\n",
    "\n",
    "t1.start()\n",
    "t2.start()\n",
    "\n",
    "\n",
    "t1.join()\n",
    "t2.join()\n",
    "\n",
    "\n",
    "print(\"Counter value:\", counter)\n"
   ]
  },
  {
   "cell_type": "markdown",
   "id": "b49669c4-83f7-49cd-b84f-8354edeb70a6",
   "metadata": {},
   "source": [
    "`dead lock`:\n",
    "A deadlock in Python can occur when two or more threads are waiting for a resource that is held by another thread, and the other thread is waiting for a resource held by the first thread.\n"
   ]
  },
  {
   "cell_type": "code",
   "execution_count": 52,
   "id": "61d3deb3-09ef-4b38-8728-83e80e94c410",
   "metadata": {},
   "outputs": [
    {
     "name": "stdout",
     "output_type": "stream",
     "text": [
      "Thread 1 acquired both resources\n",
      "Thread 2 acquired both resources\n"
     ]
    }
   ],
   "source": [
    "import threading\n",
    "\n",
    "\n",
    "resource_a = threading.Lock()\n",
    "resource_b = threading.Lock()\n",
    "\n",
    "def thread_1():\n",
    "    with resource_a:\n",
    "        with resource_b:\n",
    "            print(\"Thread 1 acquired both resources\")\n",
    "\n",
    "def thread_2():\n",
    "    with resource_b:\n",
    "        with resource_a:\n",
    "            print(\"Thread 2 acquired both resources\")\n",
    "\n",
    "\n",
    "t1 = threading.Thread(target=thread_1)\n",
    "t2 = threading.Thread(target=thread_2)\n",
    "\n",
    "\n",
    "t1.start()\n",
    "t2.start()\n",
    "\n",
    "\n",
    "t1.join()\n",
    "t2.join()\n"
   ]
  },
  {
   "cell_type": "code",
   "execution_count": null,
   "id": "5bf9cb1f-8239-4b79-89cb-57114fdea12d",
   "metadata": {},
   "outputs": [],
   "source": []
  }
 ],
 "metadata": {
  "kernelspec": {
   "display_name": "Python 3 (ipykernel)",
   "language": "python",
   "name": "python3"
  },
  "language_info": {
   "codemirror_mode": {
    "name": "ipython",
    "version": 3
   },
   "file_extension": ".py",
   "mimetype": "text/x-python",
   "name": "python",
   "nbconvert_exporter": "python",
   "pygments_lexer": "ipython3",
   "version": "3.10.8"
  }
 },
 "nbformat": 4,
 "nbformat_minor": 5
}
