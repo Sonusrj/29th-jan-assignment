{
 "cells": [
  {
   "cell_type": "code",
   "execution_count": 1,
   "id": "15c89a2d-21d3-43ca-ad33-d69b573490de",
   "metadata": {},
   "outputs": [],
   "source": [
    "#Q1)\n",
    "# Ans.Guido van Rossum developed python programming language"
   ]
  },
  {
   "cell_type": "code",
   "execution_count": 4,
   "id": "ae914714-5dba-4662-9dfc-03ad06524c48",
   "metadata": {},
   "outputs": [],
   "source": [
    "#Q2\n",
    "# Python supports object-oreinted programming and structured programming"
   ]
  },
  {
   "cell_type": "code",
   "execution_count": 7,
   "id": "20e4ca02-33c1-4a1a-9df5-53a52cd116fe",
   "metadata": {},
   "outputs": [],
   "source": [
    "#Q3\n",
    "# Yes, python is case sensitive when dealing with identifiers it treats character differently based upon uppercase and lowercase.  "
   ]
  },
  {
   "cell_type": "code",
   "execution_count": 8,
   "id": "1cbb62a4-80ae-444f-a48d-945194de02ef",
   "metadata": {},
   "outputs": [],
   "source": [
    "#Q4\n",
    "# .py is correct extension of python file."
   ]
  },
  {
   "cell_type": "code",
   "execution_count": 11,
   "id": "f0f68d4e-34b7-4517-b123-1c849e252777",
   "metadata": {},
   "outputs": [],
   "source": [
    "#Q5\n",
    "# Python code is interpreted but before that it is compiled."
   ]
  },
  {
   "cell_type": "code",
   "execution_count": 12,
   "id": "2d82a2ef-db36-4666-a02d-8728580cd2df",
   "metadata": {},
   "outputs": [],
   "source": [
    "#6\n",
    "# In python we use indentationt to define block of code."
   ]
  },
  {
   "cell_type": "code",
   "execution_count": 13,
   "id": "9beb293c-af90-4e3d-af96-e3419c3785c7",
   "metadata": {},
   "outputs": [],
   "source": [
    "#7\n",
    "# The Hash Character(#) is used to give single line comment.\n"
   ]
  },
  {
   "cell_type": "code",
   "execution_count": 14,
   "id": "59bceb49-bdce-4aa3-a609-d538af68aa78",
   "metadata": {},
   "outputs": [],
   "source": [
    "#Q8\n",
    "# the function sys.version can help us to find out which version we are currently working on."
   ]
  },
  {
   "cell_type": "code",
   "execution_count": 15,
   "id": "10e6a3e0-6b45-41c6-97db-f0ac33af4b69",
   "metadata": {},
   "outputs": [],
   "source": [
    "#Q9\n",
    "# Pythonn supports the creation of anonymous function at runtime using a construct call lambda"
   ]
  },
  {
   "cell_type": "code",
   "execution_count": 16,
   "id": "2b0343e7-d6c5-4bab-b03e-adf2f617a6ba",
   "metadata": {
    "jupyter": {
     "source_hidden": true
    },
    "tags": []
   },
   "outputs": [],
   "source": [
    "#Q10\n",
    "# pip stands for preferred installer progeam"
   ]
  },
  {
   "cell_type": "code",
   "execution_count": 17,
   "id": "9abb33f9-2d39-4d7b-88a3-35d20c280be5",
   "metadata": {},
   "outputs": [],
   "source": [
    "#Q11\n",
    "#print(),input(),type(),len(),range(),set(),len(),str() and there more bultin functions in py. \n",
    "# there are  68 built function in python.\n"
   ]
  },
  {
   "cell_type": "code",
   "execution_count": 18,
   "id": "c003d909-5450-47f2-b5cc-a7a339571270",
   "metadata": {},
   "outputs": [],
   "source": [
    "#Q12\n",
    "# An identifier can have a macimum len og 79 characters"
   ]
  },
  {
   "cell_type": "code",
   "execution_count": 19,
   "id": "cff1a6de-af63-4223-ab71-cd771ae6a71c",
   "metadata": {},
   "outputs": [],
   "source": [
    "#Q13\n",
    "# there are many befinits of using python some are:\n",
    "# 1.It is easy to read, learn and write\n",
    "# 2.It is Dynamically typed language i.e we do not need to mention type of data on values we assign\n",
    "# 3.It supports both oject-oreienter and structured programming language\n",
    "# 4.It is highly efficient\n",
    "# 5.It is used in Data science, computer graphics, and many more "
   ]
  },
  {
   "cell_type": "code",
   "execution_count": 22,
   "id": "4229f97c-a6e3-4aab-9922-5f5596932f9e",
   "metadata": {},
   "outputs": [],
   "source": [
    "#Q14\n",
    "'''Memory management in Python involves a private heap containing all Python objects and data structures. \n",
    " The management of this private heap is ensured internally by the Python memory manager. The Python memory manager has different components\n",
    " which deal with various dynamic storage management aspects, like sharing, segmentation, preallocation or caching.'''"
   ]
  },
  {
   "cell_type": "code",
   "execution_count": 23,
   "id": "d491a9d2-847a-4cab-ae56-adf5a2256eb6",
   "metadata": {},
   "outputs": [],
   "source": [
    "#Q15\n",
    "''' \n",
    "1. \n",
    "To install first we have to download python installation file that we can get from official python website\n",
    " and then Run the installation and complete the process\n",
    " 2.\n",
    "To set the environment variables:\n",
    " a. Open the Start menu and search for \"Environment Variables\".\n",
    " b. Click on \"Edit the system environment variables\".\n",
    " c. Click on the \"Environment Variables\" button.\n",
    " d. Under \"System Variables\", scroll down and find the \"Path\" variable, then click on \"Edit\".\n",
    " e. Click on \"New\" and add the path to the Python installation (e.g., \"C:\\Python38\").\n",
    " f. Click \"OK\" to close all windows and apply the changes.\n"
   ]
  },
  {
   "cell_type": "code",
   "execution_count": null,
   "id": "7216f0ef-fc63-4d5c-9132-e8e4f8e84e72",
   "metadata": {},
   "outputs": [],
   "source": [
    "# Q16\n",
    "#Yes indentation is required in python . it is very important in differentiation of code blocks"
   ]
  }
 ],
 "metadata": {
  "kernelspec": {
   "display_name": "Python 3 (ipykernel)",
   "language": "python",
   "name": "python3"
  },
  "language_info": {
   "codemirror_mode": {
    "name": "ipython",
    "version": 3
   },
   "file_extension": ".py",
   "mimetype": "text/x-python",
   "name": "python",
   "nbconvert_exporter": "python",
   "pygments_lexer": "ipython3",
   "version": "3.10.8"
  }
 },
 "nbformat": 4,
 "nbformat_minor": 5
}
