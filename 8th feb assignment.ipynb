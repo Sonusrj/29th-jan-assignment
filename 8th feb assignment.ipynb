{
 "cells": [
  {
   "cell_type": "markdown",
   "id": "cfb48c33-ceaf-47f1-885d-fdfb90738c8a",
   "metadata": {},
   "source": [
    "#### Q1). What is Abstraction in Oops ? Explain with an example."
   ]
  },
  {
   "cell_type": "markdown",
   "id": "80e2912e-de32-4ab2-b05a-f6e55d036edf",
   "metadata": {},
   "source": [
    " Abstraction refers to the process of hiding complex implementation details and showing only the essential features of an object to the user. Abstraction is important because it helps reduce complexity, increase security, and improve code maintainability."
   ]
  },
  {
   "cell_type": "code",
   "execution_count": 7,
   "id": "4b09a569-7b82-4fba-a5f1-212380cfc233",
   "metadata": {},
   "outputs": [
    {
     "name": "stdout",
     "output_type": "stream",
     "text": [
      "Running\n",
      "Swimming\n"
     ]
    }
   ],
   "source": [
    "from abc import ABC, abstractmethod\n",
    "\n",
    "class Animal(ABC):\n",
    "    @abstractmethod\n",
    "    def move(self):\n",
    "        pass\n",
    "\n",
    "class Dog(Animal):\n",
    "    def move(self):\n",
    "        print(\"Running\")\n",
    "\n",
    "class Fish(Animal):\n",
    "    def move(self):\n",
    "        print(\"Swimming\")\n",
    "\n",
    "dog = Dog()\n",
    "dog.move() \n",
    "\n",
    "fish = Fish()\n",
    "fish.move()  \n"
   ]
  },
  {
   "cell_type": "markdown",
   "id": "edfba25d-6615-40ee-a01a-65c57cad5430",
   "metadata": {},
   "source": [
    "#### Q2). Differentiate between Abstraction and Encapsulation. Explain with an example."
   ]
  },
  {
   "cell_type": "markdown",
   "id": "dee4c8bf-db31-46f6-b86d-4e888dce1dcf",
   "metadata": {},
   "source": [
    "`Abstraction :`\n",
    "Abstraction is the process of hiding complex implementation details and showing only the essential features of an object to the user. It focuses on \"what\" the object does, rather than \"how\" it does it. Abstraction is achieved through the use of abstract classes, interfaces, and inheritance.\n",
    "\n",
    "`Encapsulation :`\n",
    "Encapsulation, on the other hand, is the process of hiding the internal details of an object and providing a public interface for accessing and modifying its state. It focuses on \"how\" the object works, rather than \"what\" it does. "
   ]
  },
  {
   "cell_type": "code",
   "execution_count": 15,
   "id": "e865ed04-796d-4f4f-a13b-fdeee1643141",
   "metadata": {},
   "outputs": [],
   "source": [
    "class Car:\n",
    "    def __init__(self, make, model, year):\n",
    "        self.__make = make\n",
    "        self.__model = model\n",
    "        self.__year = year\n",
    "        self.__speed = 0\n",
    "\n",
    "    def get_make(self):\n",
    "        return self.__make\n",
    "\n",
    "    def get_model(self):\n",
    "        return self.__model\n",
    "\n",
    "    def get_year(self):\n",
    "        return self.__year\n",
    "\n",
    "    def get_speed(self):\n",
    "        return self.__speed\n",
    "\n",
    "    def accelerate(self):\n",
    "        self.__speed += 10\n",
    "\n",
    "    def brake(self):\n",
    "        self.__speed -= 10\n",
    "        \n",
    "\n",
    "        \n"
   ]
  },
  {
   "cell_type": "markdown",
   "id": "25e93c4b-281f-4dc6-a83e-234bfe7055f2",
   "metadata": {},
   "source": [
    "#### Q3. What is abc module in python? Why is it used?"
   ]
  },
  {
   "cell_type": "markdown",
   "id": "c85eb8e6-48ea-47be-83ad-7444fb155946",
   "metadata": {},
   "source": [
    "`abc module :`\n",
    "The abc module in Python stands for \"Abstract Base Classes\". It provides a way to define abstract classes and abstract methods in Python, which are classes and methods that have no implementation in the base class, but must be implemented in the derived classes that inherit from the base class.\n",
    "\n",
    "`Uses :`\n",
    "The abc module is used to define abstract classes and abstract methods in Python, which can be used to enforce certain structure and behavior in class hierarchies\n"
   ]
  },
  {
   "cell_type": "markdown",
   "id": "45736317-2fae-4400-a89c-a49fd6eb5d44",
   "metadata": {},
   "source": [
    "#### Q4. How can we achieve data abstraction?"
   ]
  },
  {
   "cell_type": "markdown",
   "id": "7c7e5bf4-0de5-4785-9ce5-0e17ebc363ea",
   "metadata": {},
   "source": [
    "we can achieve data abstraction through the use of classes and objects. Data abstraction is the process of hiding implementation details and exposing only the relevant data or methods to the user. This can make it easier to use and understand code, and can help to ensure that the implementation details are not accidentally changed or misused.\n",
    "\n",
    "Also we can achieve data abstraction with 1) Encapsulation, 2) Private and protected membera 3) Abstract class and methods 4) Getters and setters"
   ]
  },
  {
   "cell_type": "markdown",
   "id": "75746cdb-7f13-475b-9c20-6cc0aeffa713",
   "metadata": {},
   "source": [
    "#### Q5. Can we create an instance of an abstract class? Explain your answer."
   ]
  },
  {
   "cell_type": "markdown",
   "id": "7147faec-1165-4296-bb1f-d72c6a275ccd",
   "metadata": {},
   "source": [
    "No, we cannot create an instance of an abstract class in Python. An abstract class is a class that contains one or more abstract methods, which are methods that have no implementation in the base class but must be implemented in any derived classes. An abstract class is intended to be a base class for other classes, and is not meant to be instantiated on its own.\n",
    "\n",
    "In Python, we can create an abstract class using the abc module, by defining one or more abstract methods using the @abstractmethod decorator."
   ]
  },
  {
   "cell_type": "code",
   "execution_count": null,
   "id": "b9f4d9bf-2be9-4e8f-a973-acaa22f90453",
   "metadata": {},
   "outputs": [],
   "source": []
  }
 ],
 "metadata": {
  "kernelspec": {
   "display_name": "Python 3 (ipykernel)",
   "language": "python",
   "name": "python3"
  },
  "language_info": {
   "codemirror_mode": {
    "name": "ipython",
    "version": 3
   },
   "file_extension": ".py",
   "mimetype": "text/x-python",
   "name": "python",
   "nbconvert_exporter": "python",
   "pygments_lexer": "ipython3",
   "version": "3.10.8"
  }
 },
 "nbformat": 4,
 "nbformat_minor": 5
}
