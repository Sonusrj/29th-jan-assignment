{
 "cells": [
  {
   "cell_type": "markdown",
   "id": "35d6dfe7-06c5-4ddb-8a3a-465ad6f8d7f4",
   "metadata": {},
   "source": [
    "#### Q1. What is a database? Differentiate between SQL and NoSQL databases."
   ]
  },
  {
   "cell_type": "markdown",
   "id": "2a042eb1-5abb-4c83-8ac5-b4f7ae08880c",
   "metadata": {},
   "source": [
    "`Database`:\n",
    "A databse is collection of data that is stored and manged on computer system. It is system for organizing,storing and retrieving data in an efficient and secure manner.\n",
    "\n",
    "`SQL`:\n",
    "Structured query language (SQL) is database based on relational model , orgainizes data into tables with predefined relationship between them.\n",
    "\n",
    "SQL databse display data in form of tables so it is known as table based database.\n",
    "\n",
    "SQL database are vertically scalable\n",
    "\n",
    "`NoSQL`:\n",
    "\n",
    "NoSQL database are categorized as non - relational databse model , they are based pn various data model.\n",
    "\n",
    "NoSQL database dispaly data as collection of key - value pair, documents, graph database or wide column stories.\n",
    "\n",
    "NoSQL database are horizontally scalable"
   ]
  },
  {
   "cell_type": "markdown",
   "id": "29aa398d-427c-4c85-bd91-87e1131ccb55",
   "metadata": {},
   "source": [
    "#### Q2. What is DDL? Explain why CREATE, DROP, ALTER, and TRUNCATE are used with an example."
   ]
  },
  {
   "cell_type": "markdown",
   "id": "7c0b41a7-4385-4a8f-8971-9a4be475fef4",
   "metadata": {},
   "source": [
    "`DDL`: It stands for Data Defination Language , it is set of SQL commands used to create, modify, an delete database objects such as tables, indexes, views, and procedures.\n",
    "\n",
    "`CREATE`: This command is used for creating a new database or table:\n",
    "\n",
    "EXAMPLE:\n",
    "CREATE TABEL teste(VARCHAR(100),surname VARCHAR(100),id INT  ,batch VARHCR(100));\n",
    "\n",
    "`DROP`: This command is used to delete an exixting databse or tabel.\n",
    "\n",
    "EXAMPLE:\n",
    "DROP TABLE test:\n",
    "\n",
    "`ALTER`: This command is used to modify an existing database or table, like to insert new column into the test tabel.\n",
    "\n",
    "EXAMPLE:\n",
    "ALTER TABLE test\n",
    "ADD COLUMN  phone VARCHAR(20);\n",
    "\n",
    "`TRUNCATE`: This command is used to delete all data from existing table ,but the table structure remains intact.\n",
    "\n",
    "EXAMPLE:\n",
    "TRUNCATE TABLE test;"
   ]
  },
  {
   "cell_type": "markdown",
   "id": "b19a650d-b613-4b22-ae61-17d05c4477b3",
   "metadata": {},
   "source": [
    " #### Q3. What is DML? Explain INSERT, UPDATE, and DELETE with an example."
   ]
  },
  {
   "cell_type": "markdown",
   "id": "bf8d01dd-e4e1-4f62-8b95-6cc94d0e3962",
   "metadata": {},
   "source": [
    "`DML`: DML stand for data manipulation language, it is set of SQL commands used to manipulate data stored in a database.\n",
    "\n",
    "`INSERT`: This command is used to add new data to a table.\n",
    "\n",
    "EXAMPLE:\n",
    "     INSERT INTO test(id,name,email)\n",
    "     VALUES(1,'sonu',sonu@gmail.com');\n",
    "\n",
    "`UPDATE`: This command is used to modify existing data in a table.\n",
    "\n",
    "EXAMPLE:\n",
    "    UPDATE test\n",
    "    SET email = 'sonu@gmail.com'\n",
    "    WHERE id = 1;\n",
    "\n",
    "`DELETE`: This command is used to remove data from a table.\n",
    "\n",
    "EXAMPLE:\n",
    "    DELETE FROM test\n",
    "    WHERE id = 1"
   ]
  },
  {
   "cell_type": "markdown",
   "id": "4154de72-8ed0-47c0-93d7-a8bba2106d27",
   "metadata": {},
   "source": [
    "#### Q4. What is DQL? Explain SELECT with an example."
   ]
  },
  {
   "cell_type": "markdown",
   "id": "02ade134-b1cb-4326-b783-200d8dd9bdc5",
   "metadata": {},
   "source": [
    "`DQL`: DQL stands for DATA QUERY LANGUAGE , it is set of commands used to retrieve data from database.,it is used to query data from table and perform data analysis.\n",
    "\n",
    "`SELECT`:This command is the most commonly used DQL command , and it is used to retirive data form one or more table . \n",
    "\n",
    "EXAMPLE :\n",
    "SELECT * FROM test"
   ]
  },
  {
   "cell_type": "markdown",
   "id": "7e5dc6f4-066a-41a5-9cb6-fad40e6b493b",
   "metadata": {},
   "source": [
    "#### Q5. Explain Primary Key and Foreign Key."
   ]
  },
  {
   "cell_type": "markdown",
   "id": "7d6234a9-6caa-4b61-b5d0-c18f296a4fca",
   "metadata": {},
   "source": [
    "`Primary key`:A primary key is  unique identifier for a record in a table. A primary key is used to ensure that each record in a table is uniquely identified and to enforce data integrity. A primary key can be a single column or a combination of columns that together uniquely identify each record in a table\n",
    "\n",
    "`Foreign key`:A foreign key is a column or group of columns in a relational database table that provides a link between data in two tables. It is a column (or columns) that references a column (most often the primary key) of another table. "
   ]
  },
  {
   "cell_type": "markdown",
   "id": "bd4daa70-1ce1-4768-8c44-b37f67f0fa09",
   "metadata": {},
   "source": [
    "#### Q6. Write a python code to connect MySQL to python. Explain the cursor() and execute() method."
   ]
  },
  {
   "cell_type": "code",
   "execution_count": null,
   "id": "734179e7-944e-4580-befd-cab9fc73c307",
   "metadata": {},
   "outputs": [],
   "source": [
    "import mysql.connector\n",
    "\n",
    "mydb = mysql.connector.connect( host = \"localhost\",\n",
    "                                user = \"sonu\",\n",
    "                                password = \"password\",\n",
    "                              )\n",
    "mycursor = mydb.cursor()\n",
    "\n",
    "mycursor.execute(\"CRETE DATABSE test\")\n",
    "for i in mycursor:\n",
    "        print(\"rows:\",i)\n"
   ]
  },
  {
   "cell_type": "markdown",
   "id": "4ebda777-f334-4873-9932-0a20ce4f2c7c",
   "metadata": {},
   "source": [
    "`cursor()`: This method creates object that allows us to execute SQL queries and fetch the results.\n",
    "\n",
    "`execute()`: This method is used to create a cursor object , which is then used to excute a SQL query to select all rows from table in the MySQL database."
   ]
  },
  {
   "cell_type": "markdown",
   "id": "d51374b1-235d-4015-9acb-392842df4415",
   "metadata": {},
   "source": [
    "#### Q7. Give the order of execution of SQL clauses in an SQL query."
   ]
  },
  {
   "cell_type": "markdown",
   "id": "573f876a-b1c3-40ba-91f0-ef68bd5e3403",
   "metadata": {},
   "source": [
    "The order in which the clauses in queries are executed is as follows:\n",
    "\n",
    "1. `FROM/JOIN`: The FROM and/or JOIN clauses are executed first to determine the data of interest.\n",
    "\n",
    "2. `WHERE`: The WHERE clause is executed to filter out records that do not meet the constraints.\n",
    "\n",
    "3. `GROUP BY`: The GROUP BY clause is executed to group the data based on the values in one or more columns.\n",
    "\n",
    "4. `HAVING`: The HAVING clause is executed to remove the created grouped records that don’t meet the constraints.\n",
    "\n",
    "5. `SELECT`: The SELECT clause is executed to derive all desired columns and expressions.\n",
    "\n",
    "6. `ORDER BY`: The ORDER BY clause is executed to sort the derived values in ascending or descending order.\n",
    "\n",
    "7. `LIMIT/OFFSET`: Finally, the LIMIT and/or OFFSET clauses are executed to keep or skip a specified number of rows."
   ]
  },
  {
   "cell_type": "markdown",
   "id": "be5dd277-df5e-4fe7-9bfa-de7e717a1cb2",
   "metadata": {},
   "source": []
  },
  {
   "cell_type": "markdown",
   "id": "c8ba2aff-b23c-4d02-b908-32d5c3d71a33",
   "metadata": {},
   "source": []
  },
  {
   "cell_type": "markdown",
   "id": "389b6a41-4d7b-444c-b8f5-2a48a2f1eb8f",
   "metadata": {},
   "source": []
  },
  {
   "cell_type": "markdown",
   "id": "6404ba9f-fa8f-49ca-99f9-e4f765d4fd43",
   "metadata": {},
   "source": []
  }
 ],
 "metadata": {
  "kernelspec": {
   "display_name": "Python 3 (ipykernel)",
   "language": "python",
   "name": "python3"
  },
  "language_info": {
   "codemirror_mode": {
    "name": "ipython",
    "version": 3
   },
   "file_extension": ".py",
   "mimetype": "text/x-python",
   "name": "python",
   "nbconvert_exporter": "python",
   "pygments_lexer": "ipython3",
   "version": "3.10.8"
  }
 },
 "nbformat": 4,
 "nbformat_minor": 5
}
