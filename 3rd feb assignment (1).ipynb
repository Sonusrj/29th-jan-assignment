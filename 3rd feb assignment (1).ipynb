{
 "cells": [
  {
   "cell_type": "markdown",
   "id": "21670001-40a1-4d80-a47d-18b05ecd32ff",
   "metadata": {},
   "source": [
    "#### Qustion 1"
   ]
  },
  {
   "cell_type": "code",
   "execution_count": 44,
   "id": "3713ecd5-4eec-40c8-93e0-cde7f6181ecd",
   "metadata": {},
   "outputs": [
    {
     "name": "stdout",
     "output_type": "stream",
     "text": [
      "The odd numbers are [1, 3, 5, 7, 9, 11, 13, 15, 17, 19, 21, 23, 25]\n"
     ]
    }
   ],
   "source": [
    "#def keyword is used to create a function\n",
    "\n",
    "def l_odd():\n",
    "    return [ i for i in range(1,26) if i % 2!=0]\n",
    "print(\"The odd numbers are\",l_odd())\n",
    " "
   ]
  },
  {
   "cell_type": "markdown",
   "id": "98065d87-a03d-46d0-9da1-90f3a0f43cc0",
   "metadata": {},
   "source": [
    "#### Question 2"
   ]
  },
  {
   "cell_type": "markdown",
   "id": "f32a6ed1-03f7-4a62-b19e-fa8dbaeef7c5",
   "metadata": {},
   "source": [
    "*args and **kwargs are syntax in python to pass a variable number of arguments to function.\n",
    "\n",
    "*args: it is non key word variable length argument list to function.\n",
    "\n",
    "**kwargs: it is used to passed keyword varible length of arguments to a function."
   ]
  },
  {
   "cell_type": "code",
   "execution_count": 52,
   "id": "fcedd79d-2307-41e8-be69-9d470f37721c",
   "metadata": {},
   "outputs": [
    {
     "name": "stdout",
     "output_type": "stream",
     "text": [
      "The argument is:\n",
      "1\n",
      "2\n",
      "3\n",
      "sonu\n",
      "[1, 2, 3]\n"
     ]
    }
   ],
   "source": [
    "# *args example\n",
    "def args_fun(*args):\n",
    "    print(\"The argument is:\")\n",
    "    for i in args:\n",
    "        print(i)\n",
    "args_fun(1,2,3,\"sonu\",[1,2,3])"
   ]
  },
  {
   "cell_type": "code",
   "execution_count": 55,
   "id": "6964c35f-5830-4a25-a7cc-b0941a5fc926",
   "metadata": {},
   "outputs": [
    {
     "data": {
      "text/plain": [
       "{'a': 1, 'b': 2, 'c': 'sonu'}"
      ]
     },
     "execution_count": 55,
     "metadata": {},
     "output_type": "execute_result"
    }
   ],
   "source": [
    "# **kwargs example\n",
    "def kwargs_fun(**kwargs):\n",
    "    return kwargs\n",
    "kwargs_fun(a=1,b=2,c=\"sonu\")\n",
    "    "
   ]
  },
  {
   "cell_type": "markdown",
   "id": "b196e7fc-817f-4acb-aace-93c51ecd01f1",
   "metadata": {},
   "source": [
    "#### Question 3\n"
   ]
  },
  {
   "cell_type": "code",
   "execution_count": 10,
   "id": "73a3253e-06f8-40af-9f61-9c05cc85ea1c",
   "metadata": {},
   "outputs": [
    {
     "name": "stdout",
     "output_type": "stream",
     "text": [
      "2\n",
      "4\n",
      "6\n",
      "8\n",
      "10\n"
     ]
    }
   ],
   "source": [
    "# itrator: An iterator in python is an object that is used to iterate ove iterable objects like lists,tuple,dicts,and sets.\n",
    "# iter() is used to return an itrator object and next() is used return value for iterable.\n",
    "\n",
    "l=[2,4,6,8,10,12,14,16,18,20]\n",
    "it=iter(l)\n",
    "for i in range(5):\n",
    "    print(next(it))\n",
    "\n"
   ]
  },
  {
   "cell_type": "markdown",
   "id": "785c6eae-58d0-47cd-97e5-a91db1394db5",
   "metadata": {},
   "source": [
    "#### Question 4"
   ]
  },
  {
   "cell_type": "code",
   "execution_count": 22,
   "id": "41da276f-734b-48dd-b452-4f6d98bc01c1",
   "metadata": {},
   "outputs": [
    {
     "name": "stdout",
     "output_type": "stream",
     "text": [
      "0\n",
      "1\n",
      "4\n",
      "9\n",
      "16\n"
     ]
    }
   ],
   "source": [
    "\"\"\"genrator : \n",
    "generator in python is type of function that allows you to generate a squence of valued one at a time.\n",
    "\n",
    "'yield' keyword is used in a generator function to return a value and then pause the execution od function.\n",
    "\n",
    "example:\"\"\"\n",
    "\n",
    "def sq_num(n):\n",
    "    for i in range(n):\n",
    "        yield i**2\n",
    "for num in sq_num(5):\n",
    "    print(num)"
   ]
  },
  {
   "cell_type": "markdown",
   "id": "3ac11ac0-5d9d-4d6d-97e1-b716a4c88826",
   "metadata": {},
   "source": [
    "#### Question 5"
   ]
  },
  {
   "cell_type": "code",
   "execution_count": 25,
   "id": "b9b444bb-0691-4529-9614-b9a6f3434a7c",
   "metadata": {},
   "outputs": [
    {
     "name": "stdout",
     "output_type": "stream",
     "text": [
      "2\n",
      "3\n",
      "5\n",
      "7\n",
      "11\n",
      "13\n",
      "17\n",
      "19\n",
      "23\n",
      "29\n",
      "31\n",
      "37\n",
      "41\n",
      "43\n",
      "47\n",
      "53\n",
      "59\n",
      "61\n",
      "67\n",
      "71\n"
     ]
    }
   ],
   "source": [
    "def p_num():\n",
    "    prime=[]\n",
    "    for i in range (2,1001):\n",
    "        for j in prime:\n",
    "            if i % j ==0:\n",
    "                break\n",
    "        else:\n",
    "            prime.append(i)\n",
    "            yield i\n",
    "b= p_num()\n",
    "for i in range (20):\n",
    "    print(next(b))\n",
    "        "
   ]
  },
  {
   "cell_type": "markdown",
   "id": "e684d6de-3978-4916-9485-4719c524508d",
   "metadata": {},
   "source": [
    "#### Question 6"
   ]
  },
  {
   "cell_type": "code",
   "execution_count": null,
   "id": "f5c156cf-50bb-42d9-880f-105232e9c850",
   "metadata": {},
   "outputs": [
    {
     "name": "stdout",
     "output_type": "stream",
     "text": [
      "0\n",
      "1\n",
      "1\n",
      "2\n",
      "3\n",
      "5\n",
      "8\n",
      "13\n",
      "21\n",
      "34\n"
     ]
    }
   ],
   "source": [
    "# fibonacc\n",
    "a,b =0,1\n",
    "counter =0 \n",
    "while counter <10 :\n",
    "            print(a)\n",
    "            c = a+b\n",
    "            a=b\n",
    "            b=c\n",
    "            counter = counter +1\n",
    "\n",
    "            "
   ]
  },
  {
   "cell_type": "markdown",
   "id": "9d239b6a-bb35-43c4-9d8f-d7deb5966d2c",
   "metadata": {},
   "source": [
    "#### Question 7"
   ]
  },
  {
   "cell_type": "code",
   "execution_count": 45,
   "id": "299d8b14-5dd9-4d11-9239-b32124447d9e",
   "metadata": {},
   "outputs": [
    {
     "name": "stdout",
     "output_type": "stream",
     "text": [
      "['p', 'w', 's', 'k', 'i', 'l', 'l', 's']\n"
     ]
    }
   ],
   "source": [
    "strr= \"pwskills\"\n",
    "output=[i for i in str]\n",
    "print(output)"
   ]
  },
  {
   "cell_type": "markdown",
   "id": "dc695b1f-0482-43fa-a657-94a59e4c3801",
   "metadata": {},
   "source": [
    "#### Question 8"
   ]
  },
  {
   "cell_type": "code",
   "execution_count": 47,
   "id": "34dbdfa5-e289-4901-836b-3d2b41d3dd1c",
   "metadata": {},
   "outputs": [
    {
     "name": "stdin",
     "output_type": "stream",
     "text": [
      "Enter a number: 181\n"
     ]
    },
    {
     "name": "stdout",
     "output_type": "stream",
     "text": [
      "The number is palindrome!\n"
     ]
    }
   ],
   "source": [
    "num=int(input(\"Enter a number:\"))\n",
    "temp=num\n",
    "rev=0\n",
    "while(num>0):\n",
    "    dig=num%10\n",
    "    rev=rev*10+dig\n",
    "    num=num//10\n",
    "if(temp==rev):\n",
    "    print(\"The number is palindrome!\")\n",
    "else:\n",
    "    print(\"Not a palindrome!\")"
   ]
  },
  {
   "cell_type": "code",
   "execution_count": 55,
   "id": "d727f9fa-c6b0-434e-add4-8230d43587e5",
   "metadata": {},
   "outputs": [
    {
     "name": "stdout",
     "output_type": "stream",
     "text": [
      "odd number is: [1, 3, 5, 7, 9, 11, 13, 15, 17, 19, 21, 23, 25, 27, 29, 31, 33, 35, 37, 39, 41, 43, 45, 47, 49, 51, 53, 55, 57, 59, 61, 63, 65, 67, 69, 71, 73, 75, 77, 79, 81, 83, 85, 87, 89, 91, 93, 95, 97, 99]\n"
     ]
    }
   ],
   "source": [
    "num=[i for i in range(1,101)]\n",
    "odd_num=[j for j in range(1,101) if i %2!=0]\n",
    "print(\"odd number is:\",odd_num)"
   ]
  },
  {
   "cell_type": "code",
   "execution_count": null,
   "id": "aa38f388-c6f2-4d84-98dd-224b9e903744",
   "metadata": {},
   "outputs": [],
   "source": []
  }
 ],
 "metadata": {
  "kernelspec": {
   "display_name": "Python 3 (ipykernel)",
   "language": "python",
   "name": "python3"
  },
  "language_info": {
   "codemirror_mode": {
    "name": "ipython",
    "version": 3
   },
   "file_extension": ".py",
   "mimetype": "text/x-python",
   "name": "python",
   "nbconvert_exporter": "python",
   "pygments_lexer": "ipython3",
   "version": "3.10.8"
  }
 },
 "nbformat": 4,
 "nbformat_minor": 5
}
