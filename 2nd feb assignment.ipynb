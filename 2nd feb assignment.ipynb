{
 "cells": [
  {
   "cell_type": "markdown",
   "id": "29ce4480-9328-4c62-b7c3-0304fc7c3e79",
   "metadata": {},
   "source": [
    "Question 1.\n"
   ]
  },
  {
   "cell_type": "code",
   "execution_count": null,
   "id": "13bcbcce-b641-4f29-b329-ade046e26d55",
   "metadata": {},
   "outputs": [
    {
     "name": "stdout",
     "output_type": "stream",
     "text": [
      "1\n",
      "2\n",
      "3\n",
      "4\n",
      "5\n",
      "6\n",
      "7\n",
      "8\n",
      "9\n",
      "10\n"
     ]
    }
   ],
   "source": [
    "#for loop\n",
    "\"\"\"A for loop is used when you want to repeat a block of codea specific number of times. For example, if you want to printthe numbers from 1 to 10, \n",
    "you can use a for loop like this:\"\"\"\n",
    "for i in range(1,11):\n",
    "    print(i)\n"
   ]
  },
  {
   "cell_type": "code",
   "execution_count": 6,
   "id": "dc2ba90e-5817-43c2-bb5d-b1ae8d9f96f3",
   "metadata": {},
   "outputs": [
    {
     "name": "stdin",
     "output_type": "stream",
     "text": [
      "Enter a positive number:  5\n"
     ]
    },
    {
     "name": "stdout",
     "output_type": "stream",
     "text": [
      "Thank you for entering a positive number.\n"
     ]
    }
   ],
   "source": [
    "#while loop\n",
    "\"\"\"A while loop is used when you want to repeat a block of code an unknown number of times, until a certain condition is met. For example\n",
    "\"\"\"\n",
    "num = int(input(\"Enter a positive number: \"))\n",
    "while num <= 0:\n",
    "    print(\"The number you entered is not positive. Try again.\")\n",
    "    num = int(input(\"Enter a positive number: \"))\n",
    "print(\"Thank you for entering a positive number.\")\n"
   ]
  },
  {
   "cell_type": "markdown",
   "id": "bced8b6e-f1f7-414e-a099-02a2eae8898f",
   "metadata": {},
   "source": [
    "Question 2."
   ]
  },
  {
   "cell_type": "code",
   "execution_count": 18,
   "id": "5efbd29e-c081-43d8-bf9c-2e817a9a386e",
   "metadata": {},
   "outputs": [
    {
     "name": "stdout",
     "output_type": "stream",
     "text": [
      "sum of 1st nutural number is : 55\n",
      "product of 1st natural number is: 3628800\n"
     ]
    }
   ],
   "source": [
    "#using for loop\n",
    "n_sum=0\n",
    "product=1\n",
    "for i in range (1,11):\n",
    "    n_sum+=i\n",
    "    product*=i\n",
    "print(\"sum of 1st nutural number is :\", n_sum)\n",
    "print(\"product of 1st natural number is:\", product)\n"
   ]
  },
  {
   "cell_type": "code",
   "execution_count": 19,
   "id": "8d240804-9f21-429e-b1ff-1f45612d2160",
   "metadata": {},
   "outputs": [
    {
     "name": "stdout",
     "output_type": "stream",
     "text": [
      "sum of 1st 10 natural number is 55\n",
      "product of 1st 10 natural number is 3628800\n"
     ]
    }
   ],
   "source": [
    "#using while loop\n",
    "n_sum=0\n",
    "product =1\n",
    "i=1\n",
    "while i<=10:\n",
    "    n_sum +=i\n",
    "    product *=i\n",
    "    i+=1\n",
    "print(\"sum of 1st 10 natural number is\", n_sum)\n",
    "print(\"product of 1st 10 natural number is\",product)"
   ]
  },
  {
   "cell_type": "markdown",
   "id": "ca8ce7e8-8d68-48c0-b58d-a35220e52086",
   "metadata": {},
   "source": [
    "Question 3."
   ]
  },
  {
   "cell_type": "code",
   "execution_count": 20,
   "id": "baac50a1-14a7-42c2-88e8-b03cbf5738cd",
   "metadata": {},
   "outputs": [
    {
     "name": "stdin",
     "output_type": "stream",
     "text": [
      "Enter the number of units consumed:  310\n"
     ]
    },
    {
     "name": "stdout",
     "output_type": "stream",
     "text": [
      "The total electricity bill is: Rs. 2250.0\n"
     ]
    }
   ],
   "source": [
    "units = int(input(\"Enter the number of units consumed: \"))\n",
    "\n",
    "if units <= 100:\n",
    "    bill = units * 4.5\n",
    "elif units <= 200:\n",
    "    bill = 100 * 4.5 + (units - 100) * 6\n",
    "elif units <= 300:\n",
    "    bill = 100 * 4.5 + 100 * 6 + (units - 200) * 10\n",
    "else:\n",
    "    bill = 100 * 4.5 + 100 * 6 + 100 * 10 + (units - 300) * 20\n",
    "\n",
    "print(\"The total electricity bill is: Rs.\", bill)\n"
   ]
  },
  {
   "cell_type": "markdown",
   "id": "5ce9744b-9364-448d-a15f-6a3aa42994fc",
   "metadata": {},
   "source": [
    "Question 4."
   ]
  },
  {
   "cell_type": "code",
   "execution_count": 41,
   "id": "2c0e059f-2cda-43c9-9212-3ae35314f068",
   "metadata": {},
   "outputs": [
    {
     "name": "stdout",
     "output_type": "stream",
     "text": [
      "Numbers whose cubes are divisible by 4 or 5 : [2, 4, 5, 6, 8, 10, 12, 14, 15, 16, 18, 20, 22, 24, 25, 26, 28, 30, 32, 34, 35, 36, 38, 40, 42, 44, 45, 46, 48, 50, 52, 54, 55, 56, 58, 60, 62, 64, 65, 66, 68, 70, 72, 74, 75, 76, 78, 80, 82, 84, 85, 86, 88, 90, 92, 94, 95, 96, 98, 100]\n"
     ]
    }
   ],
   "source": [
    "#using for loop\n",
    "numbers = []\n",
    "for i in range(1, 101):\n",
    "    numbers.append(i)\n",
    "\n",
    "cubes_4or5 = []\n",
    "for num in numbers:\n",
    "    cube = num ** 3\n",
    "    if cube % 4 == 0 or cube % 5 == 0:\n",
    "        cubes_4or5.append(num)\n",
    "\n",
    "print(\"Numbers whose cubes are divisible by 4 or 5 :\",cubes_4or5 )\n"
   ]
  },
  {
   "cell_type": "code",
   "execution_count": 42,
   "id": "e96c4d79-ece9-4421-9485-dd5d31f61574",
   "metadata": {},
   "outputs": [
    {
     "name": "stdout",
     "output_type": "stream",
     "text": [
      "Numbers whose cubes are divisible by 4 or 5 : [2, 4, 5, 6, 8, 10, 12, 14, 15, 16, 18, 20, 22, 24, 25, 26, 28, 30, 32, 34, 35, 36, 38, 40, 42, 44, 45, 46, 48, 50, 52, 54, 55, 56, 58, 60, 62, 64, 65, 66, 68, 70, 72, 74, 75, 76, 78, 80, 82, 84, 85, 86, 88, 90, 92, 94, 95, 96, 98, 100]\n"
     ]
    }
   ],
   "source": [
    "#using while loop\n",
    "numbers = []\n",
    "i = 1\n",
    "while i <= 100:\n",
    "    numbers.append(i)\n",
    "    i += 1\n",
    "\n",
    "cubes_4or5 = []\n",
    "for num in numbers:\n",
    "    cube = num ** 3\n",
    "    if cube % 4 == 0 or cube % 5 == 0:\n",
    "        cubes_4or5.append(num)\n",
    "\n",
    "print(\"Numbers whose cubes are divisible by 4 or 5 :\", cubes_4or5)\n"
   ]
  },
  {
   "cell_type": "markdown",
   "id": "5be5f889-e7c4-446a-a494-18e4e87987c1",
   "metadata": {},
   "source": [
    "Question 5."
   ]
  },
  {
   "cell_type": "code",
   "execution_count": 48,
   "id": "17f7cf99-b06c-46a9-812c-27f45aa45cf9",
   "metadata": {},
   "outputs": [
    {
     "name": "stdout",
     "output_type": "stream",
     "text": [
      "Number of vowls in the string is: 12\n"
     ]
    }
   ],
   "source": [
    "string=\"I want to become a data scientist\"\n",
    "vowels=\"aeiouAEIOU\"\n",
    "count=0\n",
    "for i in string:\n",
    "    if i in vowels:\n",
    "        count+=1\n",
    "print(\"Number of vowls in the string is:\", count)"
   ]
  },
  {
   "cell_type": "code",
   "execution_count": null,
   "id": "602a045b-d91b-474e-bf2f-5071980fcd9a",
   "metadata": {},
   "outputs": [],
   "source": []
  }
 ],
 "metadata": {
  "kernelspec": {
   "display_name": "Python 3 (ipykernel)",
   "language": "python",
   "name": "python3"
  },
  "language_info": {
   "codemirror_mode": {
    "name": "ipython",
    "version": 3
   },
   "file_extension": ".py",
   "mimetype": "text/x-python",
   "name": "python",
   "nbconvert_exporter": "python",
   "pygments_lexer": "ipython3",
   "version": "3.10.8"
  }
 },
 "nbformat": 4,
 "nbformat_minor": 5
}
