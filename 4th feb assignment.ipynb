{
 "cells": [
  {
   "cell_type": "markdown",
   "id": "edd0a695-89e0-4caf-a413-911e40070092",
   "metadata": {},
   "source": [
    "#### Question 1"
   ]
  },
  {
   "cell_type": "code",
   "execution_count": 40,
   "id": "3bb85c84-4e4a-425c-b375-9641616da1a0",
   "metadata": {},
   "outputs": [
    {
     "name": "stdout",
     "output_type": "stream",
     "text": [
      "Sorted list is is:\n",
      "('Ricky Ponting', 27438)\n",
      "('Jack Kallis', 25534, ('Virat Kohli', 24936))\n",
      "('Sachin Tendulkar', 3457)\n"
     ]
    }
   ],
   "source": [
    "l_tuple=[('Sachin Tendulkar',3457),('Ricky Ponting',27438),('Jack Kallis',25534,('Virat Kohli',24936))]\n",
    "\n",
    "s_list= sorted(l_tuple, key=lambda x: x[1], reverse=True)\n",
    "\n",
    "print(\"Sorted list is is:\")\n",
    "for i in s_list:\n",
    "    print(i)\n",
    "\n"
   ]
  },
  {
   "cell_type": "markdown",
   "id": "311a4cae-e64f-47cb-a25d-e21a8d23be34",
   "metadata": {},
   "source": [
    "#### Question 2"
   ]
  },
  {
   "cell_type": "code",
   "execution_count": 36,
   "id": "0061409d-eaad-4e0d-8e0c-ff6304626f87",
   "metadata": {},
   "outputs": [
    {
     "name": "stdout",
     "output_type": "stream",
     "text": [
      "The squared number of list is: [1, 4, 9, 16, 25, 36, 49, 64, 81, 100]\n"
     ]
    }
   ],
   "source": [
    "l=[1,2,3,4,5,6,7,8,9,10]\n",
    "\n",
    "sq_num=list(map(lambda x : x**2,l))\n",
    "\n",
    "print(\"The squared number of list is:\",sq_num)\n"
   ]
  },
  {
   "cell_type": "markdown",
   "id": "b7d6be58-8549-40b7-80b8-2d5fc45c30f1",
   "metadata": {},
   "source": [
    "#### Question 3"
   ]
  },
  {
   "cell_type": "code",
   "execution_count": 5,
   "id": "18ad7eac-b961-4349-8168-65f519043747",
   "metadata": {},
   "outputs": [
    {
     "name": "stdout",
     "output_type": "stream",
     "text": [
      "Tuple of strings: ('1', '2', '3', '4', '5', '6', '7', '8', '9', '10')\n"
     ]
    }
   ],
   "source": [
    "l = [1, 2, 3, 4, 5, 6, 7, 8, 9, 10]\n",
    "\n",
    "string_tuple = tuple(map(lambda a: str(a), l))\n",
    "\n",
    "print(\"Tuple of strings:\", string_tuple)\n"
   ]
  },
  {
   "cell_type": "markdown",
   "id": "fec60a17-115e-4bb8-a1a2-61f9a031db7b",
   "metadata": {},
   "source": [
    "#### Question 4"
   ]
  },
  {
   "cell_type": "code",
   "execution_count": 24,
   "id": "e43f30e5-7d42-48b9-88c3-65d1b4e166e2",
   "metadata": {},
   "outputs": [
    {
     "name": "stdout",
     "output_type": "stream",
     "text": [
      "the product of 1 to 25 is: 15511210043330985984000000\n"
     ]
    }
   ],
   "source": [
    "from functools import reduce\n",
    "\n",
    "numbers = [i for i in range(1, 26)]\n",
    "product = reduce(lambda x, y: x * y, numbers)\n",
    "print(\"the product of 1 to 25 is:\",product)\n"
   ]
  },
  {
   "cell_type": "markdown",
   "id": "c1d5eaa8-85ec-4628-a8de-1fcac27389c7",
   "metadata": {},
   "source": [
    "#### Question 5"
   ]
  },
  {
   "cell_type": "code",
   "execution_count": 34,
   "id": "0af13fb4-6943-4927-8409-85f1ba28e143",
   "metadata": {},
   "outputs": [
    {
     "name": "stdout",
     "output_type": "stream",
     "text": [
      " The numbers divisible by 2 and 3 are: [6, 60, 90, 120]\n"
     ]
    }
   ],
   "source": [
    "l=[2,3,6,27,60,90,120,55,46]\n",
    "\n",
    "l1=list(filter(lambda x :x%2==0 and x%3==0,l))\n",
    "print(\" The numbers divisible by 2 and 3 are:\",l1)\n",
    "\n"
   ]
  },
  {
   "cell_type": "markdown",
   "id": "6ebd8288-31bb-44ee-8e53-25b8005c8cfc",
   "metadata": {},
   "source": [
    "#### Question 6"
   ]
  },
  {
   "cell_type": "code",
   "execution_count": 38,
   "id": "f61b2e91-d4e1-4b6a-b09a-9a3c149e5bac",
   "metadata": {},
   "outputs": [
    {
     "name": "stdout",
     "output_type": "stream",
     "text": [
      "Palindrome in the list is: ['php', 'radar', 'level']\n"
     ]
    }
   ],
   "source": [
    "l_str=['python','php','radar','level']\n",
    "\n",
    "l=list(filter(lambda i: i==i[::-1],l_str))\n",
    "\n",
    "print(\"Palindrome in the list is:\",l)"
   ]
  },
  {
   "cell_type": "code",
   "execution_count": null,
   "id": "df925ad3-de78-46ab-819a-c0e2fdd58fa6",
   "metadata": {},
   "outputs": [],
   "source": []
  }
 ],
 "metadata": {
  "kernelspec": {
   "display_name": "Python 3 (ipykernel)",
   "language": "python",
   "name": "python3"
  },
  "language_info": {
   "codemirror_mode": {
    "name": "ipython",
    "version": 3
   },
   "file_extension": ".py",
   "mimetype": "text/x-python",
   "name": "python",
   "nbconvert_exporter": "python",
   "pygments_lexer": "ipython3",
   "version": "3.10.8"
  }
 },
 "nbformat": 4,
 "nbformat_minor": 5
}
