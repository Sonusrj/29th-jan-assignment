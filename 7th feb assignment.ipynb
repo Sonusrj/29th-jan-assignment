{
 "cells": [
  {
   "cell_type": "markdown",
   "id": "301e2aaf-2689-4d89-b50c-eb4cfb6f0d4f",
   "metadata": {},
   "source": [
    "#### Question 1."
   ]
  },
  {
   "cell_type": "code",
   "execution_count": null,
   "id": "6ef58c3d-49af-4ca8-91c8-64f6aeb5dca6",
   "metadata": {},
   "outputs": [
    {
     "name": "stdin",
     "output_type": "stream",
     "text": [
      "Enter password:  ABds39&%%323\n"
     ]
    },
    {
     "name": "stdout",
     "output_type": "stream",
     "text": [
      "Valid Password\n"
     ]
    }
   ],
   "source": [
    "def password_checker(password):\n",
    "    upper = 0\n",
    "    lower = 0\n",
    "    n= 0\n",
    "    special = 0\n",
    "    for i in password:\n",
    "        if i.isupper():\n",
    "            upper += 1\n",
    "        elif i.islower():\n",
    "            lower += 1\n",
    "        elif i.isdigit():\n",
    "            n += 1\n",
    "        elif i in \"!@#$%^&*\":\n",
    "            special += 1\n",
    "  \n",
    "    while upper< 2 or lower < 2 or n < 1 or special< 3:\n",
    "        return \"Invalid Password\"\n",
    "    if len(password) != 10:\n",
    "        return \"Valid Password\"\n",
    "    else:\n",
    "        return \"Invalid Password\"\n",
    "\n",
    "password = input(\"Enter password: \")\n",
    "result = password_checker(password)\n",
    "print(result)"
   ]
  },
  {
   "cell_type": "markdown",
   "id": "a2813007-20cf-4580-9b72-c4da111cc21a",
   "metadata": {},
   "source": [
    "#### Question 2\n"
   ]
  },
  {
   "cell_type": "markdown",
   "id": "c85eb997-acff-4e4f-8cee-755742536ce8",
   "metadata": {},
   "source": [
    " ###### a. Check if the string starts with a particular letter"
   ]
  },
  {
   "cell_type": "code",
   "execution_count": 11,
   "id": "6e15591c-02b2-40b5-a566-3e5af39793be",
   "metadata": {},
   "outputs": [
    {
     "name": "stdout",
     "output_type": "stream",
     "text": [
      "the string starts with T: True\n"
     ]
    }
   ],
   "source": [
    "# using lambda function\n",
    "\n",
    "a=\"This is data science course\"\n",
    "b= \"T\"\n",
    "\n",
    "func = lambda x: True if x.startswith(b) else False\n",
    "print(\"the string starts with T:\" ,func(a))"
   ]
  },
  {
   "cell_type": "markdown",
   "id": "9e0c1455-cfa9-4e69-90cc-4e48087133e8",
   "metadata": {},
   "source": [
    "  ###### b. Check if the string is numeric"
   ]
  },
  {
   "cell_type": "code",
   "execution_count": 13,
   "id": "00f96a31-85bf-4e2b-8f2b-fb96ea95e83f",
   "metadata": {},
   "outputs": [
    {
     "name": "stdout",
     "output_type": "stream",
     "text": [
      " the sting is numeric : True\n"
     ]
    }
   ],
   "source": [
    "#using lambda function\n",
    "s= \"123233213\"\n",
    "\n",
    "check= lambda x : x.isdigit()\n",
    "\n",
    "print( f\" the sting is numeric : {check(s)}\")"
   ]
  },
  {
   "cell_type": "markdown",
   "id": "91e2d6c4-89f7-40f0-a68e-7aada1b908b9",
   "metadata": {},
   "source": [
    "  ###### c. Sort a list of tuples having fruit names and their quantity. [(\"mango\",99),(\"orange\",80), (\"grapes\", 1000)]"
   ]
  },
  {
   "cell_type": "code",
   "execution_count": 14,
   "id": "df2fbffd-6ca1-4713-b167-9a980e76c054",
   "metadata": {},
   "outputs": [
    {
     "data": {
      "text/plain": [
       "[('orange', 80), ('mango', 99), ('grapes', 1000)]"
      ]
     },
     "execution_count": 14,
     "metadata": {},
     "output_type": "execute_result"
    }
   ],
   "source": [
    "#using lambda function\n",
    "\n",
    "f =[(\"mango\",99),(\"orange\",80), (\"grapes\", 1000)]\n",
    "sorted(f, key=lambda x:x[1])"
   ]
  },
  {
   "cell_type": "markdown",
   "id": "cc76a151-419f-4438-b19b-b8d7150c86f5",
   "metadata": {},
   "source": [
    " ###### d. Find the squares of numbers from 1 to 10"
   ]
  },
  {
   "cell_type": "code",
   "execution_count": 22,
   "id": "6ccf7f57-3ed1-4549-9f50-635f0e9f198c",
   "metadata": {},
   "outputs": [
    {
     "name": "stdout",
     "output_type": "stream",
     "text": [
      "[1, 4, 9, 16, 25, 36, 49, 64, 81, 100]\n"
     ]
    }
   ],
   "source": [
    "sq = map(lambda x : x**2,range(1,11))\n",
    "\n",
    "print(list(sq))"
   ]
  },
  {
   "cell_type": "markdown",
   "id": "84060795-5986-48eb-b7cd-9564dee64860",
   "metadata": {},
   "source": [
    " ###### e. Find the cube root of numbers from 1 to 10"
   ]
  },
  {
   "cell_type": "code",
   "execution_count": 24,
   "id": "00d77878-cfdd-41c6-bb59-95599bd08f5a",
   "metadata": {},
   "outputs": [
    {
     "name": "stdout",
     "output_type": "stream",
     "text": [
      "[1, 8, 27, 64, 125, 216, 343, 512, 729, 1000]\n"
     ]
    }
   ],
   "source": [
    "cube = map(lambda x : x**3,range(1,11))\n",
    "\n",
    "print(list(cube))"
   ]
  },
  {
   "cell_type": "markdown",
   "id": "4df9050b-6077-48ed-8987-7105de959c6b",
   "metadata": {},
   "source": [
    " ###### f. Check if a given number is even"
   ]
  },
  {
   "cell_type": "code",
   "execution_count": 7,
   "id": "f3997eab-79be-4208-84ad-5f421452a9fa",
   "metadata": {},
   "outputs": [
    {
     "name": "stdout",
     "output_type": "stream",
     "text": [
      "True\n",
      "False\n"
     ]
    }
   ],
   "source": [
    "\n",
    "even = lambda a : a%2==0 \n",
    "print(even(2))\n",
    "print(even(5))\n"
   ]
  },
  {
   "cell_type": "markdown",
   "id": "d417a5f1-e611-4e59-b8f9-4b1493558b22",
   "metadata": {},
   "source": [
    "  ###### g. Filter odd numbers from the given list.\n",
    "\n",
    " [1,2,3,4,5,6,7,8,9,10]"
   ]
  },
  {
   "cell_type": "code",
   "execution_count": 9,
   "id": "2e053672-c304-464e-a9fd-eced4e3c1983",
   "metadata": {},
   "outputs": [
    {
     "name": "stdout",
     "output_type": "stream",
     "text": [
      "[1, 3, 5, 7, 9]\n"
     ]
    }
   ],
   "source": [
    "a = [1,2,3,4,5,6,7,8,9,10]\n",
    "\n",
    "is_odd = list(filter(lambda a : a%2!=0,a))\n",
    "\n",
    "print(is_odd)"
   ]
  },
  {
   "cell_type": "markdown",
   "id": "b38940b5-f230-4ed2-8610-804c85696b79",
   "metadata": {},
   "source": [
    "  ###### h. Sort a list of integers into positive and negative integers lists.\n",
    "\n",
    " [1,2,3,4,5,6,-1,-2,-3,-4,-5,0]"
   ]
  },
  {
   "cell_type": "code",
   "execution_count": 10,
   "id": "635d4747-bab5-4396-82ad-3a5eab29d3d1",
   "metadata": {},
   "outputs": [
    {
     "name": "stdout",
     "output_type": "stream",
     "text": [
      "Original List:  [1, 2, 3, 4, 5, 6, -1, -2, -3, -4, -5, 0]\n",
      "Positive Numbers:  [1, 2, 3, 4, 5, 6]\n",
      "Negative Numbers:  [-1, -2, -3, -4, -5]\n"
     ]
    }
   ],
   "source": [
    "list1= [1, 2, 3, 4, 5, 6, -1, -2, -3, -4, -5, 0]\n",
    "\n",
    "positive_numbers = list(filter(lambda x: x > 0, list1))\n",
    "negative_numbers = list(filter(lambda x: x < 0, list1))\n",
    "\n",
    "print(\"Original List: \", numbers)\n",
    "print(\"Positive Numbers: \", positive_numbers)\n",
    "print(\"Negative Numbers: \", negative_numbers)\n"
   ]
  },
  {
   "cell_type": "code",
   "execution_count": null,
   "id": "b896601b-fb89-434e-8e09-a515e6907948",
   "metadata": {},
   "outputs": [],
   "source": []
  }
 ],
 "metadata": {
  "kernelspec": {
   "display_name": "Python 3 (ipykernel)",
   "language": "python",
   "name": "python3"
  },
  "language_info": {
   "codemirror_mode": {
    "name": "ipython",
    "version": 3
   },
   "file_extension": ".py",
   "mimetype": "text/x-python",
   "name": "python",
   "nbconvert_exporter": "python",
   "pygments_lexer": "ipython3",
   "version": "3.10.8"
  }
 },
 "nbformat": 4,
 "nbformat_minor": 5
}
