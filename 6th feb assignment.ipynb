{
 "cells": [
  {
   "cell_type": "markdown",
   "id": "f2fcf321-2605-4247-99c3-6502c5455509",
   "metadata": {},
   "source": [
    "#### Question 1."
   ]
  },
  {
   "cell_type": "code",
   "execution_count": 15,
   "id": "26a83dda-3ed6-4882-a364-f0eecd651b95",
   "metadata": {},
   "outputs": [],
   "source": [
    "list1 = [1,2,3,4, [44,55,66, True], False, (34,56,78,89,34), {1,2,3,3,2,1}, {1:34, \"key2\": [55, 67, 78, 89], 4: (45, \n",
    "22, 61, 34)}, [56, 'data science'], 'Machine Learning']"
   ]
  },
  {
   "cell_type": "code",
   "execution_count": 16,
   "id": "171a7412-c366-4e08-b3c0-833c7d1522d9",
   "metadata": {},
   "outputs": [
    {
     "name": "stdout",
     "output_type": "stream",
     "text": [
      "extracted list : [1, 2, 3, 4, 44, 55, 66, 34, 56, 78, 89, 34, 1, 34, 55, 67, 78, 89, 4, 45, 22, 61, 34, 56]\n",
      "product of the numerical values in list : 689118639831180913138973540352000\n"
     ]
    }
   ],
   "source": [
    "def product(lst):\n",
    "    new_list = []\n",
    "\n",
    "    def extract(a):\n",
    "        for i in a:\n",
    "            if type(i) == int:\n",
    "                new_list.append(i)\n",
    "            elif type(i) == float:\n",
    "                new_list.append(i)\n",
    "            elif type(i) == tuple:\n",
    "                extract(i)\n",
    "            elif type(i) == list:\n",
    "                extract(i)\n",
    "            elif type(i) == dict:\n",
    "                for k, v in i.items():\n",
    "                    if type(k) in [int, float]:\n",
    "                        new_list.append(k)\n",
    "                    if type(v) in [int, float]:\n",
    "                        new_list.append(v)\n",
    "                    elif type(v) in [list, tuple]:\n",
    "                        extract(v) \n",
    "    extract(lst)\n",
    "    print(f'extracted list : {new_list}')\n",
    "    product = 1\n",
    "    for i in new_list:\n",
    "        product *= i\n",
    "    return product\n",
    "print(f'product of the numerical values in list : {product(list1)}')"
   ]
  },
  {
   "cell_type": "markdown",
   "id": "af882fc7-ded6-4beb-b41c-adf6953ec974",
   "metadata": {},
   "source": [
    "#### Question 2"
   ]
  },
  {
   "cell_type": "code",
   "execution_count": null,
   "id": "492b8e75-13d1-419b-a559-ea12d75a3d2e",
   "metadata": {},
   "outputs": [],
   "source": [
    "sentence = input(\"Enter your massage:\").lower()\n",
    "e_dict = {'a':'z', 'b':'y', 'c':'x', 'd':'w', 'e':'v', 'f':'u', \n",
    "          'g':'t', 'h':'s', 'i':'r', 'j':'q', 'k':'p', 'l':'o', \n",
    "          'm':'n', 'n':'m', 'o':'l', 'p':'k', 'q':'j', 'r':'i', \n",
    "          's':'h', 't':'g', 'u':'f', 'v':'e', 'w':'d', 'x':'c', 'y':'b', 'z':'a', \n",
    "          ' ':'$'}\n",
    "e_sentence = \"\"\n",
    "for i in sentence:\n",
    "    if i in e_dict:\n",
    "        e_sentence += e_dict[i]\n",
    "    else:\n",
    "        e_sentence += i       \n",
    "print(f'encrypted massage:{e_sentence}')"
   ]
  },
  {
   "cell_type": "code",
   "execution_count": null,
   "id": "ab15f977-f4bd-4705-abca-09d10fa64be2",
   "metadata": {},
   "outputs": [],
   "source": []
  }
 ],
 "metadata": {
  "kernelspec": {
   "display_name": "Python 3 (ipykernel)",
   "language": "python",
   "name": "python3"
  },
  "language_info": {
   "codemirror_mode": {
    "name": "ipython",
    "version": 3
   },
   "file_extension": ".py",
   "mimetype": "text/x-python",
   "name": "python",
   "nbconvert_exporter": "python",
   "pygments_lexer": "ipython3",
   "version": "3.10.8"
  }
 },
 "nbformat": 4,
 "nbformat_minor": 5
}
