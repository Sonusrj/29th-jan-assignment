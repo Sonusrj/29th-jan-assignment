{
 "cells": [
  {
   "cell_type": "markdown",
   "id": "156ffd13-db5a-43e9-abfb-42c9e171f679",
   "metadata": {},
   "source": [
    "<h3>Q1. What is the Probability density function?"
   ]
  },
  {
   "cell_type": "markdown",
   "id": "15fc707f-95df-462b-8fe0-12d01677bde6",
   "metadata": {},
   "source": [
    "\n",
    "1. PDF is a mathematical function used in probability and statistics.\n",
    "2. It describes the likelihood of a random variable taking on specific values or falling within certain ranges.\n",
    "3. The area under the curve of the PDF represents the probability of the random variable falling within that range.\n",
    "4. The total area under the curve is always equal to 1, ensuring that the random variable must take on some value."
   ]
  },
  {
   "cell_type": "markdown",
   "id": "b147e6af-775c-49e7-aa18-2f13c3a35aa0",
   "metadata": {},
   "source": [
    "<h3>Q2. What are the types of Probability distribution?"
   ]
  },
  {
   "cell_type": "markdown",
   "id": "6f26a54f-95c6-4157-a964-06ba9c291118",
   "metadata": {},
   "source": [
    "\n",
    "1. Normal Distribution (Gaussian Distribution):\n",
    "   - Widely used and follows a bell-shaped curve.\n",
    "   - Symmetric around the mean (average).\n",
    "   - Many natural phenomena exhibit this distribution.\n",
    "\n",
    "2. Binomial Distribution:\n",
    "   - Deals with a finite number of independent trials.\n",
    "   - Each trial has a binary outcome (success or failure).\n",
    "   - Constant probability of success.\n",
    "\n",
    "3. Poisson Distribution:\n",
    "   - Models the number of events in a fixed interval, given an average rate of occurrence.\n",
    "   - Often used for rare events.\n",
    "\n",
    "4. Uniform Distribution:\n",
    "   - Assigns equal probability to all outcomes within a specified range.\n",
    "   - Results in a constant probability density over the range.\n",
    "\n",
    "5. Chi-Squared Distribution:\n",
    "   - Used in statistics for hypothesis testing and confidence interval estimation.\n",
    "   - Models the sum of squares of independent standard normal random variables.\n",
    "\n",
    "6. Bernoulli Distribution:\n",
    "   - A distribution with two possible outcomes, usually labeled as success (1) and failure (0). \n",
    "   - It is a special case of the binomial distribution with a single trial."
   ]
  },
  {
   "cell_type": "markdown",
   "id": "625fe6b5-3c38-45fb-8784-9e3fdcc66411",
   "metadata": {},
   "source": [
    "<h3>Q3. Write a Python function to calculate the probability density function of a normal distribution with\n",
    "given mean and standard deviation at a given point."
   ]
  },
  {
   "cell_type": "code",
   "execution_count": 3,
   "id": "d209af50-ec3b-46dc-a057-a6854d35bd48",
   "metadata": {},
   "outputs": [
    {
     "name": "stdout",
     "output_type": "stream",
     "text": [
      "PDF at x = 1.5 is: 0.12951759566589174\n"
     ]
    }
   ],
   "source": [
    "import math\n",
    "\n",
    "def normal_pdf(x, mean, std_dev):\n",
    "    \n",
    "    coefficient = 1 / (std_dev * math.sqrt(2 * math.pi))\n",
    "    exponent = -((x - mean) ** 2) / (2 * std_dev ** 2)\n",
    "    pdf_value = coefficient * math.exp(exponent)\n",
    "    return pdf_value\n",
    "\n",
    "\n",
    "mean = 0.0\n",
    "std_dev = 1.0\n",
    "point = 1.5\n",
    "pdf_at_point = normal_pdf(point, mean, std_dev)\n",
    "print(\"PDF at x =\", point, \"is:\", pdf_at_point)\n"
   ]
  },
  {
   "cell_type": "markdown",
   "id": "0574bad7-7ecf-4644-a746-5ad43a69979c",
   "metadata": {},
   "source": [
    "<h3>Q4. What are the properties of Binomial distribution? Give two examples of events where binomial\n",
    "distribution can be applied."
   ]
  },
  {
   "cell_type": "markdown",
   "id": "f130e216-ee34-42e7-9057-6cf8ff157bd8",
   "metadata": {},
   "source": [
    "Properties of the Binomial distribution:\n",
    "\n",
    "1. **Discrete Probability Distribution:** The Binomial distribution is a discrete probability distribution, meaning it is used for situations with a finite number of independent trials, each having two possible outcomes (success or failure).\n",
    "\n",
    "2. **Fixed Number of Trials:** The distribution requires a fixed number of trials denoted by 'n'. Each trial is independent and has the same probability of success denoted by 'p'.\n",
    "\n",
    "3. **Binary Outcomes:** Each trial results in a binary outcome, typically labeled as success (S) and failure (F) or as 1 and 0, respectively.\n",
    "\n",
    "4. **Independence:** The outcomes of each trial are assumed to be independent of one another, meaning the outcome of one trial does not influence the outcome of another.\n",
    "\n",
    "Examples of events where the Binomial distribution can be applied:\n",
    "\n",
    "1. **Coin Flips:** The number of heads obtained when flipping a fair coin multiple times follows a Binomial distribution. Each flip is independent, and the probability of getting heads (success) is 0.5 in the case of a fair coin.\n",
    "\n",
    "2. **Quality Control:** In a manufacturing process, the number of defective items in a sample of fixed size can be modeled using a Binomial distribution. Each item's quality is independent, and the probability of an item being defective (success) is constant.\n",
    "\n"
   ]
  },
  {
   "cell_type": "markdown",
   "id": "5f9cd43c-c931-40b9-8994-38fa60fba965",
   "metadata": {},
   "source": [
    "<h3>Q5. Generate a random sample of size 1000 from a binomial distribution with probability of success 0.4\n",
    "and plot a histogram of the results using matplotlib."
   ]
  },
  {
   "cell_type": "code",
   "execution_count": 8,
   "id": "31af48ef-4b99-40b7-b105-422499b4f6e6",
   "metadata": {},
   "outputs": [],
   "source": [
    "import numpy as np\n",
    "import matplotlib.pyplot as plt\n"
   ]
  },
  {
   "cell_type": "code",
   "execution_count": 9,
   "id": "c3950d72-65f0-4658-87c4-3d88d62f4c0c",
   "metadata": {},
   "outputs": [],
   "source": [
    "def generate_binomial_sample(size, prob_success):\n",
    "    \n",
    "    return np.random.binomial(1, prob_success, size)"
   ]
  },
  {
   "cell_type": "code",
   "execution_count": 10,
   "id": "5786dd55-76a2-4d0c-9c4f-2dc8977f8747",
   "metadata": {},
   "outputs": [
    {
     "data": {
      "image/png": "[encoded data removed]",
      "text/plain": [
       "<Figure size 640x480 with 1 Axes>"
      ]
     },
     "metadata": {},
     "output_type": "display_data"
    }
   ],
   "source": [
    "probability_of_success = 0.4\n",
    "sample_size = 1000\n",
    "\n",
    "sample = generate_binomial_sample(sample_size, probability_of_success)\n",
    "\n",
    "plt.hist(sample, bins=[0, 1, 2], align='left', rwidth=0.8)\n",
    "plt.xticks([0, 1], ['Failure', 'Success'])\n",
    "plt.xlabel('Outcome')\n",
    "plt.ylabel('Frequency')\n",
    "plt.title('Histogram of Random Sample from Binomial Distribution')\n",
    "plt.show()"
   ]
  },
  {
   "cell_type": "markdown",
   "id": "abaf358c-617e-4477-a31a-6c2e9c36613e",
   "metadata": {},
   "source": [
    "<h3>Q6. Write a Python function to calculate the cumulative distribution function of a Poisson distribution\n",
    "with given mean at a given point."
   ]
  },
  {
   "cell_type": "code",
   "execution_count": 13,
   "id": "dc45805f-e9e7-4f4d-af46-13c1e99b6a63",
   "metadata": {},
   "outputs": [
    {
     "name": "stdout",
     "output_type": "stream",
     "text": [
      "CDF at x = 5 is: 0.8576135530957782\n"
     ]
    }
   ],
   "source": [
    "def poisson_cdf(point, mean):\n",
    "    cdf_value = 0\n",
    "    for i in range(point + 1):\n",
    "        cdf_value += (math.exp(-mean) * mean ** i) / math.factorial(i)\n",
    "    return cdf_value\n",
    "\n",
    "\n",
    "mean = 3.5\n",
    "point = 5\n",
    "cdf_at_point = poisson_cdf(point, mean)\n",
    "print(\"CDF at x =\", point, \"is:\", cdf_at_point)\n"
   ]
  },
  {
   "cell_type": "markdown",
   "id": "99fe88a5-bd34-4259-8583-8fabe7583835",
   "metadata": {},
   "source": [
    "<h3>Q7. How Binomial distribution different from Poisson distribution?"
   ]
  },
  {
   "cell_type": "markdown",
   "id": "1122561c-a771-4178-9361-d3e8dba68bf4",
   "metadata": {},
   "source": [
    "The main difference between the Binomial and Poisson distributions lies in:\n",
    "1. **Nature of Trials:**\n",
    "   - Binomial Distribution: The Binomial distribution deals with a fixed number of independent trials, where each trial can have two possible outcomes (success or failure).\n",
    "   - Poisson Distribution: The Poisson distribution models the number of events occurring in a fixed interval of time or space, such as the number of occurrences of a rare event in a given time period.\n",
    "\n",
    "2. **Number of Possible Outcomes:**\n",
    "   - Binomial Distribution: In the Binomial distribution, there are only two possible outcomes for each trial: success or failure. The random variable represents the count of successes in a fixed number of trials.\n",
    "   - Poisson Distribution: The Poisson distribution deals with count data and can have an infinite number of possible outcomes, representing the number of events occurring in a given interval.\n"
   ]
  },
  {
   "cell_type": "markdown",
   "id": "1decec17-e9aa-4ee1-a0b7-6f9a5fdcd83e",
   "metadata": {},
   "source": [
    "<h3>Q8. Generate a random sample of size 1000 from a Poisson distribution with mean 5 and calculate the\n",
    "sample mean and variance."
   ]
  },
  {
   "cell_type": "code",
   "execution_count": 14,
   "id": "dd490538-dda4-4e45-948a-f14937631a35",
   "metadata": {},
   "outputs": [
    {
     "name": "stdout",
     "output_type": "stream",
     "text": [
      "Sample Mean: 4.929\n",
      "Sample Variance: 4.885958999999999\n"
     ]
    }
   ],
   "source": [
    "def generate_poisson_sample(size, mean):\n",
    "    return np.random.poisson(mean, size)\n",
    "\n",
    "mean = 5\n",
    "sample_size = 1000\n",
    "\n",
    "\n",
    "sample = generate_poisson_sample(sample_size, mean)\n",
    "\n",
    "sample_mean = np.mean(sample)\n",
    "sample_variance = np.var(sample)\n",
    "\n",
    "print(\"Sample Mean:\", sample_mean)\n",
    "print(\"Sample Variance:\", sample_variance)\n"
   ]
  },
  {
   "cell_type": "markdown",
   "id": "6f9521b0-971f-408f-a3a5-42051d454ac4",
   "metadata": {},
   "source": [
    "<h3>Q9. How mean and variance are related in Binomial distribution and Poisson distribution?"
   ]
  },
  {
   "cell_type": "markdown",
   "id": "58b11c2b-ff82-4579-983b-1592a6c8e4fd",
   "metadata": {},
   "source": [
    "**Binomial Distribution:**\n",
    "1. Mean is equal to the number of trials multiplied by the probability of success.\n",
    "2. Variance is equal to the number of trials multiplied by the probability of success multiplied by the probability of failure.\n",
    "3. The variance is influenced by both the number of trials and the probability of success.\n",
    "\n",
    "**Poisson Distribution:**\n",
    "1. Mean and variance are both equal and are determined by a single parameter.\n",
    "2. The mean and variance are solely determined by the parameter (λ, lambda).\n",
    "3. As the parameter (λ) increases, both the mean and variance increase, and the distribution becomes more spread out around the mean."
   ]
  },
  {
   "cell_type": "markdown",
   "id": "178064b5-a123-425b-b22a-ad4b474b0990",
   "metadata": {},
   "source": [
    "<h3>Q10. In normal distribution with respect to mean position, where does the least frequent data appear?"
   ]
  },
  {
   "cell_type": "markdown",
   "id": "099f46ed-9305-4b5c-aa28-ae125a057093",
   "metadata": {},
   "source": [
    "\n",
    "- In a normal distribution, the least frequent data points appear in the tails.\n",
    "- The tails are the parts of the distribution located farthest away from the mean.\n",
    "- Data points in the tails have a much lower probability of occurrence compared to data points closer to the mean.\n",
    "- The normal distribution is symmetric, and the mean is the central point of the distribution, representing the highest point of the curve."
   ]
  },
  {
   "cell_type": "code",
   "execution_count": null,
   "id": "218b4461-7f15-47c1-977d-94f078e710f9",
   "metadata": {},
   "outputs": [],
   "source": []
  }
 ],
 "metadata": {
  "kernelspec": {
   "display_name": "Python 3 (ipykernel)",
   "language": "python",
   "name": "python3"
  },
  "language_info": {
   "codemirror_mode": {
    "name": "ipython",
    "version": 3
   },
   "file_extension": ".py",
   "mimetype": "text/x-python",
   "name": "python",
   "nbconvert_exporter": "python",
   "pygments_lexer": "ipython3",
   "version": "3.10.8"
  }
 },
 "nbformat": 4,
 "nbformat_minor": 5
}
