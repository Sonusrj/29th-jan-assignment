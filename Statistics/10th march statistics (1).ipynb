{
 "cells": [
  {
   "cell_type": "markdown",
   "metadata": {
    "id": "PZ1S-kJ_hQ-a"
   },
   "source": [
    "### `Q1`: What is Estimation Statistics? Explain point estimate and interval estimate.\n"
   ]
  },
  {
   "cell_type": "markdown",
   "metadata": {
    "id": "fTrD8oDTjhLP"
   },
   "source": [
    "* Estimation statistics is a branch of statistics that deals with estimating the value of an unknown population parameter based on a sample of data.\n",
    "\n",
    "* **Point estimate** involves estimating the value of an unknown population parameter using a single value, which is derived from the sample data. For example, the sample mean is often used as a point estimate of the population mean.\n",
    "\n",
    "* **Interval estimate** involves estimating the value of an unknown population parameter using a range of values that is likely to contain the true population parameter. This range of values is called a confidence interval. "
   ]
  },
  {
   "cell_type": "markdown",
   "metadata": {
    "id": "C4Jaz4VBhUto"
   },
   "source": [
    "### `Q2`. Write a Python function to estimate the population mean using a sample mean and standard deviation.\n"
   ]
  },
  {
   "cell_type": "code",
   "execution_count": 1,
   "metadata": {
    "id": "OVGVvdNqkTPi"
   },
   "outputs": [],
   "source": [
    "def estimate_population_mean(sample_mean, sample_std, sample_size):\n",
    "   \n",
    "    sem = sample_std / (sample_size ** 0.5)\n",
    "  \n",
    "    margin_of_error = 1.96 * sem\n",
    "    \n",
    "    lower_bound = sample_mean - margin_of_error\n",
    "    upper_bound = sample_mean + margin_of_error\n",
    "    \n",
    "    return sample_mean"
   ]
  },
  {
   "cell_type": "code",
   "execution_count": null,
   "metadata": {
    "colab": {
     "base_uri": "https://localhost:8080/"
    },
    "id": "erJWudK7k0RK",
    "outputId": "081eae29-8e05-42d3-cfcc-75e6dd3373b4"
   },
   "outputs": [
    {
     "name": "stdout",
     "output_type": "stream",
     "text": [
      "Population mean: 2\n"
     ]
    }
   ],
   "source": [
    "result = estimate_population_mean(2,5,20000)\n",
    "\n",
    "print(f\"Population mean: {result}\")"
   ]
  },
  {
   "cell_type": "markdown",
   "metadata": {
    "id": "kX4nMMFAhWx7"
   },
   "source": [
    "### `Q3`: What is Hypothesis testing? Why is it used? State the importance of Hypothesis testing.\n"
   ]
  },
  {
   "cell_type": "markdown",
   "metadata": {
    "id": "qBiYkopklLgG"
   },
   "source": [
    "* Hypothesis testing is a statistical method used to make decisions or draw conclusions about a population based on a sample of data. It involves comparing a hypothesis or claim about a population parameter (such as a mean or proportion) with the data from a sample, in order to determine if the hypothesis is likely to be true.\n",
    "\n",
    "* Hypothesis testing is used to test the validity of a theory or claim.\n",
    "  * For example, in medical research, hypothesis testing can be used to determine if a new drug is effective in treating a disease by comparing its effects to a placebo. In business, hypothesis testing can be used to evaluate whether a new marketing strategy is effective in increasing sales.\n",
    "\n",
    "* The importance of hypothesis testing lies in its ability to provide evidence for or against a theory or claim, and to help researchers make informed decisions based on data. It allows researchers to determine if an observed difference between groups or variables is statistically significant or simply due to chance, and to quantify the level of uncertainty in their findings. This can help researchers to draw conclusions that are based on evidence and minimize the risk of drawing incorrect or unsupported conclusions."
   ]
  },
  {
   "cell_type": "markdown",
   "metadata": {
    "id": "h7HD0L-yhYu2"
   },
   "source": [
    "### `Q4`. Create a hypothesis that states whether the average weight of male college students is greater than the average weight of female college students."
   ]
  },
  {
   "cell_type": "markdown",
   "metadata": {
    "id": "j9TFwiWWlfgl"
   },
   "source": [
    "* NULL HYPOTHESES : <br> hO : average weight of male college students is not greater than the average weight of female college students.\n",
    "\n",
    "* ALTERNATIVE HYPOTHESES : <br> hA : average weight of male college students is greater than the average weight of female college students."
   ]
  },
  {
   "cell_type": "markdown",
   "metadata": {
    "id": "_7yqnNlShb_z"
   },
   "source": [
    "\n",
    "### `Q5`. Write a Python script to conduct a hypothesis test on the difference between two population means, given a sample from each population.\n"
   ]
  },
  {
   "cell_type": "code",
   "execution_count": 5,
   "metadata": {
    "colab": {
     "base_uri": "https://localhost:8080/"
    },
    "id": "oxCPie1KmTRk",
    "outputId": "ce290566-04a7-4beb-8e6a-29c9f495aa48"
   },
   "outputs": [
    {
     "name": "stdout",
     "output_type": "stream",
     "text": [
      "t-statistic: -5.0\n",
      "p-value: 0.001052825793366539\n",
      "Reject the null hypothesis that the means are equal.\n"
     ]
    }
   ],
   "source": [
    "import numpy as np\n",
    "from scipy.stats import ttest_ind\n",
    "\n",
    "\n",
    "sample1 = np.array([1, 2, 3, 4, 5])\n",
    "sample2 = np.array([6, 7, 8, 9, 10])\n",
    "\n",
    "\n",
    "t_stat, p_val = ttest_ind(sample1, sample2)\n",
    "\n",
    "print(\"t-statistic:\", t_stat)\n",
    "print(\"p-value:\", p_val)\n",
    "\n",
    "alpha = 0.05  # significance level\n",
    "if p_val < alpha:\n",
    "    print(\"Reject the null hypothesis that the means are equal.\")\n",
    "else:\n",
    "    print(\"Fail to reject the null hypothesis that the means are equal.\")\n"
   ]
  },
  {
   "cell_type": "markdown",
   "metadata": {
    "id": "KbsyjCquhk-o"
   },
   "source": [
    "### `Q6`: What is a null and alternative hypothesis? Give some examples.\n"
   ]
  },
  {
   "cell_type": "markdown",
   "metadata": {
    "id": "zFmvuCcNmc_i"
   },
   "source": [
    "* A null hypothesis is a statement that assumes there is no difference or relationship between two variables. \n",
    "* An alternative hypothesis is a statement that suggests there is a difference or relationship between two variables.\n",
    "\n",
    "Here are some examples:\n",
    "\n",
    "1. * Null hypothesis: There is no difference in test scores between students who use flashcards and those who do not.\n",
    "   * Alternative hypothesis: Students who use flashcards will have higher test scores than those who do not.\n",
    "\n",
    "\n",
    "2. * Null hypothesis: There is no relationship between exercise and weight loss.\n",
    "    * Alternative hypothesis: Exercise is associated with weight loss.\n",
    "\n",
    "\n",
    "3. * Null hypothesis: There is no difference in the mean lifespan of two species of trees.\n",
    "   * Alternative hypothesis: One species of tree has a longer lifespan than the other."
   ]
  },
  {
   "cell_type": "markdown",
   "metadata": {
    "id": "8FTwcv5Ghm6X"
   },
   "source": [
    "### `Q7`: Write down the steps involved in hypothesis testing.\n"
   ]
  },
  {
   "cell_type": "markdown",
   "metadata": {
    "id": "mWVfyi-GnY5t"
   },
   "source": [
    "1. State the null and alternative hypotheses.\n",
    "2. Choose an appropriate test statistic and determine the appropriate \n",
    "3. probability distribution for the test statistic.\n",
    "4. Determine the significance level (alpha) and critical value(s) for the test statistic.\n",
    "5. Collect data and calculate the test statistic.\n",
    "6. Determine the p-value associated with the test statistic.\n",
    "* Compare the p-value to the significance level and make a decision:<br>\n",
    "    >a. If p-value is less than alpha, reject the null hypothesis in favor of the alternative hypothesis.<br>\n",
    "    >b. If p-value is greater than or equal to alpha, fail to reject the null hypothesis.\n",
    "7. Interpret the results in the context of the problem."
   ]
  },
  {
   "cell_type": "markdown",
   "metadata": {
    "id": "7TF0a1MLhoaG"
   },
   "source": [
    "### `Q8`. Define p-value and explain its significance in hypothesis testing.\n"
   ]
  },
  {
   "cell_type": "markdown",
   "metadata": {
    "id": "Qjj64-aWn0vy"
   },
   "source": [
    "* The p-value in hypothesis testing is the probability of observing a test statistic or a more extreme value, given that the null hypothesis is true. In other words, it is the probability of obtaining the observed data or more extreme data if the null hypothesis is true.\n",
    "* The p-value provides a measure of the strength of evidence against the null hypothesis. A small p-value indicates strong evidence against the null hypothesis, while a large p-value indicates weak evidence against the null hypothesis.\n",
    "\n",
    "* The p-value is a key component of hypothesis testing because it helps researchers make decisions about the null hypothesis.\n",
    "* If the p-value is small (e.g., less than or equal to the significance level), it suggests that the observed data is unlikely to have occurred by chance under the null hypothesis, and the null hypothesis is rejected. \n",
    "* If the p-value is large (e.g., greater than the significance level), it suggests that the observed data is consistent with the null hypothesis, and the null hypothesis is not rejected."
   ]
  },
  {
   "cell_type": "markdown",
   "metadata": {
    "id": "seuVHPy8hqAi"
   },
   "source": [
    "### `Q9`. Generate a Student's t-distribution plot using Python's matplotlib library, with the degrees of freedom parameter set to 10.\n"
   ]
  },
  {
   "cell_type": "code",
   "execution_count": 6,
   "metadata": {
    "colab": {
     "base_uri": "https://localhost:8080/",
     "height": 430
    },
    "id": "MO9GzPJ4oXVY",
    "outputId": "02824e8d-2359-4bcb-d210-0ef5ff3a5a5d"
   },
   "outputs": [
    {
     "data": {
      "image/png": "[encoded data removed]",
      "text/plain": [
       "<Figure size 640x480 with 1 Axes>"
      ]
     },
     "metadata": {},
     "output_type": "display_data"
    }
   ],
   "source": [
    "from scipy.stats import t\n",
    "import matplotlib.pyplot as plt\n",
    "\n",
    "\n",
    "x = t.rvs(df=10, size=10000)\n",
    "\n",
    "plt.hist(x, density=True, edgecolor='black', bins=20)\n",
    "plt.show()"
   ]
  },
  {
   "cell_type": "markdown",
   "metadata": {
    "id": "dJA5wL_Ght0H"
   },
   "source": [
    "### `Q10`. Write a Python program to calculate the two-sample t-test for independent samples, given two random samples of equal size and a null hypothesis that the population means are equal.\n"
   ]
  },
  {
   "cell_type": "code",
   "execution_count": 5,
   "metadata": {
    "colab": {
     "base_uri": "https://localhost:8080/"
    },
    "id": "QzTbgo5ooofc",
    "outputId": "c527ae50-e00d-4a1c-ca64-0109271b5aed"
   },
   "outputs": [
    {
     "name": "stdout",
     "output_type": "stream",
     "text": [
      "t-test statistic: -6.7690191150274615\n",
      "p-value: 1.4361402772518416e-10\n",
      "Reject the null hypothesis\n"
     ]
    }
   ],
   "source": [
    "import numpy as np\n",
    "from scipy.stats import ttest_ind\n",
    "\n",
    "sample1 = np.random.normal(10, 2, 100)\n",
    "sample2 = np.random.normal(12, 2, 100)\n",
    "\n",
    "\n",
    "t_statistic, p_value = ttest_ind(sample1, sample2)\n",
    "\n",
    "print(\"t-test statistic:\", t_statistic)\n",
    "print(\"p-value:\", p_value)\n",
    "\n",
    "\n",
    "alpha = 0.05\n",
    "if p_value < alpha:\n",
    "    print(\"Reject the null hypothesis\")\n",
    "else:\n",
    "    print(\"Fail to reject the null hypothesis\")"
   ]
  },
  {
   "cell_type": "markdown",
   "metadata": {
    "id": "wwH2CBIshwlQ"
   },
   "source": [
    "### `Q11`: What is Student’s t distribution? When to use the t-Distribution.\n"
   ]
  },
  {
   "cell_type": "markdown",
   "metadata": {
    "id": "C1Ohocfbo_du"
   },
   "source": [
    "* Student's t-distribution is a probability distribution that is used in hypothesis testing when the population standard deviation is unknown or when the sample size is small (typically less than 30)\n",
    "* In short, the t-distribution is used when:\n",
    "\n",
    "  * The population standard deviation is unknown.\n",
    "  * The sample size is small (typically less than 30).\n",
    "  * We want to estimate the population mean or conduct hypothesis tests for the population mean."
   ]
  },
  {
   "cell_type": "markdown",
   "metadata": {
    "id": "02Kw8WDUhy79"
   },
   "source": [
    "### `Q12`: What is t-statistic? State the formula for t-statistic.\n"
   ]
  },
  {
   "cell_type": "markdown",
   "metadata": {
    "id": "p6-A40YPpLti"
   },
   "source": [
    "* The t-statistic is a measure of how many standard errors the sample mean is from the hypothesized population mean, under the assumption that the population variance is unknown and must be estimated from the sample data. It is used in hypothesis testing to determine whether the difference between the sample mean and the hypothesized population mean is statistically significant.\n",
    "\n",
    "* The formula for the t-statistic is:\n",
    "> t = (x̄ - μ) / (s / √n) <br>\n",
    "where:<br>\n",
    "is the sample mean<br>\n",
    "μ is the hypothesized population mean<br>\n",
    "s is the sample standard deviation<br>\n",
    "n is the sample size<br>\n",
    "√n is the square root of the sample size"
   ]
  },
  {
   "cell_type": "markdown",
   "metadata": {
    "id": "_djXSuzQh0XY"
   },
   "source": [
    "### `Q13`. A coffee shop owner wants to estimate the average daily revenue for their shop. They take a random sample of 50 days and find the sample mean revenue to be $500 with the standard deviation of 50. Estimate the population mean revenue with a 95% confidence interval.\n"
   ]
  },
  {
   "cell_type": "markdown",
   "metadata": {
    "id": "1pgXluxuqIAA"
   },
   "source": [
    "* To estimate the population mean revenue with a 95% confidence interval, we can use the following formula:\n",
    "\n",
    "  > Confidence Interval = sample mean ± margin of error\n",
    "\n",
    "* where the margin of error is given by:\n",
    "\n",
    "  >Margin of Error = critical value * standard error\n",
    "\n",
    "* The standard error is the standard deviation of the sample divided by the square root of the sample size:\n",
    "\n",
    "  > Standard Error = standard deviation / sqrt(sample size)\n",
    "\n",
    "  > Standard Error = 50 / sqrt(50) = 7.07\n",
    "  > Margin of Error = 1.96 * 7.07 = 13.85\n",
    "\n",
    "* Therefore, the 95% confidence interval for the population mean revenue is:\n",
    "  > 500 ± 13.85, or (486.15, 513.85)"
   ]
  },
  {
   "cell_type": "markdown",
   "metadata": {
    "id": "sNe3o8MCh1-k"
   },
   "source": [
    "### `Q14`. A researcher hypothesizes that a new drug will decrease blood pressure by 10 mmHg. They conduct a clinical trial with 100 patients and find that the sample mean decrease in blood pressure is 8 mmHg with a standard deviation of 3 mmHg. Test the hypothesis with a significance level of 0.05.\n"
   ]
  },
  {
   "cell_type": "markdown",
   "metadata": {
    "id": "WEZHFYbVxXb9"
   },
   "source": [
    "* The following values are given in the question:\n",
    "\n",
    "  >population Mean = 10<br>\n",
    "Sample Size = n = 100<br>\n",
    "Sample Mean = 8<br>\n",
    "Standard Deviation = 3<br>\n",
    "Significance Level = 0.05<br>\n",
    "Confidence Interval = 0.95<br>\n",
    "\n",
    "* **Null Hypothesis** = H0 => Population Mean = 10\n",
    "* **Alternate Hypothesis** = H1 => Population Mean != 10<br>\n",
    "\n",
    "* From utilizing z-table i obgtained values for z-score:\n",
    "\n",
    "  > z-score = ± 1.64\n",
    "\n",
    "* Z-test formula:\n"
   ]
  },
  {
   "cell_type": "markdown",
   "metadata": {
    "id": "oLpd7Ws_yklY"
   },
   "source": [
    "* ![image.png](data:image/png;base64,iVBORw0KGgoAAAANSUhEUgAAAOIAAACoCAYAAAD90zLdAAAAAXNSR0IArs4c6QAAAARnQU1BAACxjwv8YQUAAAAJcEhZcwAAEnQAABJ0Ad5mH3gAACCmSURBVHhe7d0HfFRV3v/xz0ySSe89IQkkkEiHCEgHEVBAsPeGZcWyuurj6mPbv9t83LXsru6uu4isggKC9KqgCV1KKCFAICG910kymcnU878TZtc1RFRM4CY5b7kvc2duJpnJ+c75nXvP3KsRCiRJuqS0rv9LknQJySBKkgrIIEqSCsggSpIKyCBKkgrIIEqSCsggSpIKyCBKkgrIIEqSCsggSpIKyCBKkgrIIEqSCsggSpIKyCBKkgrIIEqSCsggSpIKyCBKkgrIIEqSCsggSpIKyCBKkgrIIEqSCsggSpIKyCBKkgrIIEqSCsggSpIKyCBKkgrIIEqSCsggSpIKyCBKkgrIIEqSCsggSpIKyCBKkgrIC5V2Q4WFhWRmZrrWLq7g4GDGjx/vWpN+KBnEbmj+/PnMmzfPtXZxjRkzhj179rjWpB9KlqaSpAKyR+yGZGna9cggSpIKyNJUklRABlGSVEAGUZJUQAZRklRABlGSVEAGUZJUQAZRklRABlGSVEAe0O8BRHMOJSfT2JG2g093Niq3pBA7/WqmXH05M/oF43d2MxeBw1KHuXwnu7ZuZvO+KnL1vYkYMI2bnp/BOC8NAWp4+xY2ROVnrHw/nS8PlFEa1hufKQ/zq9n96Bvoic612VkOLAUr2LLxKz79vBqDLoyAWx/nsYn9uCLKRxW9kewRuztrLmf2rGTdR//i/UWrWb9+vbIsY8WHK1i+4SDpVRbXhk52rI3ZFB1YzKI/vsf8Dz7j05XrWJ++nx259TQrrcXh2vLSciAczehzt5KWto4V679i667THDe74VC6lXMbtYXmisNkfr2J1es/Z8OmA+yvMFKvPHWNa4tLTQax27IrvYaempMb2Ja2ly9zPHD0Gsu1U5NJCa3GfOQLdn+ezpoTtZiVrYWzJ2wppvzEZtKWzeevf/+CDV/XUVavRC/QF8+ECHp7atCposXYlSA2UpWbQ0FDA7UE4eubSP/+0QR7uuPu2uosZ8FnoqmulvoGAyatF27efUjpFUKwn4cMotTJRIvScZwic/mnbKnujeedb/POpx+x9qMHuH9kOPE+hVSUHuHQgXzKlKxZ7M00lWxl/+Y1LPm0kJzgCPyjwggN8MIv1BffuFDilFb77ZLvUlHKUlFHTZmelmYruAXg7RtN3yhvdG5tm7QSRFFLXUUdDbUm5QkE4BZ5OaOSQ4nw/3ZkLyUZxO5KKOkyNWOrHceY0TO4ftpABvoFo42cydiJkcTFuSOKqtDvPE66wU5T7VZ2rfyMpWtKOeJ/PSNeW8GSL//Je09O4PoBfgRFBhOsPKzb2Ue/xCzKELGc6vxmTE1Kzx8dQ3DqYK7spcPHo00fJ5T7m4+Qk1FK4SmlFvX2RJsUS1yAB77uaukPZRC7L403eA1h+KMPccvVI5kc5oWHVunP3BLoN6wfvSID8WluoqW8kNPVJRxYtZTVO8wU9b2F63/3JG/MSWVUv0lcOfd3/PLpZ/j12Cg8nA979tEvLXMDttI97D/SRGWtA02IP74JkSQqIWybQ+cbktAXUFqhlLINQnlZPPFIiiJWKWF91ZNDude057FjyXqJ37+8goVr66mPSGHAzanEnj5BY6/xpEyfzV3XDGNc8PcUoS2FVOfuY8vKk5Qoq/+9y+fCKWM2t0iiZ85kSr9wktotHZWxbNNJGg79ivvv28qOQgvN4+9g8qPPseLOy1r3AH/TuyghtDWi3/sML/1qM8vTDRiTJ9D3+bdYelMSKYG6NuPJS8gZRKlncVS8Lxb+bIQY46cRaHUCr3gRc9Xz4pFPD4rtdWbXVufnqNsuji+7SUxTmpC/Mx0dsvgJrecYMfL9DPFFaYvrJ7VlFi2VO0X2wuEiNcZL6OglIma/LB7cXiFsri2+YRF2c4E4uXCcuGa4j/L4vUTo8MfErbvrRanR7tpGHWRp2gNpIoZz2YAYkhOUP797EJrIWVz1zFzmXj2Eid/XE/6bUua6ewcTGhNDlLLEdMgSTUx0OOE+Hnh+52C0GWNTCacP5FBtsmDRxhEbnsTQxOB2xq8WHPZqqorqMRmUPtstAB+/mLM7dVQ0PnSSpWmPVMiJZa/wz/kreCcjEs3IF3jn3Ru5PiWMXtof2EAdFmxmAw31La1lacc0IuVnazzwCAwkQBnDebq187uIEiqPrWbts//Dq3tslLvNYvIjP+PnL1/LTf5t+hV7OebqVfzjzt+x4EAFWUFTGXLjz3nzjTmMVQaTahojyh6xR3Eejm+h4dRq9qRlcShLiZDRBFlZnCw1UGP6EXFq7RFDWnvE6HN6tgtdnD1imKtH/I6UKGM+c0MFxfk2rFalsh7Uh7iB8QzxaduUlbGksY6mUzvZXmykTHmamlDnTp2I1p06OhWF0EkGscdwYDdX0ZS7jI0fbGHLSQtVbuFE21qg+hQ55Y3UNdtd26qVwN5YQU1RNl9XgMnmi2dcDBG9Qog5py5twFBzimNbDnCy3kSjPZiA8Dji+0YTqYRQHYdhviGD2CMoITSVU3vmS7Yv+RuLt1lpiBvMoNF9SdFZEaKC0poGGk3K167vUCcbFn05FYWnyDAofbsjmMCQUEICffF2bXGWA5shj9LsHazdUEilwap8ZyRhYb1J6h3WZs+qOsggdjtKSWYz0mKooazWiNGmNN6WOmrztrFv7V957bXTZA64kTkPzuHRaxNJCnf2gtVUVNRQb2jB6noMlK/MjQalcrVgtqslnmaaG+uorqilXhlP2gkkOCCIID+v/2rIyvO31lN/eh9H075kfYEGo1WDRhtCoF8o0SH/3hllU8a4SnlrcbQW7JeaDGK3Y8aQv4G0jx5i5BPrWFWQx9Hdf+fjN17n2b+Vcujyn3HTPdMYP3wsffslM3iM80haDfp9J8kpraOkNXMmhC2LPX9dzKotR8iodc5GVQFRQnXhGXIP1rpuaI9ZKb8/YcuSXazZ3JvZ9/UmLlAZc/qHEhgWTEyg8/kq0XMUk7f/DGeyalE610tOBrHbMWFqVMq34wco2/Y6bzw8j6dfXMT8dCv14Vcx9cm7uGVoLH0DIgiL7kPykHiChR1N5la+2pNJel4NZv1pij//E+8dL+KgUWB1U8mIylJNY1U1ZSU2ZcX5jtFAbVUllbWNNCsBdFjPULD9Tyx5ey9flCfgfec0ropXekgle1aN0gM6bJjMjco48yCHlr/Gnxf8i79sz2Jvw6UfG7u9qnB9LXUHoorq7D0c3LSVrUdLqSwooLjUHUvsWIbcegdP3nIFo0K9CHB3x03bgKWpkOObjyvjqCZqDHXU5B0nL2M/X+0sozB5CmNGD2J0nFL+qeC4m2jMIGv7LrZ+nssZm/P3sWOzKmV4WQ6FR/ewK/1Ltm7cy159EkHjpjLz6hgGGtJZnVZLrTJOtFvr0Bce4+Tur9icUUNp4ACSUgczKjmSqHPmxl1cMojdjb2Q0sO72LNuH3uqBJqIRGJTJjF61nXccNdV3B7vi5dWGTMp/2k9lF5FKD3JmSyK6uqpyj/J6ayTHCh0UB85mzn3zmDOoBj6+qihR7RhLt7GnvRdrN/fhD4sif6JDnRlp8j/ejdpX2ewK7eJakcy8bOuZ/as0czorZSktmJOZuRTXlVG6Zk8zmTmk1WvPFq/2Vx140xuGNOP4Sr4FIYMYndjyaf0WCaHdpVQ7O5P0LT7mTPvAR69ZQI3Jvi1jkX+896v9UPnF0pCfwMt+XqarB7Ye6XS55p7mPviPTyQotznrYbZmM4ytJmqwyvYnLabdWVheI77GS/MDSTWaMPa5IYjPpmw2Y9wx6P38+SMYUyO88dL541neAJx1pPKG40NvbU30f1nMP6Jx3nyfiWE/aNI8lHD85Mza7ofYcFiasbYaMLo3B3o5Ye3txc+uvYPkgthU8ZWBpobW2ixOrBpPXDz9MHHzxtfNy0/dKJN53I20VKyP32ev85fzd9PJeF319useXwAA5TeWmtx/t5uaJTn6uPlqTxXNzxaf3Fnj2/F0txAkxJYs015Pu6eePgqz81Lh055PdSyk0QGUeoC7GDaxqbfvs4/P97PZt1IIp9+h413JDMgxEs9n6D4CeReU0n9nJ8pbMylqLCOsirnMUEvPH2URatV3QyZCyWDKKmfEkRbXQnlegM1Kjmk2dFkECWVU3pDYaa5sphSo4HzHcrvymQQJZWzKB1iGWeOnKKkpkEVs2A6Q8fvrGlKY/fSz9m44QRZrpsuiNYXAqYy+6kZXDU4uvWjK1JPZEPYqinc/Ave/EMaq3YLDAOnMez1t/locjh9/LrDrpoOD6IDa96feP+1Rbz7QSbZrlsviFcY2tTn+O2bt3PbyDiSusfrLf1oQilNWzAWb2Nfeg5Z+Q6MEX3pdfV0Zsd5EejRPYq6Dgyi82GsNOz9JX94eyXvflaKQaukJyiOqIRYEsL8Cfdy/+Zg8r8J59QjPfq8YxwvMdFgcoB3EN6JIxh61//y8p0jGB8fSGCHdYjNNJbmUFxQSl7dJZh37648t5De9B/Zi3CtRiXnCZUuOWcQO4bzZDx6UbjuTvHw1UECjbvQ+sUIv1kvintXHBRp5YbWLb7NLuyWClGfv0yseipRDI7VCdw8he6yK8XAVzaKLdUtov7cMwL9RKfE0Y/vE78Y55zf1frucXEX/5EiYeaHYqnJLmocrl9J6vE6sF939i4N6KvrW2dpoIvFL/F27n1hHk9NHcSY8PYu9qH0ToXb+frDX/PMJ8VkV1ih1xWkTL+bx++bwJggHQHd5UCRJJ1HBwZRCZE9j9KsWuqKwwntP40rn7mbBwdGkRzg2c70qiYaTq1n54oPeOtj5fvqbFh9RjHsmtu4465pzO7li5+KpiBJUmfquDGiowkMK1hw75ssPBZFy4wH+cVLN3NbpK51tv83nD/OhrFgLds++5jFS9PZfEQZjPukkHzdvdx+zyxumZjMQO/OimAtlZk7OXzwGPuKL8EYURdDYPxIpt42lCR3TZtTPEg9VQcGsVmpTLew+o3PSWtJIfiqa/nZzBRilAx+EymBsBux1B8lY/kf+ceiHazeZ8TkE0fQuHuY++xt3DU6keEBzpO7S98nMzOTwsJC15rU0Tw8PJgwYQK+vr6uWzqRM4gXjcMkzPqj4vSqOeKhwSEiFq3Q6hJEYP9HxfUbz4jDdeZ2duhI3+WRRx75ZieQXDp8CQoKErm5ua5Xu3NdxCGYA1vzaaoyF/D+6zv4Kk9PBaH4Db6SES8/wZsTejEg0EOOCaUe6aK1e2HMJG/PMha8tobVJxspM4XhP3oOV869mxem9iHO1wOdOj78JkkXXcdPcWuHMGaTu28565esYOHSE2QbffDoP4vJd9/JvbdO4vqkQLyU7WQMf5wNGzaQkZHhWpM6mqenJ/PmzSM42HllyM7VyUG0K//qqDyyiFWLlrJo1WG+rvBEEzma0XMf4cFbJnHdkEjCZAKlHq4Tg3j22nTm6q2se+eP/HPlUWVcCG5hvQm58Xe89eQUZqaEEXrRQ2jDajJgbDbS3DEX9ftxNM5TUfgSEOyD57f2KHdjwo7DdvZUHMJmxmKxYrKcr9m54+7nj6+Pl6qu6tuZOi+IogFT7T52v/U0v/ksn/0FLVgihxA160l+/z83MD0+gGgvt0vQEPM4ueodli5azQcHnOfHvMj8hhI7ai4vLbiZiTotwd2+nTlwmKpoLtzKxoM1tJTsZP/BE6zd2+S6vy1ni+hLv8ee5r7bp3J/ks/Zm7s7ZxA7nKNO6PPWiC/fnCYmJ3uLAC+NIGqoSLr79+LFnUWiyGQTlks2z1LONb04zMJQ9pU4sOol8cZjV4trJg0WQ4ekiMH9QkVMqHv7r03r4qYsk8S4324SHxd/18VKu59O6BFNNJekk7HlYxa8t5YVmUZaPJLpM/NWrr33Zh6aMpABvm5cuorjNJmfvMbC95bwl91nr/RwUfmPJGHC47y+8h6meWovQWneyYRZ+VdM3oGtbE1PZ9euA2Rm15HlNpiB/WLom9SLOJ9abAUZfL66mNpR05k0vDeDIn1dn0RxviCJ9Jk6jhHDEpS20jMOaHVwEO1YlHL08JYPWbZ4Lf/6oo5GXSQRo27nuodv457rUhnv33YWtw27pQF9/mGOF/uijelNfGIk8V6d9QcooyB9OVs3b2f9yUtwqnXvvoQPmMV9L1zJcA8t/t0qiMr4r6mA6qOfsfTDRSz6opQTjcEEpVzO0GnKcGREPyVcKfT3z6Zx+wJeumcTX09/jnk/v4G7x/ch0Tlo7qmcQewQDquwt5SK/HX3i6euiRSBaIXGI0zokueJOz89JNJqv+Pa7PZ60VS2UWx8OloMjZsqxj23SvyrzOK6U+o6HEoTKBTlR98V82/0Eb0C3YXGM1aETHxUXL/wkDhlF+I/hab5mChIf04818tNhHlMERN/t1ksKf1h1+7vrjqo27FjN5dTk/EbFvx5G1vSa2giBM+giaQ+/xAPjOvHFUHtzR91YGvMofrQxyxeVk+pKZSQ0CAiz+k1JfWzYirex/Gti3hrcwvVTYH4jr2NWQ/dz69uGUii0tL+8yFoD3+lbUQR30eDTpfNycI8Tpc0OA929VgdEESB3VRAbfYnLPnz52zJrKSwJRL/Adcw5sXH+fW0FFLDfdp8AsPFVkBFdjpbPtnO7joLDeFhhEQEENFpZanUaUQ5VXlZHEk/TYEJLH5jGDN1CjMmXUaKn671JMDftAAtGq077q2nP6lFfzKX/JxyCjp4b0VX8pNbvDDnU561ifXvf8ry9BJO1/ugvWwsw66/gQduHMX4GD+CdMoL79r+LKUnbDihDOhXs2ntOpZsr6DC6sCRFE1UdBCxskPscoQhl5JT2Rw81IxZG4D3+CuZcMUAxih//3MOQNhbsBn11NY4sNvNWPWNGBqMNMogXiB7LXVn0ti7YQUffnKEgzU2muzKu1+gFz6eerRH09i2aQMb1q9nfZtl7crFfPLhUpau3ceuMqWwcQQQmNSLmMhAwnvwmL1rEjjq8yktKiCrTKf0dgkkTB3BkL4RxLe3e9zSSEt9OfklDixWpaf01qFTFu+e/Hd3jRUvjGGrSPvTdeKOflrne9lPWDyV5XKR+sdtYlmB0fXgUtdhFc2Zr4l3H+snggkVWo87xG1rc8ReffsnHHLUfCmOLr5OTFL+9r64C92cl8XjG3NFnev+nugn9YhCf4aiM+Xk5P/UT7o7BwvRRIcEEOQrPxTc9Zgx1NdSq2+gwXXLd3NgNTWgr6sgTxmwWEgkISmZpPhwAl1b9EQ/7TiiqYDinGLyCvU0um66MM4ghhE1LJnekQGE62Rt2rVYaDr8Ogv+8SGvzlfGex7TueWz3/DUpD6MDmwz4BdFFKb9i1XvvMML6xuxpDzE3Jcf5KHZwxnbk/eWt/aLkvST2IW1dLFY+epEMdrnfKWpRRiLl4m1/zddTI/xERr3ASLpqRXig8wqUdvDTy0pjxNIHUCLe+ggkgelMmWonzJKLKOqqIiSWgMNVqXgEjaEtZq6gj3s37KeTek5HDJfRtz4m7hxzghGJQQT0sOLIHnpbqljuIfgpwzyAv2UAH6dwQmHPxo/fwK83PFuqaKxci9fr3mX+R9nkJYXS9C4m7n2tw/zzPBIkvzaOQN8D9OJn0eUehbnGfpMtNTnU5m5nl0Ht7FqQyFHc4y0aJ078xxY+s1g2OWpTBh/OWNHDmJEhD/+HlrauaJ4jyODKHUgZxjN2JsrqK0po6ikkdoGq/PU00pLU9IWGEdYeAiR4cGEBvnRdj9OTyaDKEkqIHfWSJIKyCBKkgrIIEqSCsggSpIKyCBKkgrIIEqSCsggSpIKyCBKkgrIIEqSCsiZNdI5SktLWbBggWuta0hISGDu3Lmuta5HBlE6x/79+7niiitca13DpEmTSE9Pd611PTKI0jmOHDnCrFmzXGtdw+jRo1m5cqVrreuRQZTOYbVaqa6udq11DTqdjrCwMNda1yODKEkqIPeaSpIKyB5R6kQCh6mC+opcDmXpcV6g+aeeePO7hIaGMnbsWNda1yODKHUiGy0FK9m14nXueu4Ida23dI6uvtdUlqZSJ9JTV15A7vF8apS1S3Ch9C5D9ohS5zEf4NDHS1m28AhbZzzE4ym+RHbSlb5kaSpJ30HUr2Hb3zax6DN3HPNf5/XBfsR5yyKsPfJVkTqJHXNNCWUmMxXhiQyO8carvStDSa1kEKVO0kRN/ilOWyxUpw5mcowHvh4yiN9FBlHqBMpoR5yhKKuYWoMnMSOSGKK0NC/XvdK5ZBCljicciMqDnMjyosnUn2GXReCt3Cwb23eTr43UCexYqnM5Ve1No1scSVE+Pf7aFt9HBlHqYHaEMFBXVEixty/0iqJvT77u4Q8kgyh1MAvCXkzuoXyaEsKIG5XAEK82/aGw47AZaTHUUF9ZTkVZNZXOS7iZldtdmzgv5Wa3GDA2VFNTVka5spRV1VHdZKLZ1lkT5S4dGUSpY9mbEI37ObrRB29NH/omtHNJblsVTSWb2LNkHv97zUSuGXk7s36xkP/bX45eudvu3MaST/nxj1j79t08PHIkE5Rl5K1Pc9d7X7A0T9+6TXc6AC6vjyh1IIHDWIrhxGL+8Gko/pMmMWlCEin/dRBfGI6QveMTPnlvIX9bdZQDpyso1ldTXdlEo94Tj1ED6WvZScaq9/lo4UoWbzlJZnENlU3K/bUV1BY3o28KInJcMtFuGrrLVd5lEKUOZMfaVETNoUW8VzWRkVeNYuqgMEK1zrQo/Zc1l5z05WxKO8aOxgQSRk5hwhAtHvoaZUzZRIPNC/fBEXjtWMyOE00UeSuhHDWRKZOHMyCgnPqaaspLBHa3XsTMHMVQHy0+rY/d9cnSVDo/hwFTYwGlpzI4vDGDzAoD9c7LcbfLhNlYRVF2FWJYAr3jg4j9z2wa5Xsc9dTm62nUXEafG5/m2Zdf4ZUnpzD1sjDCaMRUl8Xx9etYub2W6uipTLjvOZ575RX+3ytP88QNvUmO0Sklq1kJewPVBjv2bjRUlEGU2uE8IG/GYqqnoTyLnIPL2LDwVV676VXe3J5PZqOt/fGZo5bm2tMcTmvGJyCQED+v1uOHZylNzXMI/cc/zv33zuPZOYMZ6K2UlkIJlHAofWkjxupTZK88SN4VTzDr1puZOyqORE93NBofvHx1uHsoj+Hmhlanw1spS7tJVdpKBlE6l6NZGcsd5Njml3jrkV/zyhOf8FHaDjZZ01iTfpjjRXUYXJv+N9FUSv2ZHL46NIH+Cb2JCfVp08A8CeifSGy/XsRqnGG30VJbSpmpmRolsu7Rg4h4/AV+c1sqU+L98XF917dERxPknDIXp+tWU+ZkEKVzaZRmoVP6Mn0qA69/iDtevJcHp/clUZiw7dxPxslSsprb1oUWmmsKKSgpYN+AMQxJCiHar+3xQw1aD3elZ3PDDQdCtNBQVUm1yUiTVzwRiVO44+YRDIr0J8Bd6+rxTDhsOZw5VKFs24Im2B/fhEiSlBB2p6mrMojSuTQeyj+l1xo6mdFXX8VVs6Zz5ZVXMmOwO/4VB8k4nsOR0uY2p70wYayvpkpvwDwxlUHhvoSfNynO441FFGaVUVdjwh4ZS1jqCGYnBxHiqZSfrq1wKEFsyaMgu4FGvR8BEXHE9YsiUnlod9cm3YEMotQOD6VlRBB1eV8SegURHphAeL8JzJwZQZhbLvkZmRw5Vkr5f3/k3l5DQ0UdVcWeRKcmEu+jw891V7uU3lVYcsg7WoO+RuAWHUnwkN4M9tTwzfF/gbA2Y6k8TnaJifrmCEJDE+jbJ7z1sbtT45VBlL6fJhCf4GSGTU8lMdSGZt8Bju3I5KsGq2sDJTLGXEpPVJJ9IJqk2EC8lfLzvJWjTekFG85QWNxCkyEAH/8IwqOCWw/+f9MoHdiaa6jP2sXuaiMVIozgwAjiQj1d93cfMojSD6DBzTcK/5H3cfvIMC7zzuTkyb2sO1DZeh4agR1z2Qmyyg3s8x7OlIEB+Hmer2k5sBvraTqxnfSKZkrN8fSKSCY1OVQZOzp/2r81Y2wsIXtfNhUmM+akfsQNSuLyyO5UlJ4lgyj9MFo/tD6jGTdrKMm9lUq08BS5e47zdYsDo6OOyjM5lGrt6K4cxOQgN3zdztcf2rFZmqgtLqLcbMHoo/R0YeHEh+hc97sIpSw1VlJ6yoDF7EATE0pIdDCxzhwKKy0lRymoq6H8O49rdh0yiNIP5IFGE0HMyHGMGBRJormAqgP72FhgpNFSSXV+HRaHLwmjkujrrkEZ6p2HAVNTMbkZFTSZbNhDQwiMDCHGp01ztDdhbqykJM+K1SLQeOvQebmjc54r9dQS1ry3lI+3neBgVUubHUddjwyi9MNp3NDFjGfU5cmMiGzAeGofn28voLLqFIX5Hjis8QxJifj+HSn2ekz1+cp4Uo/Z5I5HfDTh8WHEt5042vopDQvmFoHzFGeiMpfC/V+yZc1qVi1dzrLdpZwoN2GytE4T79JkEKUfQQmKc3bMqGGkpvriW3+CY8vTOX7oK3bnR9CkGU5qQruH4b9FWJQQ15WQW+jAYg3CPyWR+KQoerftRd0D8A6OI2lgIEF+bmgPrWDz60/xwMN/5NkPQjDf8Rj33DSWWX2Ustn1LV2VDKL0I3nin3Q5A/sPYqybHsfeTSz/cCubzS3ok5Tysu1nD8/hwFZXRNnpQ2yp0WCwBRMWFEJooHfrjppvUUrhoLiJTHvmXu4YF0JisAZtn+HE3vsM8/75Im/fNJRJ0X7tz8DpYuR5TaUfz15Gye6PWP2Pv/DkUhthYe4w7Qluv+dOfjOjD8Guzdrnuh5GeS6HjjdgUQpZn6RkesdH0uecmThKSWo3YWsuoiiniOJaCwZdCN6RccRHhRMf4InneXcKdR0yiNIFsNFSvo1Dm/7CL5/6nKPGQcQ//TyPPDibn/cPkGXWBZCvmXQB3PEK70fisMncNNibwJhB9E9MICXKVzaoCyRfN+nCuEcREHsFk28bSJ+rx5A6IJbkIHmSqAslS1PpAjnHbxasRj16qy9evl74eLp3q4nYF5MMoiSpgCxNJUkFZBAlSQVkECVJBWQQJUkFZBAlSQVkECVJBWQQJUkFZBAlSQVkECVJBWQQJUkFZBAlSQVkECVJBWQQJUkFZBAlSQVkECVJBWQQJemSg/8PYJldqy3ODnIAAAAASUVORK5CYII=)"
   ]
  },
  {
   "cell_type": "markdown",
   "metadata": {
    "id": "10XqQRcqyjea"
   },
   "source": [
    "* I got the following value:\n",
    "\n",
    "  > -6.66\n",
    "\n",
    "* As -6.66 lies outside the region ± 1.66, that means it lies in the rejection region.\n",
    "* conclusion :\n",
    "  > Reject the null hypothesis"
   ]
  },
  {
   "cell_type": "markdown",
   "metadata": {
    "id": "t1T1a9jUh3_l"
   },
   "source": [
    "### `Q15`. An electronics company produces a certain type of product with a mean weight of 5 pounds and a standard deviation of 0.5 pounds. A random sample of 25 products is taken, and the sample mean weight is found to be 4.8 pounds. Test the hypothesis that the true mean weight of the products is less than pounds with a significance level of 0.01.\n"
   ]
  },
  {
   "cell_type": "markdown",
   "metadata": {
    "id": "L04lkTZUr_SQ"
   },
   "source": [
    "* The following values are given in the question:\n",
    "  > Population Mean = 5 <br>\n",
    "Sample Size = n = 25 <br>\n",
    "Sample Mean = 4.8 <br>\n",
    "Standard Deviation = 0.5 <br>\n",
    "Significance Level = 0.01 <br>\n",
    "Confidence Interval = 0.99 <br>\n",
    "\n",
    "* hypothesis are as follows:\n",
    "  >Null Hypothesis = H0 => Population Mean = 5<br>\n",
    "Alternate Hypothesis = H1 => Population Mean < 5\n",
    "\n",
    "* Then I utilized the follwing z-test formula:\n"
   ]
  },
  {
   "cell_type": "markdown",
   "metadata": {
    "id": "rjsbHu9j5i-v"
   },
   "source": [
    "* ![image.png](data:image/png;base64,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)"
   ]
  },
  {
   "cell_type": "markdown",
   "metadata": {
    "id": "fiXb4fSq5jgO"
   },
   "source": [
    "\n",
    "\n",
    "* I got the following value:\n",
    "\n",
    "  > -2\n",
    "\n",
    "* From utilizing z-table i obgtained values for z-score of -2:\n",
    "\n",
    "  >z-score = 0.02275\n",
    "\n",
    "* Which also becomes my p-value:\n",
    "\n",
    "  > p-value = 0.02275\n",
    "\n",
    "* Then i checked whether p-value < significance value\n",
    "\n",
    "  >0.02775 < 0.01\n",
    "  >False\n",
    "\n",
    "* So my final conclusion was:\n",
    "\n",
    "  >Failed to reject null hypothesis"
   ]
  },
  {
   "cell_type": "markdown",
   "metadata": {
    "id": "lvrObmY8h53_"
   },
   "source": [
    "### `Q16`. Two groups of students are given different study materials to prepare for a test. The first group (n1 =30) has a mean score of 80 with a standard deviation of 10, and the second group (n2 = 40) has a meanscore of 75 with a standard deviation of 8. Test the hypothesis that the population means for the two groups are equal with a significance level of 0.01.\n"
   ]
  },
  {
   "cell_type": "markdown",
   "metadata": {
    "id": "XjmniogYr_xC"
   },
   "source": [
    "* null and alternate hypothesis :\n",
    "\n",
    "* Null Hypothesis = H0 => Population Mean of Group 1 = Population Mean of Group 2\n",
    "* Alternate Hypothesis = H1 => Population Mean of Group 1 != Population Mean of Group 2\n",
    "\n",
    "* value of t as:\n",
    "  > t = 2.37\n",
    "\n",
    "* t-table to look for the value of t for the following parameters:\n",
    "  > Degrees of Freedom = 68\n",
    "  > Significance Value = 0.01\n",
    "\n",
    "* the following value of t from t the table:\n",
    "  > t = ± 2.638\n",
    "\n",
    "* Since 2.37 lies in the region ±2.638 so, the final conclusion was:\n",
    "  > failed to reject null hypothesis\n",
    "  > Population mean for two groups are equal"
   ]
  },
  {
   "cell_type": "markdown",
   "metadata": {
    "id": "PrSbUxuwh79Z"
   },
   "source": [
    "### `Q17`. A marketing company wants to estimate the average number of ads watched by viewers during a TV program. They take a random sample of 50 viewers and find that the sample mean is 4 with a standard deviation of 1.5. Estimate the population mean with a 99% confidence interval."
   ]
  },
  {
   "cell_type": "markdown",
   "metadata": {
    "id": "9x0gLITPsAPL"
   },
   "source": [
    "* To estimate the population mean with a 99% confidence interval, we can use the following formula:\n",
    "  > CI = X̄ ± z*(σ/√n)\n",
    "* Where:\n",
    "  > X̄ = sample mean (4)\n",
    "z = z-score corresponding to the confidence level (99%)<br>\n",
    "σ = population standard deviation (1.5)<br>\n",
    "n = sample size (50)<br>\n",
    "* To find the z-score, we can use a standard normal distribution table. For a 99% confidence level, the z-score is\n",
    "  > z-score = 2.576.\n",
    "* Plugging in the values, we get:\n",
    "  > CI = 4 ± 2.576*(1.5/√50)\n",
    "  > CI = 4 ± 0.665\n",
    "\n",
    "* Therefore, the 99% confidence interval for the population mean of the number of ads watched by viewers during a TV program is (3.335, 4.665). We are 99% confident that the true population mean falls within this interval."
   ]
  },
  {
   "cell_type": "code",
   "execution_count": null,
   "metadata": {},
   "outputs": [],
   "source": []
  },
  {
   "cell_type": "code",
   "execution_count": null,
   "metadata": {},
   "outputs": [],
   "source": []
  }
 ],
 "metadata": {
  "colab": {
   "provenance": []
  },
  "kernelspec": {
   "display_name": "Python 3 (ipykernel)",
   "language": "python",
   "name": "python3"
  },
  "language_info": {
   "codemirror_mode": {
    "name": "ipython",
    "version": 3
   },
   "file_extension": ".py",
   "mimetype": "text/x-python",
   "name": "python",
   "nbconvert_exporter": "python",
   "pygments_lexer": "ipython3",
   "version": "3.10.8"
  }
 },
 "nbformat": 4,
 "nbformat_minor": 4
}
