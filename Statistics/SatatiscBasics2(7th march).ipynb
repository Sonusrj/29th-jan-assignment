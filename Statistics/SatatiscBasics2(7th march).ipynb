{
 "cells": [
  {
   "cell_type": "markdown",
   "id": "1c364d1d-75cd-4608-90a9-4e1d7dce29f3",
   "metadata": {},
   "source": [
    "### Q1. What are the three measures of central tendency?"
   ]
  },
  {
   "cell_type": "markdown",
   "id": "fe06dc6a-fbfc-4f28-8f91-a4f96462a482",
   "metadata": {},
   "source": [
    "The central tendency is stated as the statistical measure that represents the single value of the entire distribution or a dataset. It aims to provide an accurate description of the entire data in the distribution.\n",
    "Measures of Central Tendency\n",
    "The central tendency of the dataset can be found out using the three important measures namely mean, median and mode.\n",
    "1. `Mean`\n",
    "The mean represents the average value of the dataset. It can be calculated as the sum of all the values in the dataset divided by the number of values.\n",
    "\n",
    "2. `Median`\n",
    "Median is the middle value of the dataset in which the dataset is arranged in the ascending order or in descending order. When the dataset contains an even number of values, then the median value of the dataset can be found by taking the mean of the middle two values.\n",
    "\n",
    "3. `Mode`\n",
    "The mode represents the frequently occurring value in the dataset. Sometimes the dataset may contain multiple modes and in some cases, it does not contain any mode at all."
   ]
  },
  {
   "cell_type": "markdown",
   "id": "d1de71cc-f18d-4b94-8f62-acb1a89a1824",
   "metadata": {},
   "source": [
    "<h3>Q2. What is the difference between the mean, median, and mode? How are they used to measure the central tendency of a dataset?"
   ]
  },
  {
   "cell_type": "markdown",
   "id": "ea0eb39e-7c48-489e-9b21-6d0d7c747460",
   "metadata": {
    "tags": []
   },
   "source": [
    "Mean, median, and mode are all measures of central tendency used to describe the typical or central value in a dataset.\n",
    "##### Difference:\n",
    "\n",
    "`Mean`:\n",
    "1. The mean is the average of a set of numbers.\n",
    "2. To calculate the mean, add up all the numbers and divide by the total count.\n",
    "3. It is sensitive to extreme values or outliers in the data.\n",
    "4. Useful when the data is normally distributed or when a precise average is needed.\n",
    "\n",
    "`Median`:\n",
    "1. The median is the middle value in a dataset when arranged in order.\n",
    "2. If there's an odd number of values, the median is the middle number.\n",
    "3. If there's an even number of values, the median is the average of the two middle numbers.\n",
    "4. It is not affected by extreme values or outliers.\n",
    "5. Helpful when the data is skewed or when extreme values are present.\n",
    "\n",
    "`Mode`:\n",
    "1. The mode is the value or values that appear most frequently in a dataset.\n",
    "2. It represents the most common observation or category.\n",
    "3. It can be used for both numerical and categorical data.\n",
    "4. A dataset can have one mode (unimodal), multiple modes (multimodal), or no mode.\n",
    "5. Useful for identifying the most frequently occurring value or category.\n",
    "\n"
   ]
  },
  {
   "cell_type": "markdown",
   "id": "2dba2d09-035c-4be2-ada2-759c37580191",
   "metadata": {},
   "source": [
    "<h3>Q3. Measure the three measures of central tendency for the given height data:\n",
    "[178,177,176,177,178.2,178,175,179,180,175,178.9,176.2,177,172.5,178,176.5]"
   ]
  },
  {
   "cell_type": "code",
   "execution_count": 7,
   "id": "e7a3b844-6884-4665-a257-63871fbda324",
   "metadata": {},
   "outputs": [
    {
     "name": "stdout",
     "output_type": "stream",
     "text": [
      "Mean: 177.01875\n",
      "Median: 177.0\n",
      "Mode: 178\n"
     ]
    }
   ],
   "source": [
    "#measures of central tendency\n",
    "import statistics as st\n",
    "height = [178,177,176,177,178.2,178,175,179,180,175,178.9,176.2,177,172.5,178,176.5]\n",
    "\n",
    "mean= st.mean(height)\n",
    "median= st.median(height)\n",
    "mode= st.mode(height)\n",
    "\n",
    "print('Mean:',mean)\n",
    "print('Median:',median)\n",
    "print('Mode:',mode)"
   ]
  },
  {
   "cell_type": "markdown",
   "id": "90d33171-a872-499c-9856-0463f42e6a3a",
   "metadata": {},
   "source": [
    "<h3>Q4. Find the standard deviation for the given data:\n",
    "[178,177,176,177,178.2,178,175,179,180,175,178.9,176.2,177,172.5,178,176.5]"
   ]
  },
  {
   "cell_type": "code",
   "execution_count": 11,
   "id": "98796671-cb89-4fe5-843a-2751fc77b3b2",
   "metadata": {},
   "outputs": [
    {
     "name": "stdout",
     "output_type": "stream",
     "text": [
      "Standard Deviation: 1.8472389305844188\n"
     ]
    }
   ],
   "source": [
    "#standard deviation \n",
    "std = st.stdev(height)\n",
    "print(\"Standard Deviation:\",std)"
   ]
  },
  {
   "cell_type": "markdown",
   "id": "1765c31f-f196-4ed0-885b-533b6651191e",
   "metadata": {},
   "source": [
    "<h3>Q5. How are measures of dispersion such as range, variance, and standard deviation used to describe the spread of a dataset? Provide an example."
   ]
  },
  {
   "cell_type": "markdown",
   "id": "b1655eea-f80a-431f-a3c1-12034249ad6c",
   "metadata": {},
   "source": [
    "Measures of dispersion, such as range, variance, and standard deviation, provide information about the spread or variability of a dataset.\n",
    "`Range`:\n",
    "1. The range is the difference between the maximum and minimum values in a dataset.\n",
    "2. It provides a basic measure of the total extent or spread of the data.\n",
    "3. A larger range indicates a wider spread, while a smaller range suggests a narrower spread.\n",
    "4. However, the range only considers the extreme values and doesn't account for the distribution of values in between.\n",
    "\n",
    "Example: Consider a dataset of exam scores: [70, 75, 80, 85, 90]. The range is calculated as 90 - 70 = 20, indicating a spread of 20 points between the highest and lowest scores.\n",
    "\n",
    "`Variance`:\n",
    "1. Variance measures the average squared deviation of each data point from the mean.\n",
    "2. It takes into account all the data points and provides a more comprehensive measure of dispersion.\n",
    "3. A higher variance suggests a greater spread or variability in the dataset.\n",
    "4. A lower variance indicates a more concentrated or less dispersed dataset.\n",
    "\n",
    "Example: Using the same exam scores dataset, the variance can be calculated. Assuming it represents the entire population, the population variance formula is used. After calculations, the variance is found to be 62.5.\n",
    "\n",
    "`Standard Deviation`:\n",
    "1. The standard deviation is the square root of the variance.\n",
    "2. It represents the average distance of each data point from the mean.\n",
    "3. Like variance, a higher standard deviation suggests a greater spread or variability.\n",
    "4. A lower standard deviation suggests a more concentrated or less dispersed dataset.\n",
    "5. It is often preferred over variance as it is in the same unit as the original data.\n",
    "\n",
    "Example: Using the same exam scores dataset, the standard deviation can be calculated. Taking the square root of the variance (62.5), we find that the standard deviation is approximately 7.91.\n"
   ]
  },
  {
   "cell_type": "markdown",
   "id": "db110c20-7325-4d61-a01a-ecc6a3103049",
   "metadata": {},
   "source": [
    "<h3>Q6. What is a Venn diagram?"
   ]
  },
  {
   "cell_type": "markdown",
   "id": "5c57f4be-f6dc-4911-85e2-e9f84882ef1a",
   "metadata": {},
   "source": [
    "A `Venn diagram` is a visual representation that uses circles or shapes to show the relationships and similarities between different sets or groups.\n",
    "* The overlapping regions indicate shared elements, while the non-overlapping parts represent unique elements. \n",
    "* Venn diagrams help in understanding and comparing sets by providing a visual and intuitive representation of the relationships between them."
   ]
  },
  {
   "cell_type": "markdown",
   "id": "f0aa2eaf-b612-42d6-b163-fb7ef85d0594",
   "metadata": {},
   "source": [
    "<h3>Q7. For the two given sets A = (2,3,4,5,6,7) & B = (0,2,6,8,10). Find:\n",
    "(i) A ∩ B\n",
    "(ii) A ⋃ B"
   ]
  },
  {
   "cell_type": "markdown",
   "id": "90d2d122-16c3-447e-a792-9d36e1e90cbd",
   "metadata": {},
   "source": [
    "(i) A ∩ B (Intersection of A and B):\n",
    "\n",
    "- The intersection of sets A and B includes the elements that are common to both sets.\n",
    "\n",
    "A ∩ B = {2, 6}\n",
    "\n",
    "(ii) A ⋃ B (Union of A and B):\n",
    "- The union of sets A and B includes all the unique elements from both sets, without repetition.\n",
    "\n",
    "A ⋃ B = {0, 2, 3, 4, 5, 6, 7, 8, 10}\n"
   ]
  },
  {
   "cell_type": "markdown",
   "id": "c94d7cbc-bc3f-4a85-91d2-547a7e2ff327",
   "metadata": {},
   "source": [
    "<h3>Q8. What do you understand about skewness in data?"
   ]
  },
  {
   "cell_type": "markdown",
   "id": "6eb3f765-75d6-46b3-9d08-a7dff5a43897",
   "metadata": {},
   "source": [
    "- Skewness in data refers to the extent of asymmetry in the distribution of values.\n",
    "- Positive skewness means a longer tail on the right, negative skewness means a longer tail on the left, and zero skewness suggests a symmetrical distribution. \n",
    "- Skewness helps understand the shape of the data and its impact on measures like mean and median."
   ]
  },
  {
   "cell_type": "markdown",
   "id": "043cd4de-3179-478f-bfaa-04e1b8bbcd94",
   "metadata": {},
   "source": [
    "<h3>Q9. If a data is right skewed then what will be the position of median with respect to mean?"
   ]
  },
  {
   "cell_type": "markdown",
   "id": "0e66e7af-d1ff-442a-bc0d-3765a9a45f60",
   "metadata": {},
   "source": [
    "If a dataset is right-skewed, the position of the median with respect to the mean will be to the left of the mean.\n",
    "\n",
    "In a right-skewed distribution:\n",
    "- The tail of the distribution is elongated towards the right, indicating a greater number of smaller values.\n",
    "- The mean is influenced by the presence of extreme values in the right tail.\n",
    "- The median represents the middle value of the dataset when arranged in ascending or descending order.\n",
    "- Since the right tail contains the extreme values that pull the mean to the right, the median will be positioned to the left of the mean.\n",
    "- The median is less affected by extreme values and is a better measure of the central tendency in skewed distributions.\n"
   ]
  },
  {
   "cell_type": "markdown",
   "id": "df9fd7d1-0dd9-4995-9106-a3c800242f4b",
   "metadata": {},
   "source": [
    "<h3>Q10. Explain the difference between covariance and correlation. How are these measures used in statistical analysis?"
   ]
  },
  {
   "cell_type": "markdown",
   "id": "9567c431-7be5-4d33-9870-002401f1f643",
   "metadata": {},
   "source": [
    "`Covariance`:\n",
    "1. Measures how two variables vary together.\n",
    "\n",
    "\n",
    "`Correlation`:\n",
    "1. Measures the strength and direction of the linear relationship between variables.\n",
    "2. Standardized measure ranging between `-1 and +1.`\n",
    "\n",
    "`In statistical analysis`:\n",
    "\n",
    "- Covariance is used to understand the directional relationship between two variables.\n",
    "- Positive covariance indicates that the variables tend to increase or decrease together.\n",
    "- while negative covariance suggests that they move in opposite directions.\n",
    "- Correlation, on the other hand, is used to measure the strength and nature (positive or negative) of the linear relationship between variables.\n"
   ]
  },
  {
   "cell_type": "markdown",
   "id": "cce61aa0-1a79-4f71-9d12-9d52d582bcbd",
   "metadata": {},
   "source": [
    "<h3>Q11. What is the formula for calculating the sample mean? Provide an example calculation for adataset."
   ]
  },
  {
   "attachments": {
    "b9c3b850-9a50-460a-b077-48c95620d10e.png": {
     "image/png": "[encoded data removed]"
    }
   },
   "cell_type": "markdown",
   "id": "bfb4ba82-7596-4af1-9896-1850b5db8d8e",
   "metadata": {},
   "source": [
    "#### Formula:\n",
    "![population-mean.png](attachment:b9c3b850-9a50-460a-b077-48c95620d10e.png)"
   ]
  },
  {
   "cell_type": "markdown",
   "id": "6901ea2d-aa47-4381-97ec-d6843ab66a44",
   "metadata": {},
   "source": [
    "Example calculation:\n",
    "Consider the following dataset of exam scores: [85, 90, 92, 88, 94].\n",
    "\n",
    "To calculate the sample mean:\n",
    "Sum of all values = 85 + 90 + 92 + 88 + 94 = 449\n",
    "Total number of values = 5\n",
    "\n",
    "Sample Mean (x̄) = 449 / 5 = 89.8\n",
    "\n",
    "Therefore, the sample mean of the dataset is 89.8.\n",
    "\n",
    "\n",
    "\n",
    "\n"
   ]
  },
  {
   "cell_type": "markdown",
   "id": "83bfd2ea-70c1-4c89-9e42-c4ea84957be2",
   "metadata": {},
   "source": [
    "<h3>Q12. For a normal distribution data what is the relationship between its measure of central tendency?"
   ]
  },
  {
   "cell_type": "markdown",
   "id": "bba7e4b9-39c7-4513-9903-acfbb72f4739",
   "metadata": {},
   "source": [
    "For a normal distribution, the mean, median, and mode are all equal and located at the center of the distribution. This indicates a balanced and symmetrical distribution of data.\n",
    "\n",
    "1. Mean: In a normal distribution, the mean is located at the center of the distribution.\n",
    "\n",
    "2. Median: The median in a normal distribution is also located at the center. \n",
    "\n",
    "3. Mode: In a normal distribution, the mode is equal to the mean and the median."
   ]
  },
  {
   "cell_type": "markdown",
   "id": "12e99206-fb3a-44c6-9018-d2e5dcc3f0e8",
   "metadata": {},
   "source": [
    "<h3>Q13. How is covariance different from correlation?"
   ]
  },
  {
   "cell_type": "markdown",
   "id": "8fad3ab2-08e9-415d-9d15-2830fbd6db65",
   "metadata": {},
   "source": [
    "\n",
    "`Covariance`:\n",
    "- Measures the extent to which two variables vary together.\n",
    "- Provides information about the direction and strength of the linear relationship.\n",
    "- Magnitude depends on the scales of the variables.\n",
    "- Can take any value, positive, negative, or zero.\n",
    "- Not standardized and affected by units of measurement.\n",
    "\n",
    "`Correlation`:\n",
    "- Measures the strength and direction of the linear relationship.\n",
    "- Standardized measure ranging between -1 and +1.\n",
    "- Allows for easier interpretation and comparison.\n",
    "- The correlation coefficient of +1 indicates a perfect positive linear relationship, -1 indicates a perfect negative linear relationship, and 0 indicates no linear relationship.\n",
    "- Unaffected by units of measurement.\n"
   ]
  },
  {
   "cell_type": "markdown",
   "id": "bba28577-a800-497d-bc47-8aada6fa7254",
   "metadata": {},
   "source": [
    "<h3>Q14. How do outliers affect measures of central tendency and dispersion? Provide an example."
   ]
  },
  {
   "cell_type": "markdown",
   "id": "799afaa5-6021-48b9-98df-e1cf0f8276c7",
   "metadata": {},
   "source": [
    "- `Outlier`s can distort the mean while the median and mode are less affected.\n",
    "- Outliers also influence measures of dispersion, increasing the range, variance, and standard deviation. \n",
    "\n",
    "Example: Consider a dataset of exam scores: [85, 90, 92, 88, 94, 1000].\n",
    "\n",
    "Measures of Central Tendency:\n",
    "- Mean: Including the outlier value of 1000, the mean would be significantly distorted, becoming 366.5, which does not represent the majority of the data well.\n",
    "- Median: The median, which represents the middle value, would remain unaffected by the outlier and still be 90.\n",
    "- Mode: The mode, representing the most frequent value, would also remain the same and be unaffected by the outlier.\n",
    "\n",
    "Measures of Dispersion:\n",
    "- Range: Including the outlier, the range would become 1000 - 85 = 915, which is much larger than the range without the outlier (94 - 85 = 9).\n",
    "- Variance and Standard Deviation: The presence of the outlier would significantly increase both the variance and standard deviation, as it introduces large deviations from the mean."
   ]
  }
 ],
 "metadata": {
  "kernelspec": {
   "display_name": "Python 3 (ipykernel)",
   "language": "python",
   "name": "python3"
  },
  "language_info": {
   "codemirror_mode": {
    "name": "ipython",
    "version": 3
   },
   "file_extension": ".py",
   "mimetype": "text/x-python",
   "name": "python",
   "nbconvert_exporter": "python",
   "pygments_lexer": "ipython3",
   "version": "3.10.8"
  }
 },
 "nbformat": 4,
 "nbformat_minor": 5
}
