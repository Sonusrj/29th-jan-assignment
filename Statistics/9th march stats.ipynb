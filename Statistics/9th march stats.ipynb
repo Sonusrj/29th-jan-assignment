{
 "cells": [
  {
   "cell_type": "markdown",
   "id": "3febc5c8-8934-42df-9045-ae5b7b66d985",
   "metadata": {},
   "source": [
    "#### Q1: What are the Probability Mass Function (PMF) and Probability Density Function (PDF)? Explain with an example."
   ]
  },
  {
   "cell_type": "markdown",
   "id": "b324ad08-5a2e-4ab1-bb2a-bad5a9aee2e1",
   "metadata": {},
   "source": [
    "1. Probability Mass Function (PMF):\n",
    "\n",
    "PMF is used to describe the probability distribution of a discrete random variable. It gives the probability of each possible outcome or value that the random variable can take.\n",
    "The PMF is defined for discrete random variables and is represented as a function that maps each possible value of the random variable to its associated probability.\n",
    "\n",
    "- Example: Consider the roll of a fair six-sided die. The possible values that the die can take are 1, 2, 3, 4, 5, and 6, each with a probability of 1/6. The PMF of the random variable X, which represents the number on the top face of the die, is:\n",
    "\n",
    "PMF(1) = 1/6, PMF(2) = 1/6, PMF(3) = 1/6, PMF(4) = 1/6, PMF(5) = 1/6, PMF(6) = 1/6\n",
    "\n",
    "2. Probability Density Function (PDF):\n",
    "\n",
    "PDF is used to describe the probability distribution of a continuous random variable. Instead of providing probabilities for individual values, it gives the probability density over a range of values.\n",
    "\n",
    "- Example: Consider a normal distribution with a mean of 0 and a standard deviation of 1. The PDF of the random variable X, which represents the values that X can take, is:\n",
    "PDF(x) = 1/(sqrt(2pi)) exp(-(x^2)/2)"
   ]
  },
  {
   "cell_type": "markdown",
   "id": "b598a960-af99-4056-8e5e-3fe5e3bab026",
   "metadata": {},
   "source": [
    "#### Q2: What is Cumulative Density Function (CDF)? Explain with an example. Why CDF is used?"
   ]
  },
  {
   "cell_type": "markdown",
   "id": "5de251d8-85b8-4244-92a0-52b201818a7e",
   "metadata": {},
   "source": [
    "\n",
    "The Cumulative Distribution Function (CDF) is a fundamental concept in probability and statistics. It describes the cumulative probability of a random variable taking on a value less than or equal to a given value. In other words, it provides the probability that a random variable is less than or equal to a specific value.\n",
    "\n",
    "The CDF is often denoted by F(x) for a random variable X and is defined as:\n",
    "\n",
    "F(x) = P(X ≤ x)\n",
    "\n",
    "Here, F(x) represents the cumulative probability that X is less than or equal to x.\n",
    "- For example, let's consider a random variable X that follows a uniform distribution between 0 and 1. The PDF of X is a constant value of 1 between 0 and 1 and 0 elsewhere. The CDF of X is obtained by integrating the PDF of X:\n",
    "\n",
    "F(x) = ∫(0 to x) 1 dx = x, for 0<=x<=1\n",
    "\n",
    "For x<0, F(x) = 0, and for x>1, F(x) = 1."
   ]
  },
  {
   "cell_type": "markdown",
   "id": "24c0501a-1f3b-4426-9048-7dbcfa044d64",
   "metadata": {},
   "source": [
    "#### Q3: What are some examples of situations where the normal distribution might be used as a model?Explain how the parameters of the normal distribution relate to the shape of the distribution."
   ]
  },
  {
   "cell_type": "markdown",
   "id": "eadd61ab-cb52-4add-ac8d-0133a66016c0",
   "metadata": {},
   "source": [
    "The normal distribution is a probability distribution that is commonly used to model continuous random variables that have a symmetrical bell-shaped distribution. Here are some examples of situations where the normal distribution might be used as a model:\n",
    "Height of people: The height of people in a population is a continuous variable that often follows a normal distribution.\n",
    "\n",
    "Test scores: The scores on standardized tests such as the SAT or GRE often follow a normal distribution.\n",
    "\n",
    "Errors in measurements: Errors in measurements often follow a normal distribution, which is why the normal distribution is commonly used in statistical process control.\n",
    "\n",
    "The normal distribution is characterized by two parameters: mean (μ) and standard deviation (σ). The mean is the central point of the distribution and represents the expected value of the variable.\n",
    "\n",
    "The mean μ determines the center of the distribution, while the standard deviation σ determines the width of the distribution. A smaller standard deviation indicates a narrow distribution, while a larger standard deviation indicates a wider distribution. The shape of the normal distribution is symmetrical around the mean, with 68% of the data falling within one standard deviation of the mean, 95% falling within two standard deviations, and 99.7% falling within three standard deviations"
   ]
  },
  {
   "cell_type": "markdown",
   "id": "4dd4794a-2580-43df-8b68-d893cf65334a",
   "metadata": {},
   "source": [
    "<h4> Q4: Explain the importance of Normal Distribution. Give a few real-life examples of NormalDistribution."
   ]
  },
  {
   "cell_type": "markdown",
   "id": "6bed246c-f7b5-43cd-bb6d-091eb32358ba",
   "metadata": {},
   "source": [
    "The importance of the normal distribution can be explained as follows:\n",
    "Many natural phenomena follow a normal distribution: The normal distribution is observed in many natural phenomena, such as the heights and weights of a population, the measurement errors in laboratory experiments, the test scores of students, the time taken to complete a task, and many more.\n",
    "\n",
    "Statistical inference: The normal distribution is used extensively in statistical inference, which involves drawing conclusions about a population based on a sample of data. Many statistical tests, such as the t-test and ANOVA, assume that the data follow a normal distribution.\n",
    "\n",
    "Central limit theorem: The central limit theorem states that the sum of a large number of independent and identically distributed random variables will tend to a normal distribution, regardless of the distribution of the individual variables. This property makes the normal distribution a fundamental concept in probability theory and statistics.\n",
    "\n",
    "Some real-life examples of the normal distribution are:\n",
    "\n",
    "- Heights of adults: The heights of adults in a population follow a normal distribution, with a mean of around 5 feet 7 inches and a standard deviation of around 3 inches.\n",
    "\n",
    "- *Test scores: The scores on a standardized test, such as the SAT or GRE, follow a normal distribution, with a mean of around 500-600 and a standard deviation of around 100-200.\n",
    "\n",
    "- Body temperature: The body temperature of a healthy human follows a normal distribution, with a mean of around 98.6 degrees Fahrenheit and a standard deviation of around 0.5 degrees.\n",
    "\n",
    "-  IQ scores: The IQ scores of a population follow a normal distribution, with a mean of 100 and a standard deviation of 15.\n",
    "\n",
    "- Stock market returns: The daily returns on the stock market follow a normal distribution, with a mean of around 0 and a standard deviation of around 1-2%"
   ]
  },
  {
   "cell_type": "markdown",
   "id": "21af3e9c-8876-463f-aad5-6e025a9f8db6",
   "metadata": {},
   "source": [
    "<h4>Q5: What is Bernaulli Distribution? Give an Example. What is the difference between BernoulliDistribution and Binomial Distribution?"
   ]
  },
  {
   "cell_type": "markdown",
   "id": "22130a60-84c2-42ad-9ce1-63f5a518d1f4",
   "metadata": {},
   "source": [
    "- The Bernoulli distribution is a discrete probability distribution that models the outcome of a single binary event. It takes a single parameter p, which represents the probability of success for the event, and outputs a probability distribution for the event's outcomes.\n",
    "\n",
    "- Example: Consider flipping a fair coin. The Bernoulli distribution models this as a binary event where the outcome is either heads or tails. If we define \"success\" as getting heads, then the probability of success is 0.5, and the probability of failure (getting tails) is also 0.5. The Bernoulli distribution would output a probability distribution where the probability of success is 0.5 and the probability of failure is 0.5.\n",
    "\n",
    "- The key difference between the Bernoulli distribution and the binomial distribution is that the Bernoulli distribution models the outcome of a single event, while the binomial distribution models the number of successes in a fixed number of independent and identical Bernoulli trials. In other words, the binomial distribution is the sum of multiple independent Bernoulli random variables."
   ]
  },
  {
   "cell_type": "markdown",
   "id": "30729a93-950d-451d-9b69-ab77b207d81c",
   "metadata": {},
   "source": [
    "<h4>Q6. Consider a dataset with a mean of 50 and a standard deviation of 10. If we assume that the datasetis normally distributed, what is the probability that a randomly selected observation will be greaterthan 60? Use the appropriate formula and show your calculations."
   ]
  },
  {
   "cell_type": "markdown",
   "id": "9c2e31a4-4619-475f-8ed8-09c1bf255cb9",
   "metadata": {},
   "source": [
    "- Given, Mean (μ) = 50, Standard Deviation (σ) = 10, and we want to find the probability of a randomly selected observation being greater than 60.\n",
    "\n",
    "We can use the standard normal distribution formula to calculate this probability:\n",
    "\n",
    "z = (x - μ) / σ\n",
    "\n",
    "where x is the value we want to find the probability for, μ is the mean, and σ is the standard deviation.\n",
    "\n",
    "Substituting the values in the formula, we get:\n",
    "\n",
    "z = (60 - 50) / 10 = 1\n",
    "\n",
    "We can now use a standard normal distribution table or calculator to find the probability that z is greater than 1.\n",
    "\n",
    "Using a standard normal distribution table, we find that the probability of z being greater than 1 is 0.1587.\n",
    "\n",
    "Therefore, the probability that a randomly selected observation from this dataset is greater than 60 is 0.1587 or 15.87%."
   ]
  },
  {
   "cell_type": "markdown",
   "id": "8ffdbc51-a717-42bc-9f9e-aee0582400d9",
   "metadata": {},
   "source": [
    "<h4>Q7: Explain uniform Distribution with an example."
   ]
  },
  {
   "cell_type": "markdown",
   "id": "31046439-3b4a-452c-b05c-f707ad7bdc94",
   "metadata": {},
   "source": [
    "- The uniform distribution is a probability distribution that is characterized by a constant probability over a finite range of values. In a uniform distribution, all values within the specified range are equally likely to occur. It is often denoted as U(a, b), where \"a\" and \"b\" are the lower and upper bounds of the range, respectively\n",
    "\n",
    "- Let's consider an example of a uniform distribution representing the random selection of a number from 1 to 10 (inclusive). In this case, the lower bound \"a\" is 1, and the upper bound \"b\" is 10.\n",
    "\n",
    "The probability density function (PDF) for this uniform distribution, denoted as U(1, 10), is defined as:\n",
    "\n",
    "f(x) = 1 / (b - a) = 1 / (10 - 1) = 1/9 for 1 ≤ x ≤ 10\n",
    "\n",
    "Outside the range [1, 10], the PDF is zero, indicating that values outside this range are impossible.\n",
    "\n",
    "Visually, the PDF of a uniform distribution U(1, 10) would look like a rectangle with a height of 1/9 and a width of 10 - 1 = 9 units, covering the interval from 1 to 10 on the x-axis.\n",
    "\n",
    "Now, suppose you want to calculate the probability of selecting a number between 4 and 7 from this distribution. You can use the PDF to find this probability:\n",
    "\n",
    "P(4 ≤ x ≤ 7) = ∫[4, 7] f(x) dx\n",
    "= ∫[4, 7] (1/9) dx\n",
    "= (1/9) * [x] from 4 to 7\n",
    "= (1/9) * (7 - 4)\n",
    "= (1/9) * 3\n",
    "= 1/3\n",
    "\n",
    "So, the probability of selecting a number between 4 and 7 from this uniform distribution is 1/3."
   ]
  },
  {
   "cell_type": "markdown",
   "id": "4be2ebaf-4712-4f0c-aacd-3af4433bca98",
   "metadata": {},
   "source": [
    "<h4>Q8: What is the z score? State the importance of the z score."
   ]
  },
  {
   "cell_type": "markdown",
   "id": "d60ed19e-9392-42f6-a51a-75eb9a96d31e",
   "metadata": {},
   "source": [
    "Uniform distribution, also known as a rectangular distribution, is a probability distribution where all possible outcomes are equally likely to occur. It is often used in statistics to model situations where each outcome is equally likely to occur, such as rolling a fair die or picking a card from a well-shuffled deck.\n",
    "\n",
    "Example:\n",
    "\n",
    "Rolling a fair six-sided die: When rolling the die, each face has an equal probability of showing up, which is 1/6 or approximately 0.1667. This means that any number between 1 and 6 is equally likely to be rolled, and the probability of rolling any particular number is 1/6."
   ]
  },
  {
   "cell_type": "markdown",
   "id": "bc9e15a7-a758-4ab9-b909-fd376ebd3f1a",
   "metadata": {},
   "source": [
    "<h4>Q9: What is Central Limit Theorem? State the significance of the Central Limit Theorem."
   ]
  },
  {
   "cell_type": "markdown",
   "id": "9fdfead4-7f23-4288-93b0-c8248f67f53a",
   "metadata": {},
   "source": [
    "The Central Limit Theorem (CLT) is a fundamental concept in probability theory and statistics that states that the distribution of the sum or the average of a large number of independent and identically distributed random variables tends to follow a normal distribution as the sample size increases.\n",
    "\n",
    "In other words, the CLT states that if we take multiple random samples of a fixed size from a population with any distribution and calculate the mean or sum of each sample, then the distribution of these means or sums will approach a normal distribution as the sample size increases.\n",
    "\n",
    "The significance of the CLT is that it allows us to make statistical inferences about population parameters based on samples. Specifically, it provides a way to estimate the population mean and standard deviation from a sample mean and standard deviation, respectively. Additionally, it allows us to construct confidence intervals and conduct hypothesis tests."
   ]
  },
  {
   "cell_type": "markdown",
   "id": "5ded9250-d13d-44f7-ac34-78b75f0a8014",
   "metadata": {},
   "source": [
    "#### Q10: State the assumptions of the Central Limit Theorem."
   ]
  },
  {
   "cell_type": "markdown",
   "id": "28ae2154-5fe5-40bb-a0b2-c2b11ae6c5ce",
   "metadata": {},
   "source": [
    "The assumptions of the Central Limit Theorem are:\n",
    "\n",
    "1. Independence: The observations in the sample are independent of each other, meaning that the outcome of one observation does not influence the outcome of another observation.\n",
    "2. Sample size: The sample size is sufficiently large. The larger the sample size, the better the approximation to the normal distribution.\n",
    "3. Identically distributed: The sample data comes from a population that has a  well-defined mean and variance : The observations in the sample are identically distributed, meaning that they come from the same population.\n",
    "4. Finite variance: The population has a finite variance. This assumption ensures that the sample variance is also finite.\n",
    "5. Non-skewed population distribution: The population distribution is not strongly skewed. A strongly skewed population distribution can affect the validity of the Central Limit Theorem, and a larger sample size may be required to approximate a normal distribution."
   ]
  },
  {
   "cell_type": "code",
   "execution_count": null,
   "id": "98ba52f3-f5bb-463d-8650-a2426d89f412",
   "metadata": {},
   "outputs": [],
   "source": []
  }
 ],
 "metadata": {
  "kernelspec": {
   "display_name": "Python 3 (ipykernel)",
   "language": "python",
   "name": "python3"
  },
  "language_info": {
   "codemirror_mode": {
    "name": "ipython",
    "version": 3
   },
   "file_extension": ".py",
   "mimetype": "text/x-python",
   "name": "python",
   "nbconvert_exporter": "python",
   "pygments_lexer": "ipython3",
   "version": "3.10.8"
  }
 },
 "nbformat": 4,
 "nbformat_minor": 5
}
