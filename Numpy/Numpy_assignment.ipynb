{
 "cells": [
  {
   "cell_type": "markdown",
   "id": "4e9b3824-e30a-4b47-8339-5627f268b810",
   "metadata": {},
   "source": [
    "* <h3>Consider the below code to answer further questions:"
   ]
  },
  {
   "cell_type": "code",
   "execution_count": 5,
   "id": "918cc9a5-8ca7-4b4d-b449-f7e9cfeff176",
   "metadata": {},
   "outputs": [
    {
     "data": {
      "text/plain": [
       "array(['1', '2', '3', '4', '5'], dtype='<U1')"
      ]
     },
     "execution_count": 5,
     "metadata": {},
     "output_type": "execute_result"
    }
   ],
   "source": [
    "import numpy as np\n",
    "\n",
    "list_ = [ '1' , '2' , '3' , '4' , '5' ]\n",
    "\n",
    "array_list = np.array(object = list_)\n",
    "array_list"
   ]
  },
  {
   "cell_type": "markdown",
   "id": "ee62f0c4-f99f-4d33-840d-bcae85e3d894",
   "metadata": {},
   "source": [
    "<h3>Q1. Is there any difference in the data type of variables list_ and array_list? If there is then write a code \n",
    "to print the data types of both the variables"
   ]
  },
  {
   "cell_type": "markdown",
   "id": "98278ce4-2f40-4985-9054-84a59516d95d",
   "metadata": {},
   "source": [
    "Yes, there is a difference in the data types of the list_ variable and the array_list variable.\n",
    "\n",
    "The list_ variable is a Python list object, while the array_list variable is a NumPy array object. The elements of list_ are of type string, while the elements of array_list are of type numpy.str_ ."
   ]
  },
  {
   "cell_type": "code",
   "execution_count": 12,
   "id": "8051906f-a165-4ea2-9b4f-11fa16464d9a",
   "metadata": {},
   "outputs": [
    {
     "name": "stdout",
     "output_type": "stream",
     "text": [
      "the type of list is:  <class 'list'>\n",
      "the type of array_list is:  <class 'numpy.ndarray'>\n"
     ]
    }
   ],
   "source": [
    "print(\"the type of list is: \", type(list_))\n",
    "print(\"the type of array_list is: \", type(array_list))"
   ]
  },
  {
   "cell_type": "markdown",
   "id": "c6c4f85b-a9db-4e50-88d3-01336e575375",
   "metadata": {},
   "source": [
    "<h3>Q2. Write a code to print the data type of each and every element of both the variables list_ and \n",
    "arra_list"
   ]
  },
  {
   "cell_type": "code",
   "execution_count": 28,
   "id": "77a00eaa-9ca2-4b91-8ab4-559f4ebbe1ce",
   "metadata": {},
   "outputs": [
    {
     "name": "stdout",
     "output_type": "stream",
     "text": [
      "Type of elements in list_  is:\n",
      "\n",
      "<class 'str'>\n",
      "<class 'str'>\n",
      "<class 'str'>\n",
      "<class 'str'>\n",
      "<class 'str'>\n",
      "\n",
      "Type of elements in array_list is:\n",
      "\n",
      "<class 'numpy.str_'>\n",
      "<class 'numpy.str_'>\n",
      "<class 'numpy.str_'>\n",
      "<class 'numpy.str_'>\n",
      "<class 'numpy.str_'>\n"
     ]
    }
   ],
   "source": [
    "print(\"Type of elements in list_  is:\\n\")    \n",
    "for i in list_:\n",
    "    print(type(i))\n",
    "print(\"\\nType of elements in array_list is:\\n\")    \n",
    "for j in array_list:\n",
    "    print(type(j))"
   ]
  },
  {
   "cell_type": "markdown",
   "id": "40f30605-80ac-4e0c-9ac9-99e7680cf1a4",
   "metadata": {},
   "source": [
    "<h3>Q3. Considering the following changes in the variable, array_list:"
   ]
  },
  {
   "cell_type": "code",
   "execution_count": 33,
   "id": "33053342-aaa3-44c9-b45c-4e19ebdfce6d",
   "metadata": {},
   "outputs": [],
   "source": [
    "array_list = np.array(object = list_, dtype = int)"
   ]
  },
  {
   "cell_type": "markdown",
   "id": "bbe7cafe-d792-426e-937c-e2683a4cda0d",
   "metadata": {},
   "source": [
    "<h3>Will there be any difference in the data type of the elements present in both the variables, list_ and \n",
    "arra_list? If so then print the data types of each and every element present in both the variables, list_ \n",
    "and arra_list."
   ]
  },
  {
   "cell_type": "markdown",
   "id": "6c1c60fe-17ee-4a17-a10f-a0f58389a405",
   "metadata": {},
   "source": [
    "Yes,there will difference in the data type of the array_list only , list_ valriable will remain same, because we created the `array_list` by assigning array_list = np.array(object = list_, dtype = int), here we specified the data type as `int` , meaning that the elements of array_list will be of int type "
   ]
  },
  {
   "cell_type": "code",
   "execution_count": 34,
   "id": "4ff03e5d-4a5f-48f5-b14d-115624abc561",
   "metadata": {},
   "outputs": [
    {
     "name": "stdout",
     "output_type": "stream",
     "text": [
      "Type of elements in list_  is:\n",
      "\n",
      "<class 'str'>\n",
      "<class 'str'>\n",
      "<class 'str'>\n",
      "<class 'str'>\n",
      "<class 'str'>\n",
      "\n",
      "Type of elements in array_list is:\n",
      "\n",
      "<class 'numpy.int64'>\n",
      "<class 'numpy.int64'>\n",
      "<class 'numpy.int64'>\n",
      "<class 'numpy.int64'>\n",
      "<class 'numpy.int64'>\n"
     ]
    }
   ],
   "source": [
    "print(\"Type of elements in list_  is:\\n\")    \n",
    "for i in list_:\n",
    "    print(type(i))\n",
    "print(\"\\nType of elements in array_list is:\\n\")    \n",
    "for j in array_list:\n",
    "    print(type(j))"
   ]
  },
  {
   "cell_type": "markdown",
   "id": "b831549d-7b7c-4486-a232-ac12289f6078",
   "metadata": {},
   "source": [
    "* <h3>Consider the below code to answer further questions:"
   ]
  },
  {
   "cell_type": "code",
   "execution_count": 35,
   "id": "4cd282bb-0f14-4373-8aeb-5c5997e1e567",
   "metadata": {},
   "outputs": [],
   "source": [
    "import numpy as np\n",
    "\n",
    "num_list = [ [ 1 , 2 , 3 ] , [ 4 , 5 , 6 ] ]\n",
    "\n",
    "num_array = np.array(object = num_list)"
   ]
  },
  {
   "cell_type": "code",
   "execution_count": 36,
   "id": "ff459fb5-fe1c-49ff-9423-d029c210ecee",
   "metadata": {},
   "outputs": [
    {
     "data": {
      "text/plain": [
       "array([[1, 2, 3],\n",
       "       [4, 5, 6]])"
      ]
     },
     "execution_count": 36,
     "metadata": {},
     "output_type": "execute_result"
    }
   ],
   "source": [
    "num_array"
   ]
  },
  {
   "cell_type": "markdown",
   "id": "4f01fb7e-b7b5-486d-bc00-c55a7aaf561c",
   "metadata": {},
   "source": [
    "<h3>Q4. Write a code to find the following characteristics of variable, num_array:\n",
    "\n",
    "(i)\t shape\n",
    "\n",
    "(ii) size"
   ]
  },
  {
   "cell_type": "code",
   "execution_count": 39,
   "id": "ec9a1134-7870-4f50-9751-cac93bf70b18",
   "metadata": {},
   "outputs": [
    {
     "name": "stdout",
     "output_type": "stream",
     "text": [
      "the shape of array is :  (2, 3)\n"
     ]
    }
   ],
   "source": [
    "print(\"The shape of array is : \",num_array.shape)"
   ]
  },
  {
   "cell_type": "code",
   "execution_count": 41,
   "id": "4600c74f-9b22-4ed6-9fa6-7c1879459570",
   "metadata": {},
   "outputs": [
    {
     "name": "stdout",
     "output_type": "stream",
     "text": [
      "The size of array is :  6\n"
     ]
    }
   ],
   "source": [
    "print(\"The size of array is : \",num_array.size)"
   ]
  },
  {
   "cell_type": "markdown",
   "id": "0a1eff48-f598-4596-a8cf-5d48778409fe",
   "metadata": {},
   "source": [
    "<h3>Q5. Write a code to create numpy array of 3*3 matrix containing zeros only, using a numpy array creation function"
   ]
  },
  {
   "cell_type": "code",
   "execution_count": 45,
   "id": "615b5ed1-6de6-4a14-8533-c8b2ca69adcd",
   "metadata": {},
   "outputs": [],
   "source": [
    "arr = np.zeros((3,3))"
   ]
  },
  {
   "cell_type": "code",
   "execution_count": 46,
   "id": "fed28359-7f18-447b-8db6-6a9f144dc172",
   "metadata": {},
   "outputs": [
    {
     "data": {
      "text/plain": [
       "array([[0., 0., 0.],\n",
       "       [0., 0., 0.],\n",
       "       [0., 0., 0.]])"
      ]
     },
     "execution_count": 46,
     "metadata": {},
     "output_type": "execute_result"
    }
   ],
   "source": [
    "arr"
   ]
  },
  {
   "cell_type": "code",
   "execution_count": 51,
   "id": "d13ee98b-f165-4934-9296-109a4fe0eecd",
   "metadata": {},
   "outputs": [
    {
     "name": "stdout",
     "output_type": "stream",
     "text": [
      "shape:  (3, 3)\n",
      "size:  9\n"
     ]
    }
   ],
   "source": [
    "print('shape: ',arr.shape)\n",
    "print('size: ',arr.size)"
   ]
  },
  {
   "cell_type": "markdown",
   "id": "ec2f53cf-a0d3-4351-b639-d5dde9a90451",
   "metadata": {},
   "source": [
    "<h3>Q6. Create an identity matrix of shape (5,5) using numpy functions?"
   ]
  },
  {
   "cell_type": "code",
   "execution_count": 54,
   "id": "ce44c919-7885-4f99-82e9-99016b6ca784",
   "metadata": {},
   "outputs": [
    {
     "data": {
      "text/plain": [
       "array([[1., 0., 0., 0., 0.],\n",
       "       [0., 1., 0., 0., 0.],\n",
       "       [0., 0., 1., 0., 0.],\n",
       "       [0., 0., 0., 1., 0.],\n",
       "       [0., 0., 0., 0., 1.]])"
      ]
     },
     "execution_count": 54,
     "metadata": {},
     "output_type": "execute_result"
    }
   ],
   "source": [
    "np.eye(5,5)"
   ]
  },
  {
   "cell_type": "code",
   "execution_count": null,
   "id": "8a933db5-c2dd-4644-ad53-67544ef7f8d9",
   "metadata": {},
   "outputs": [],
   "source": []
  }
 ],
 "metadata": {
  "kernelspec": {
   "display_name": "Python 3 (ipykernel)",
   "language": "python",
   "name": "python3"
  },
  "language_info": {
   "codemirror_mode": {
    "name": "ipython",
    "version": 3
   },
   "file_extension": ".py",
   "mimetype": "text/x-python",
   "name": "python",
   "nbconvert_exporter": "python",
   "pygments_lexer": "ipython3",
   "version": "3.10.8"
  }
 },
 "nbformat": 4,
 "nbformat_minor": 5
}
