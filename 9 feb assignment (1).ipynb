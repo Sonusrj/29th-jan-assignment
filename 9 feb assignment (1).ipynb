{
 "cells": [
  {
   "cell_type": "markdown",
   "id": "2461361d-d6e9-40b0-aad5-8e006dc7d51b",
   "metadata": {},
   "source": [
    "#### Q1. Create a vehicle class with an init method having instance variables as name_of_vehicle, max_speed and average_of_vehicle."
   ]
  },
  {
   "cell_type": "code",
   "execution_count": 55,
   "id": "2879f1ec-3dfd-4cd8-b8a2-5bda626a50ba",
   "metadata": {},
   "outputs": [
    {
     "name": "stdout",
     "output_type": "stream",
     "text": [
      "Car\n",
      "150\n",
      "8\n"
     ]
    }
   ],
   "source": [
    "class vehicle:\n",
    "    def __init__(self, name_of_vehicle , max_speed, average_of_vehicle):\n",
    "        self.name_of_vehicle = name_of_vehicle\n",
    "        self.max_speed = max_speed\n",
    "        self.average_of_vehicle = average_of_vehicle\n",
    "        \n",
    "car = vehicle(\"Car\", 150, 8)\n",
    "print(car.name_of_vehicle)  \n",
    "print(car.max_speed)        \n",
    "print(car.average_of_vehicle)  \n",
    "\n"
   ]
  },
  {
   "cell_type": "markdown",
   "id": "295ec5c9-5bc8-4ef2-8dd4-d91795b7c5f5",
   "metadata": {},
   "source": [
    "\n",
    "#### Q2. Create a child class car from the vehicle class created in Que 1, which will inherit the vehicle class. Create a method named seating_capacity which takes capacity as an argument and returns the name of the vehicle and its seating capacity."
   ]
  },
  {
   "cell_type": "code",
   "execution_count": 61,
   "id": "37374275-45a4-476e-82f1-fc3a4519a9a8",
   "metadata": {},
   "outputs": [
    {
     "name": "stdout",
     "output_type": "stream",
     "text": [
      "The vehicle Car has a seating capacity of 4.\n"
     ]
    }
   ],
   "source": [
    "class car(vehicle):\n",
    "    def seating_capacity(self, capacity):\n",
    "        return f\"The vehicle {self.name_of_vehicle} has a seating capacity of {capacity}.\"\n",
    "a = car(\"Car\", 150, 8)\n",
    "print(a.seating_capacity(4))"
   ]
  },
  {
   "cell_type": "markdown",
   "id": "44152bfc-bd27-4bf1-86fd-5d36a786252b",
   "metadata": {},
   "source": [
    "#### Q3. What is multiple inheritance? Write a python code to demonstrate multiple inheritance"
   ]
  },
  {
   "cell_type": "markdown",
   "id": "2a41fcbd-320a-457e-891e-e1b3b40a0f72",
   "metadata": {},
   "source": [
    "Multiple inheritance is a feature of object-oriented programming where a class can inherit from multiple parent classes. This allows the child class to inherit attributes and methods from all of its parent classes.\n",
    "\n",
    "example :"
   ]
  },
  {
   "cell_type": "code",
   "execution_count": 68,
   "id": "cf5aedf6-f8c3-4336-8099-b983d87b22af",
   "metadata": {},
   "outputs": [
    {
     "name": "stdout",
     "output_type": "stream",
     "text": [
      "this is class A \n",
      "This is class B\n",
      "this is inherited from class A & B \n"
     ]
    }
   ],
   "source": [
    "class A:\n",
    "    def method_a(self):\n",
    "        print(\"this is class A \")\n",
    "\n",
    "class B:\n",
    "    def method_b(self):\n",
    "        print(\"This is class B\")\n",
    "\n",
    "class C(A, B):\n",
    "    def method_c(self):\n",
    "        print(\"this is inherited from class A & B \")\n",
    "\n",
    "obj = C()\n",
    "\n",
    "obj.method_a()\n",
    "\n",
    "obj.method_b()\n",
    "\n",
    "obj.method_c()\n",
    "\n",
    "#with the help of derived class c we can acces methods of base class A and B\n"
   ]
  },
  {
   "cell_type": "markdown",
   "id": "a1f2290a-6b1f-45f2-b9fb-5f8699d43ce3",
   "metadata": {},
   "source": [
    "#### Q4. What are getter and setter in python? Create a class and create a getter and a setter method in this  class"
   ]
  },
  {
   "cell_type": "markdown",
   "id": "793278a5-0f5e-4228-b0fe-7ed14bdab6d6",
   "metadata": {},
   "source": [
    "Basically, the main purpose of using getters and setters in object-oriented programs is to ensure data encapsulation. Private variables in python are not actually hidden fields like in other object oriented languages. Getters and Setters in python are often used when:\n",
    "\n",
    "We use getters & setters to add validation logic around getting and setting a value.\n",
    "To avoid direct access of a class field i.e. private variables cannot be accessed directly or modified by external user.\n",
    "\n",
    "example:"
   ]
  },
  {
   "cell_type": "code",
   "execution_count": 74,
   "id": "aa7b0448-2f9d-4db7-9a40-8ba3bb67b2e1",
   "metadata": {},
   "outputs": [
    {
     "name": "stdout",
     "output_type": "stream",
     "text": [
      "Sonu\n",
      "20\n"
     ]
    }
   ],
   "source": [
    "class Person:\n",
    "    def __init__(self, name, age):\n",
    "        self._name = name\n",
    "        self._age = age\n",
    "    \n",
    "    def get_name(self):\n",
    "        return self._name\n",
    "    \n",
    "    def set_name(self, name):\n",
    "        self._name = name\n",
    "    \n",
    "    def get_age(self):\n",
    "        return self._age\n",
    "    \n",
    "    def set_age(self, age):\n",
    "        self._age = age\n",
    "        \n",
    "person1 = Person(\"Sonu\", 10)\n",
    "\n",
    "print(person1.get_name()) \n",
    "\n",
    "person1.set_age(20)\n",
    "\n",
    "print(person1.get_age()) \n"
   ]
  },
  {
   "cell_type": "markdown",
   "id": "c5bc5577-475a-4c0d-93e3-8cf347f48b20",
   "metadata": {},
   "source": [
    "#### Q5.What is method overriding in python? Write a python code to demonstrate method overriding."
   ]
  },
  {
   "cell_type": "markdown",
   "id": "4f4f5b46-06d5-4485-8411-b1aa656226fd",
   "metadata": {},
   "source": [
    "Method overriding is an ability of any object-oriented programming language that allows a subclass or child class to provide a specific implementation of a method that is already provided by one of its super-classes or parent classes. When a method in a subclass has the same name, same parameters or signature and same return type(or sub-type) as a method in its super-class, then the method in the subclass is said to override the method in the super-class.\n",
    "\n",
    "example:"
   ]
  },
  {
   "cell_type": "code",
   "execution_count": 77,
   "id": "0125feb4-c54c-45bc-b626-f456bf713689",
   "metadata": {},
   "outputs": [
    {
     "name": "stdout",
     "output_type": "stream",
     "text": [
      "The animal makes a sound.\n",
      "The dog barks.\n",
      "The cat meows.\n"
     ]
    }
   ],
   "source": [
    "class Animal:\n",
    "    def make_sound(self):\n",
    "        print(\"The animal makes a sound.\")\n",
    "\n",
    "class Dog(Animal):\n",
    "    def make_sound(self):\n",
    "        print(\"The dog barks.\")\n",
    "\n",
    "class Cat(Animal):\n",
    "    def make_sound(self):\n",
    "        print(\"The cat meows.\")\n",
    "\n",
    "\n",
    "animal = Animal()\n",
    "animal.make_sound()\n",
    "\n",
    "dog = Dog()\n",
    "dog.make_sound()\n",
    "\n",
    "cat = Cat()\n",
    "cat.make_sound()\n"
   ]
  },
  {
   "cell_type": "code",
   "execution_count": null,
   "id": "8d30fbcb-e63e-441b-bc75-e949fd6bee8b",
   "metadata": {},
   "outputs": [],
   "source": []
  }
 ],
 "metadata": {
  "kernelspec": {
   "display_name": "Python 3 (ipykernel)",
   "language": "python",
   "name": "python3"
  },
  "language_info": {
   "codemirror_mode": {
    "name": "ipython",
    "version": 3
   },
   "file_extension": ".py",
   "mimetype": "text/x-python",
   "name": "python",
   "nbconvert_exporter": "python",
   "pygments_lexer": "ipython3",
   "version": "3.10.8"
  }
 },
 "nbformat": 4,
 "nbformat_minor": 5
}
