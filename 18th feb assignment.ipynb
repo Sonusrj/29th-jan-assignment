{
 "cells": [
  {
   "cell_type": "markdown",
   "id": "ae1b4136-57ef-4cba-8a17-dedf37a3b1a4",
   "metadata": {},
   "source": [
    "#### Q1. What is an API? Give an example, where an API is used in real life."
   ]
  },
  {
   "cell_type": "markdown",
   "id": "2425ae11-4c01-4d98-a1e6-3c68a8265fdf",
   "metadata": {},
   "source": [
    "`API`: API stands for application programming interface, it is software interface that helps in connecting between computer and computer programs. \n",
    "\n",
    "`example`: API's are uesd almost every where on the web ,they are all aound us, For example API is used in online shopping platforms where a user oreders a product and then to payment process the API is used to communicate with payment gateway to process the payment. The api sends information about user's order and  payment information to the payment gatway, which then process the payment and sends back a response to website."
   ]
  },
  {
   "cell_type": "markdown",
   "id": "e9cef9e3-35e0-4576-ba32-cb793202bcdf",
   "metadata": {},
   "source": [
    "#### Q2. Give advantages and disadvantages of using API."
   ]
  },
  {
   "cell_type": "markdown",
   "id": "0681dcdd-93ac-4312-8439-427cd6e85c40",
   "metadata": {},
   "source": [
    "`Advantages`: \n",
    "1) Improved Efficency : APIs enable different software application to communicate and share data with each other , leading to increased efficiency and productivity.\n",
    "2) Flexibility: APIs allows developers to create new applications that can use the feature and data of other application, making it easier to create complex sysytem.\n",
    "3) Scalibility: APIs allow businesses to scale their application by creating new feature and services that can be easily integrated onto existing application\n",
    "\n",
    "`Disadvantages`: \n",
    "1) Security concerns: APIs can introduce to security risks since they provide a direct link between different application system.\n",
    "2) Complexity : Using Api requires technical knowledge and expertise, which can be barrier for non-technical user."
   ]
  },
  {
   "cell_type": "markdown",
   "id": "be98e0ac-c17f-4bb6-b401-ffb269ebb384",
   "metadata": {},
   "source": [
    "#### Q3. What is a Web API? Differentiate between API and Web API."
   ]
  },
  {
   "cell_type": "markdown",
   "id": "c7e59170-2d06-460e-ad7f-fd60a82f3d54",
   "metadata": {},
   "source": [
    "`Web API`: A web api is type of API that uses HTTP or HTTPS protocols to communicate with web-based software applicatons. It is essentially a set of protocols and tools for building software application that allows web application to interact with each other over the internet.\n",
    "\n",
    "`Difference`:\n",
    "1) The main difference between API and Web API is that APIs can be used to enable communication between any two software applications, whereas Web APIs are specifically designed to allow communication between web-based software applications.\n",
    "\n",
    "2) APIs can be used for various purposes, including communication between desktop and mobile applications, or between server-side applications. On the other hand, Web APIs are primarily used for enabling communication between web-based applications, such as web browsers, web servers, and web applications.\n",
    "\n",
    "3) Another key difference between API and Web API is the protocol used for communication. While APIs can use a variety of protocols for communication, including TCP/IP, FTP, and SMTP, Web APIs use HTTP or HTTPS protocols for communication."
   ]
  },
  {
   "cell_type": "markdown",
   "id": "be9bcb44-4ae4-4d51-b613-fb467775ba15",
   "metadata": {},
   "source": [
    "#### Q4. Explain REST and SOAP Architecture. Mention shortcomings of SOAP."
   ]
  },
  {
   "cell_type": "markdown",
   "id": "fcbbdcb7-e22e-4fed-a4c1-ccce43034963",
   "metadata": {},
   "source": [
    "`REST`:\n",
    "REST stands for Representational State Tranfer,it is an architectural style that is based on the HTTP protocol. It is a simple and lightweight approach to building web services that uses HTTP formats (GET, POST, PUT, DELETE) to interact with resources, typically represented using JSON or XML. RESTful web services are designed to be scalable, reliable, and easy to use.\n",
    "\n",
    "`SOAP`:\n",
    "SOAP stands for Simple Object Acess Protocol It is an XML-based protocol that uses HTTP or HTTPS as a transport protocol. SOAP messages are typically larger and more complex than REST messages and include information about message format, security, and error handling.\n",
    "\n",
    "`Shortcoming of SOAP`:\n",
    "1) Performance: SOAP messages are typically larger and more complex than REST messages, which can lead to slower performance, especially over slow or unreliable network connections.\n",
    "2) Caching: SOAP does not support caching, which can lead to slower performance and increased server load."
   ]
  },
  {
   "cell_type": "markdown",
   "id": "d4ccfdd9-f639-4f08-8eb9-742c92cc7a89",
   "metadata": {},
   "source": [
    "#### Q5. Differentiate between REST and SOAP"
   ]
  },
  {
   "cell_type": "markdown",
   "id": "195be00e-df93-4a37-9562-ea7d877c1b5a",
   "metadata": {},
   "source": [
    "`REST`:\n",
    "1) REST is a client-server architecture that uses the HTTP protocol for communication between the client and server.\n",
    "2) REST uses simple data formats such as JSON or XML for message exchange.\n",
    "3) RESTful web services are designed to be scalable, as they use a stateless client-server architecture that can handle large numbers of client requests.\n",
    "\n",
    "`SOAP`:\n",
    "1) SOAP  is a messaging protocol that can be used with a variety of transport protocols, including HTTP, SMTP, and TCP.\n",
    "2) SOAP uses XML exclusively for message exchange, which can make it more difficult to read.\n",
    "3) SOAP-based web services can be less scalable, as they require more resources and processing power due to their larger message size and more complex structure."
   ]
  },
  {
   "cell_type": "code",
   "execution_count": null,
   "id": "ad9765c7-4304-41aa-85aa-5295e8b41e63",
   "metadata": {},
   "outputs": [],
   "source": []
  }
 ],
 "metadata": {
  "kernelspec": {
   "display_name": "Python 3 (ipykernel)",
   "language": "python",
   "name": "python3"
  },
  "language_info": {
   "codemirror_mode": {
    "name": "ipython",
    "version": 3
   },
   "file_extension": ".py",
   "mimetype": "text/x-python",
   "name": "python",
   "nbconvert_exporter": "python",
   "pygments_lexer": "ipython3",
   "version": "3.10.8"
  }
 },
 "nbformat": 4,
 "nbformat_minor": 5
}
