{
 "cells": [
  {
   "cell_type": "markdown",
   "id": "0b33a754-622e-4e10-a395-aa8ee4a46497",
   "metadata": {},
   "source": [
    "#### Q1. Which function is used to open a file? What are the different modes of opening a file? Explain each mode of file opening."
   ]
  },
  {
   "cell_type": "markdown",
   "id": "33ae3f20-2e59-4393-9e25-5b172af5f830",
   "metadata": {},
   "source": [
    ". The open() and with open () are the two fumctions in python to open a file.\n",
    "\n",
    ". The follwing are different modes of opening a file:\n",
    "\n",
    "'r'- It is used for reading.\n",
    "\n",
    "'w'- This mode is for writting,by creating a new file if not exists or truncates the file if it exists.\n",
    "\n",
    "'x' - opens a file for exclusive creation if the file already exits, the operation fails.\n",
    "\n",
    "'a' - opens a file for appending at the end of the file without truncating it . creates a new file if it does not exist.\n",
    "\n",
    "'t' - open in text mode\n",
    "\n",
    "'b'- open in binary mode\n",
    "\n",
    "'+' - open a file for updating\n",
    "\n"
   ]
  },
  {
   "cell_type": "markdown",
   "id": "68a15663-10a8-4829-9de7-46a2509670ba",
   "metadata": {},
   "source": [
    "#### Q2. Why close() function is used? Why is it important to close a file?"
   ]
  },
  {
   "cell_type": "markdown",
   "id": "efa13a66-bec5-469b-b3d5-ee83902d1840",
   "metadata": {},
   "source": [
    "The close() function is used to close the file that has been opened with open() function.\n",
    "\n",
    "When we use open() function it is very important to close it because it takes some resources of memory . by using close() a file will free up the resources  that we tied with the file\n",
    "\n"
   ]
  },
  {
   "cell_type": "markdown",
   "id": "96ac409c-c470-4a10-b4e8-c122e66a6e64",
   "metadata": {},
   "source": [
    "#### Q3. Write a python program to create a text file. Write ‘I want to become a Data Scientist’ in that file. Then close the file. Open this file and read the content of the file."
   ]
  },
  {
   "cell_type": "code",
   "execution_count": 56,
   "id": "b8e5960f-555f-4a69-8a6c-e3b61332e421",
   "metadata": {},
   "outputs": [
    {
     "data": {
      "text/plain": [
       "'I want to become a Data Scientist'"
      ]
     },
     "execution_count": 56,
     "metadata": {},
     "output_type": "execute_result"
    }
   ],
   "source": [
    "f = open(\"file.txt\", 'w')\n",
    "f.write(\"I want to become a Data Scientist\")\n",
    "f.close()\n",
    "\n",
    "content= open(\"file.txt\", 'r')\n",
    "content.read()\n",
    "    "
   ]
  },
  {
   "cell_type": "code",
   "execution_count": 57,
   "id": "946a7bc1-8a46-44f3-bdd5-ba2220b49640",
   "metadata": {},
   "outputs": [
    {
     "name": "stdout",
     "output_type": "stream",
     "text": [
      "I want to become a Data Scientist\n"
     ]
    }
   ],
   "source": [
    "# using with open\n",
    "\n",
    "with open (\"new.txt\", 'w') as f:\n",
    "    f.write(\"I want to become a Data Scientist\")\n",
    "    \n",
    "with open (\"new.txt\", 'r') as f:\n",
    "    print(f.read())\n",
    "    "
   ]
  },
  {
   "cell_type": "markdown",
   "id": "e3c60ac4-5e8a-4388-beca-745ac9450a1b",
   "metadata": {},
   "source": [
    "#### Q4. Explain the following with python code: read(), readline() and readlines()."
   ]
  },
  {
   "cell_type": "code",
   "execution_count": 58,
   "id": "00a15f36-b961-4edf-a5d0-59155644445c",
   "metadata": {},
   "outputs": [
    {
     "data": {
      "text/plain": [
       "'This method reads entire content of file and return then in a string. if read(n) is provided it reads and return n charaters as string.\\n every line in included in read() method'"
      ]
     },
     "execution_count": 58,
     "metadata": {},
     "output_type": "execute_result"
    }
   ],
   "source": [
    "# read() : This method reads entire content of file and return then in a string. if read(n) is provided it reads and return n charaters as string\n",
    "\n",
    "f = open(\"read.txt\", 'w')\n",
    "f.write(\"\"\"This method reads entire content of file and return then in a string. if read(n) is provided it reads and return n charaters as string.\n",
    " every line in included in read() method\"\"\")\n",
    "f.close()\n",
    "r = open(\"read.txt\", 'r')\n",
    "r.read()\n"
   ]
  },
  {
   "cell_type": "code",
   "execution_count": 59,
   "id": "549dd9c1-4174-489d-804c-de4b76c698bc",
   "metadata": {},
   "outputs": [
    {
     "data": {
      "text/plain": [
       "'This method reads a single line from a file and returns it as string. \\n'"
      ]
     },
     "execution_count": 59,
     "metadata": {},
     "output_type": "execute_result"
    }
   ],
   "source": [
    "# readline : This method reads a single line from a file and returns it as string. The next time it's called it will read next line in the file.ans so on until the end of the file is reached.\n",
    "\n",
    "f = open(\"lines.txt\", 'w')\n",
    "f.write(\"\"\"This method reads a single line from a file and returns it as string. \n",
    "The next time it's called it will read next line in the file.ans so on until the end of the file is reached.\"\"\")\n",
    "f.close()\n",
    "r = open(\"lines.txt\", 'r')\n",
    "r.readline()\n",
    "\n"
   ]
  },
  {
   "cell_type": "code",
   "execution_count": 60,
   "id": "fa6ec2ea-9c26-428c-a315-d6e9419df9f2",
   "metadata": {},
   "outputs": [
    {
     "data": {
      "text/plain": [
       "['This method reads all lines from a file and returns them as list of strings']"
      ]
     },
     "execution_count": 60,
     "metadata": {},
     "output_type": "execute_result"
    }
   ],
   "source": [
    "# readlines() : This method reads all line from a file and returns them as list of strings.\n",
    "f = open(\"list.txt\", 'w')\n",
    "f.write(\"This method reads all lines from a file and returns them as list of strings\")\n",
    "f.close()\n",
    "r = open(\"list.txt\", 'r')\n",
    "r.readlines()"
   ]
  },
  {
   "cell_type": "markdown",
   "id": "77e0bf8b-f62a-4291-a98f-a3c6eef156e7",
   "metadata": {},
   "source": [
    "#### Q5. Explain why with statement is used with open(). What is the advantage of using with statement and open() together ?"
   ]
  },
  {
   "cell_type": "markdown",
   "id": "bed77355-3a9e-45ae-bfe1-3c1f8976f9ac",
   "metadata": {},
   "source": [
    "It is used to create a context within which the file is opened and then automatically closed when the context is exited. it done through indentation. \n",
    "The with statement along with open() function helps us to automatically close a file once it's done being used. by using with open () we don't have to use close it using close().\n",
    "\n",
    "`Advantages:-` \n",
    "simplifies our code.\n",
    "\n",
    "By Using with open() , it closes the file automatically.\n",
    "\n",
    "We don't have to use the close() function.\n"
   ]
  },
  {
   "cell_type": "markdown",
   "id": "db1e15e6-81e2-468b-8bc3-ee53d16131d1",
   "metadata": {},
   "source": [
    "#### Q6. Explain the write() and writelines() functions. Give a suitable example."
   ]
  },
  {
   "cell_type": "markdown",
   "id": "91590e3b-957c-4abd-a2df-8c50af0ae83a",
   "metadata": {},
   "source": [
    "`write() :`  This function is used to write a string of character to a file. the write() function return the number of character that were written to the file.\n",
    "\n",
    "`writeline() :` This function is used to write a list of string to a file."
   ]
  },
  {
   "cell_type": "markdown",
   "id": "c8e375fe-0496-4888-af95-cadcc4896356",
   "metadata": {},
   "source": [
    "`example :`"
   ]
  },
  {
   "cell_type": "code",
   "execution_count": 61,
   "id": "6d832527-4fde-4bd3-bcf8-a937a9e67a41",
   "metadata": {},
   "outputs": [
    {
     "name": "stdout",
     "output_type": "stream",
     "text": [
      "this will take content as string an will write it in the file\n"
     ]
    }
   ],
   "source": [
    "#write()\n",
    "with open(\"with.txt\", 'w') as f :\n",
    "    f.write(\"this will take content as string an will write it in the file\")\n",
    "with open(\"with.txt\", 'r') as f:\n",
    "    print(f.read())"
   ]
  },
  {
   "cell_type": "code",
   "execution_count": 62,
   "id": "33985a9b-15b7-4bf0-a0f7-fb35d5c3bf01",
   "metadata": {},
   "outputs": [
    {
     "name": "stdout",
     "output_type": "stream",
     "text": [
      "this will take content as list and it will write it in file\n"
     ]
    }
   ],
   "source": [
    "# writline()\n",
    "with open(\"withline.txt\", 'w') as f :\n",
    "    f.writelines([\"this will take content as list and it will write it in file\"])\n",
    "with open(\"withline.txt\", 'r') as f:\n",
    "    print(f.read())"
   ]
  },
  {
   "cell_type": "code",
   "execution_count": null,
   "id": "a657bd9e-336c-4e77-acf0-85e9f15afab6",
   "metadata": {},
   "outputs": [],
   "source": []
  },
  {
   "cell_type": "code",
   "execution_count": null,
   "id": "46c0ec2a-ebf8-45b0-a8d5-a5497b068000",
   "metadata": {},
   "outputs": [],
   "source": []
  }
 ],
 "metadata": {
  "kernelspec": {
   "display_name": "Python 3 (ipykernel)",
   "language": "python",
   "name": "python3"
  },
  "language_info": {
   "codemirror_mode": {
    "name": "ipython",
    "version": 3
   },
   "file_extension": ".py",
   "mimetype": "text/x-python",
   "name": "python",
   "nbconvert_exporter": "python",
   "pygments_lexer": "ipython3",
   "version": "3.10.8"
  }
 },
 "nbformat": 4,
 "nbformat_minor": 5
}
