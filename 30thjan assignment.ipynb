{
 "cells": [
  {
   "cell_type": "markdown",
   "id": "0844b986-ed15-4aba-9dc7-38eddafb9552",
   "metadata": {},
   "source": [
    "Q1."
   ]
  },
  {
   "cell_type": "code",
   "execution_count": 10,
   "id": "a2c37078-7480-467f-85eb-6933d8d2d74d",
   "metadata": {},
   "outputs": [
    {
     "name": "stdin",
     "output_type": "stream",
     "text": [
      "enter your marks 93\n"
     ]
    },
    {
     "name": "stdout",
     "output_type": "stream",
     "text": [
      "your grade is A\n"
     ]
    }
   ],
   "source": [
    "marks = int(input(\"enter your marks\"))\n",
    "if marks>90 and marks <=100:\n",
    "    print(\"your grade is A\")\n",
    "elif marks >80 and marks <=90:\n",
    "    print(\"your grade is B\")\n",
    "elif marks >=60 and marks <=80:\n",
    "    print(\"your grade is C\")\n",
    "else:\n",
    "    print(\"your grade is D\")\n",
    "    "
   ]
  },
  {
   "cell_type": "markdown",
   "id": "126fe634-6f49-4e1c-880d-59117ef578cc",
   "metadata": {},
   "source": [
    "Q2\n"
   ]
  },
  {
   "cell_type": "code",
   "execution_count": 13,
   "id": "50a4bebd-2a81-4d17-a902-0a8f48a900b5",
   "metadata": {},
   "outputs": [
    {
     "name": "stdin",
     "output_type": "stream",
     "text": [
      "enter bike cost price 40000\n"
     ]
    },
    {
     "name": "stdout",
     "output_type": "stream",
     "text": [
      "At this price tax will be 5%\n"
     ]
    }
   ],
   "source": [
    "price= int(input(\"enter bike cost price\"))\n",
    "if price > 100000:\n",
    "    print(\"At this price tax will be 15%\")\n",
    "elif price > 50000 and price <=100000:\n",
    "    print(\"At this price tax will be 10%\")\n",
    "else:\n",
    "    print(\"At this price tax will be 5%\")"
   ]
  },
  {
   "cell_type": "markdown",
   "id": "1ae1a953-a6a7-479e-9c8b-9805c19e3215",
   "metadata": {},
   "source": [
    "Q3"
   ]
  },
  {
   "cell_type": "code",
   "execution_count": 21,
   "id": "84db2e0a-2809-42d7-8e66-c31ef8d8a868",
   "metadata": {},
   "outputs": [
    {
     "name": "stdin",
     "output_type": "stream",
     "text": [
      "Enter city name to know monument Delhi\n"
     ]
    },
    {
     "name": "stdout",
     "output_type": "stream",
     "text": [
      "Red for\n"
     ]
    }
   ],
   "source": [
    "city=input(\"Enter city name to know monument\")\n",
    "if city==\"Delhi\":\n",
    "    print(\"Red for\")\n",
    "elif city==\"Agra\":\n",
    "    print(\"Taj mahal\")\n",
    "elif city== \"Jaipur\":\n",
    "    print(\"Jal mahal\")\n",
    "else:\n",
    "    print(\"enter only valid name\")"
   ]
  },
  {
   "cell_type": "markdown",
   "id": "e86d1067-2281-4c2b-b753-94eb2f1bd6f1",
   "metadata": {},
   "source": [
    "Q4"
   ]
  },
  {
   "cell_type": "code",
   "execution_count": null,
   "id": "80a79ce1-9914-4a2c-90d4-729eb33cf0c7",
   "metadata": {},
   "outputs": [
    {
     "name": "stdin",
     "output_type": "stream",
     "text": [
      "Enter a number:  6\n"
     ]
    },
    {
     "name": "stdout",
     "output_type": "stream",
     "text": [
      "0\n"
     ]
    }
   ],
   "source": [
    "number = int(input(\"Enter a number: \"))\n",
    "count = 0\n",
    "while number > 10:\n",
    "    number /= 3\n",
    "    count += 1\n",
    "\n",
    "print(count)"
   ]
  },
  {
   "cell_type": "markdown",
   "id": "7e530bf1-ffb0-4024-843e-69ebd055588a",
   "metadata": {},
   "source": [
    "Q5"
   ]
  },
  {
   "cell_type": "markdown",
   "id": "74122944-7ba9-4aa3-bf64-ac12629ce160",
   "metadata": {},
   "source": [
    "Why:\n",
    "\n",
    "A while loop is used in python to do task or operations repeatedly as long as condition met and \n",
    "is valide.\n",
    "condition is checked and if it is True then the code in the loop is executed and if it False the\n",
    "loop will be terminated.\n",
    "\n",
    "when:\n",
    "\n",
    "while is used when we want repeat certain condition until it is valid.\n",
    "it is used when we don't know how many repeatation or range is required."
   ]
  },
  {
   "cell_type": "markdown",
   "id": "3ae8360c-e367-463d-837d-774c4adf2f91",
   "metadata": {},
   "source": [
    "Q6"
   ]
  },
  {
   "cell_type": "code",
   "execution_count": null,
   "id": "a9777847-08cd-41da-9e13-ec64e8c1d051",
   "metadata": {},
   "outputs": [
    {
     "name": "stdout",
     "output_type": "stream",
     "text": [
      "#\n",
      "##\n",
      "###\n",
      "####\n",
      "#####\n"
     ]
    }
   ],
   "source": [
    "# pattern one\n",
    "i=1\n",
    "while i<=5:\n",
    "    j=1\n",
    "    while j<=i:\n",
    "        print(\"#\",end=\"\")\n",
    "        j+=1\n",
    "    print()\n",
    "    i+=1\n",
    "\n"
   ]
  },
  {
   "cell_type": "code",
   "execution_count": null,
   "id": "ee39a039-62c8-46ab-94a1-10d0c2fe1d46",
   "metadata": {},
   "outputs": [
    {
     "name": "stdout",
     "output_type": "stream",
     "text": [
      "@@@@@\n",
      "@@@@\n",
      "@@@\n",
      "@@\n",
      "@\n"
     ]
    }
   ],
   "source": [
    "#2nd pattern\n",
    "i = 5\n",
    "while i >= 1:\n",
    "    j = 1\n",
    "    while j <= i:\n",
    "        print(\"@\", end=\"\")\n",
    "        j += 1\n",
    "    print()\n",
    "    i -= 1\n"
   ]
  },
  {
   "cell_type": "code",
   "execution_count": null,
   "id": "89d4fbf6-86a4-45fb-ba86-74efff318df4",
   "metadata": {},
   "outputs": [
    {
     "name": "stdout",
     "output_type": "stream",
     "text": [
      "*****\n",
      " ****\n",
      "  ***\n",
      "   **\n",
      "    *\n"
     ]
    }
   ],
   "source": [
    "#3rd pattern\n",
    "i = 5\n",
    "while i >= 1:\n",
    "    j = 5\n",
    "    while j > i:\n",
    "        print(\" \", end=\"\")\n",
    "        j -= 1\n",
    "    k = 1\n",
    "    while k <= i:\n",
    "        print(\"*\", end=\"\")\n",
    "        k += 1\n",
    "    print()\n",
    "    i -= 1\n"
   ]
  },
  {
   "cell_type": "markdown",
   "id": "cfbe9ebc-8ce5-4aa0-93fd-eb6395366458",
   "metadata": {},
   "source": [
    "Q7"
   ]
  },
  {
   "cell_type": "code",
   "execution_count": 1,
   "id": "4a04bcf9-2251-4df0-b842-141cd9bba5c5",
   "metadata": {},
   "outputs": [
    {
     "name": "stdout",
     "output_type": "stream",
     "text": [
      "10\n",
      "9\n",
      "8\n",
      "7\n",
      "6\n",
      "5\n",
      "4\n",
      "3\n",
      "2\n",
      "1\n"
     ]
    }
   ],
   "source": [
    "number = 10\n",
    "while number >= 1:\n",
    "    print(number)\n",
    "    number -= 1\n"
   ]
  },
  {
   "cell_type": "code",
   "execution_count": null,
   "id": "5d5c0729-4fd2-44c9-ad26-6c4a06ba0220",
   "metadata": {},
   "outputs": [],
   "source": []
  }
 ],
 "metadata": {
  "kernelspec": {
   "display_name": "Python 3 (ipykernel)",
   "language": "python",
   "name": "python3"
  },
  "language_info": {
   "codemirror_mode": {
    "name": "ipython",
    "version": 3
   },
   "file_extension": ".py",
   "mimetype": "text/x-python",
   "name": "python",
   "nbconvert_exporter": "python",
   "pygments_lexer": "ipython3",
   "version": "3.10.8"
  }
 },
 "nbformat": 4,
 "nbformat_minor": 5
}
