{
 "cells": [
  {
   "cell_type": "markdown",
   "id": "2124a7a8-02c6-4b28-83ca-f473e1f4d103",
   "metadata": {},
   "source": [
    "#### Q1. What is an Exception in python ? Write the difference between Exception and syntax errors"
   ]
  },
  {
   "cell_type": "markdown",
   "id": "1ed85b86-2f98-4327-9c26-a54fb5d38cc6",
   "metadata": {},
   "source": [
    "`Exception` : An exception in python ia an incident that happens while exceuting a program that causes a regular course of the programm's command to be disrupted. when exception occurs , an error message is raised that show shows information about error\n",
    "\n",
    "`Difference` : \n",
    "1) synatax error occurs when the code violates the rules of the python language.\n",
    "\n",
    "   ex) indentation error\n",
    "\n",
    "2) exception occurs during runtime , syantax errors occurs before the code is executed.\n",
    "\n",
    "   ex)ZeroDivison Error\n",
    "\n",
    "\n",
    "\n"
   ]
  },
  {
   "cell_type": "code",
   "execution_count": 33,
   "id": "a837e124-2af9-4a7f-98e5-0cdfd400640a",
   "metadata": {},
   "outputs": [
    {
     "name": "stdout",
     "output_type": "stream",
     "text": [
      "this is Exception division by zero\n"
     ]
    }
   ],
   "source": [
    "# exception \n",
    "try :\n",
    "        a =10/0\n",
    "except Exception as e:\n",
    "        print(\"this is Exception\",e)"
   ]
  },
  {
   "cell_type": "code",
   "execution_count": 34,
   "id": "17bd8572-65f9-4ea9-9ce4-4d26709fee20",
   "metadata": {},
   "outputs": [
    {
     "ename": "SyntaxError",
     "evalue": "expected ':' (744924783.py, line 2)",
     "output_type": "error",
     "traceback": [
      "\u001b[0;36m  Cell \u001b[0;32mIn[34], line 2\u001b[0;36m\u001b[0m\n\u001b[0;31m    if i in range(1,10)\u001b[0m\n\u001b[0m                       ^\u001b[0m\n\u001b[0;31mSyntaxError\u001b[0m\u001b[0;31m:\u001b[0m expected ':'\n"
     ]
    }
   ],
   "source": [
    "# syntax error\n",
    "if i in range(1,10)\n",
    "    print(i)"
   ]
  },
  {
   "cell_type": "markdown",
   "id": "20c66c2f-6c49-411e-ae5a-c64ab228930f",
   "metadata": {},
   "source": [
    "#### Q2. What happens when exception is not handled ? Explain with example."
   ]
  },
  {
   "cell_type": "markdown",
   "id": "5d4a1ac9-978f-453f-98cc-9e38d9711a22",
   "metadata": {},
   "source": [
    "If exception are not handled, it results in error message and the program terminates.\n",
    "\n",
    "`exampel`:"
   ]
  },
  {
   "cell_type": "code",
   "execution_count": 35,
   "id": "39578d0a-677a-4408-925c-bb284dd7b009",
   "metadata": {},
   "outputs": [
    {
     "name": "stdout",
     "output_type": "stream",
     "text": [
      "this is zero dividon error and it is handled by ZeroDivisonError exception\n",
      "And if did'nt used this error will show\n"
     ]
    }
   ],
   "source": [
    "try :\n",
    "    a = 10/0\n",
    "except ZeroDivisionError:\n",
    "    print(\"this is zero dividon error and it is handled by ZeroDivisonError exception\\nAnd if did'nt used this error will show\")"
   ]
  },
  {
   "cell_type": "markdown",
   "id": "8cff5da7-f781-449d-8cdb-6d370effdf89",
   "metadata": {},
   "source": [
    "#### Q3. Which python statemnts are used to catch and handle exceptions? Explain with and example"
   ]
  },
  {
   "cell_type": "markdown",
   "id": "d878ec3c-7ebf-4ef2-a8ae-9c086950edb7",
   "metadata": {},
   "source": [
    "In python `try`  and  `except` statements are used to handle exception and  `finally`  is also used which will be exucuted every time it is final block\n",
    "\n",
    "\n",
    "`example`:"
   ]
  },
  {
   "cell_type": "code",
   "execution_count": 36,
   "id": "77b291c4-84f3-4d42-af6b-cde40ae2bdeb",
   "metadata": {},
   "outputs": [
    {
     "name": "stdout",
     "output_type": "stream",
     "text": [
      "division not possible\n",
      "please use valid numbers\n"
     ]
    }
   ],
   "source": [
    "try:\n",
    "    10/0\n",
    "except ZeroDivisionError:\n",
    "    print('division not possible')\n",
    "finally:\n",
    "    print('please use valid numbers')"
   ]
  },
  {
   "cell_type": "markdown",
   "id": "c2c1bd1e-d0b5-4982-b03e-291e64ea3cc0",
   "metadata": {},
   "source": [
    "#### Q4. explain with example"
   ]
  },
  {
   "cell_type": "markdown",
   "id": "ad648823-c051-46c9-bb36-e5fd3ed26247",
   "metadata": {},
   "source": [
    "`a. try and else `\n",
    "\n",
    "In try and else , first try is executed and if there is no exception , the except block is ignored and then code enters the else block.\n"
   ]
  },
  {
   "cell_type": "code",
   "execution_count": 37,
   "id": "8129140f-4f16-45b3-b9a1-ef1a55a1fa7b",
   "metadata": {},
   "outputs": [
    {
     "name": "stdout",
     "output_type": "stream",
     "text": [
      "the result is 2.0\n",
      "you can't divide zero\n"
     ]
    }
   ],
   "source": [
    "def div(x,y):\n",
    "    try :\n",
    "        result = x/y\n",
    "    except ZeroDivisionError :\n",
    "        print(\"you can't divide zero\")\n",
    "    else:\n",
    "        print(\"the result is\",result)\n",
    "\n",
    "div(4,2)\n",
    "div(1,0)"
   ]
  },
  {
   "cell_type": "markdown",
   "id": "d1841493-20df-4501-82e5-d76fc55a2a49",
   "metadata": {},
   "source": [
    "`b.finally`\n",
    "\n",
    "The finally block is used when we want to execute something in any case , the finally block is always executed after try and except blocks.\n",
    "\n"
   ]
  },
  {
   "cell_type": "code",
   "execution_count": 38,
   "id": "00e429d0-b196-4e58-add2-4f540c08f44b",
   "metadata": {},
   "outputs": [
    {
     "name": "stdout",
     "output_type": "stream",
     "text": [
      "the result is  5.0\n",
      "this block will be executed every time\n",
      " zero cannot be divided by any \n",
      "this block will be executed every time\n"
     ]
    }
   ],
   "source": [
    "def div2(x,y):\n",
    "    try :\n",
    "        result = x/y\n",
    "    except ZeroDivisionError :\n",
    "        print(\" zero cannot be divided by any \")\n",
    "    else :\n",
    "        print(\"the result is \", result)\n",
    "    finally :\n",
    "        print(\"this block will be executed every time\")\n",
    "    \n",
    "div2(10,2)\n",
    "div2(1,0)"
   ]
  },
  {
   "cell_type": "markdown",
   "id": "54488c41-088a-463a-8b3f-ed7ac2f04329",
   "metadata": {},
   "source": [
    "#### Q5. What ar custom Exception in python ? Why do we need Custom Exception ? Explain with example."
   ]
  },
  {
   "cell_type": "markdown",
   "id": "1217816c-4ce1-4591-88ce-68e39638c00b",
   "metadata": {},
   "source": [
    "`.` Custom Exception  in python are exceptions that are defined by the user rather than python . these are not bult-in exception.\n",
    "\n",
    "`.` We need custom exception in python when we want to handle errors in a specific way that are not in built- in exceptions.\n",
    "\n",
    "`.` To create a custom exception we have to define a class that inherits the buil-in Exception class.\n",
    "\n",
    "`example`:\n"
   ]
  },
  {
   "cell_type": "code",
   "execution_count": 39,
   "id": "62354000-28d8-4acc-8ddb-8e33766bd1fc",
   "metadata": {},
   "outputs": [
    {
     "name": "stdout",
     "output_type": "stream",
     "text": [
      "the number is 5\n",
      "Here we raised custom exception in case of negative numbers \n"
     ]
    }
   ],
   "source": [
    "class NegativeNumberError(Exception):\n",
    "    pass\n",
    "def get_num(n):\n",
    "    if n < 0:\n",
    "        raise NegativeNumberError(\"the num nust be positive\")\n",
    "    print(\"the number is\",n)\n",
    "try:\n",
    "    get_num(5)\n",
    "    get_num(-20)\n",
    "    get_num(9)\n",
    "except NegativeNumberError:\n",
    "    \n",
    "    print(\"Here we raised custom exception in case of negative numbers \")\n",
    "        "
   ]
  },
  {
   "cell_type": "markdown",
   "id": "a7f7cfb2-53b2-4176-b3ad-8616d6920f98",
   "metadata": {},
   "source": [
    "#### Q6. Create a custom exception class. use this class to handle an exception\n"
   ]
  },
  {
   "cell_type": "code",
   "execution_count": 40,
   "id": "d8743f92-fb48-4d1b-8152-a559bc3ec563",
   "metadata": {},
   "outputs": [
    {
     "name": "stdin",
     "output_type": "stream",
     "text": [
      "Enter year of Birth 1991\n"
     ]
    },
    {
     "name": "stdout",
     "output_type": "stream",
     "text": [
      "Age is not valid for job\n"
     ]
    }
   ],
   "source": [
    "\n",
    "class AgeError(Exception):\n",
    "    pass\n",
    "\n",
    "year = int(input(\"Enter year of Birth\"))\n",
    "\n",
    "age = 2023-year \n",
    "try : \n",
    "    if age <=30 and age >20:\n",
    "        print(\"The age is valid to enter job\")\n",
    "    else:\n",
    "        raise AgeError\n",
    "except AgeError:\n",
    "    print(\"Age is not valid for job\")\n",
    "    "
   ]
  },
  {
   "cell_type": "code",
   "execution_count": null,
   "id": "3db45fb8-a2d1-4d1c-8982-9d7e3dd38629",
   "metadata": {},
   "outputs": [],
   "source": []
  },
  {
   "cell_type": "code",
   "execution_count": null,
   "id": "4c278a75-851d-427b-b16a-ff8a6df470de",
   "metadata": {},
   "outputs": [],
   "source": []
  }
 ],
 "metadata": {
  "kernelspec": {
   "display_name": "Python 3 (ipykernel)",
   "language": "python",
   "name": "python3"
  },
  "language_info": {
   "codemirror_mode": {
    "name": "ipython",
    "version": 3
   },
   "file_extension": ".py",
   "mimetype": "text/x-python",
   "name": "python",
   "nbconvert_exporter": "python",
   "pygments_lexer": "ipython3",
   "version": "3.10.8"
  }
 },
 "nbformat": 4,
 "nbformat_minor": 5
}
